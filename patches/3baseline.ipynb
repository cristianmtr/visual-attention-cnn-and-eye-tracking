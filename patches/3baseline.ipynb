{
 "cells": [
  {
   "cell_type": "markdown",
   "metadata": {},
   "source": [
    "# BASELINE MODEL"
   ]
  },
  {
   "cell_type": "code",
   "execution_count": 28,
   "metadata": {},
   "outputs": [],
   "source": [
    "%matplotlib inline\n",
    "from matplotlib import pyplot as plt\n",
    "import os\n",
    "import numpy as np\n",
    "import scipy\n",
    "import sys\n",
    "from scipy import io\n",
    "import math\n",
    "import random\n",
    "import keras\n",
    "from sklearn import preprocessing\n",
    "from glob import glob\n",
    "import tqdm\n",
    "\n",
    "import matplotlib\n",
    "matplotlib.rcParams['figure.figsize'] = [12, 12]\n"
   ]
  },
  {
   "cell_type": "markdown",
   "metadata": {},
   "source": [
    "# GLOBALS"
   ]
  },
  {
   "cell_type": "code",
   "execution_count": 2,
   "metadata": {},
   "outputs": [],
   "source": [
    "POET_DIR = \"D:/data/POETdataset/\"\n",
    "PATCHES_FILE = os.path.join(POET_DIR, \"x.npy\")\n",
    "LABELS_FILE = os.path.join(POET_DIR, 'y.npy')\n",
    "pascal_images = os.path.join(POET_DIR, 'PascalImages')\n",
    "PATCH_SIZE = 32\n",
    "HALF_PATCH = PATCH_SIZE//2\n",
    "DATASET_SIZE = 6270\n",
    "VALIDATION_PERC = 0.2\n",
    "MAX_GAZE_POINTS = 3 # TEMPORARY\n",
    "MIN_GAZE_POINTS = 3\n",
    "VGG_NR_FEATURES = 512\n",
    "user_index = 0 # TEMPORARY\n",
    "BATCH_SIZE = 50\n",
    "IMG_SIZE = 224"
   ]
  },
  {
   "cell_type": "code",
   "execution_count": 3,
   "metadata": {},
   "outputs": [],
   "source": [
    "os.chdir(POET_DIR)"
   ]
  },
  {
   "cell_type": "markdown",
   "metadata": {},
   "source": [
    "# DATA "
   ]
  },
  {
   "cell_type": "code",
   "execution_count": 4,
   "metadata": {},
   "outputs": [],
   "source": [
    "classes = [a.split(\"_\")[1].split(\".mat\")[0] for a in glob(\"etData/*\")]\n",
    "idx2class = {i:c for i, c in enumerate(classes)}\n",
    "class2idx = {c:i for i, c in enumerate(classes)}"
   ]
  },
  {
   "cell_type": "code",
   "execution_count": 5,
   "metadata": {},
   "outputs": [],
   "source": [
    "learned_model = keras.applications.ResNet50(weights='imagenet', include_top=False, pooling='max')\n",
    "pp_func = keras.applications.resnet50.preprocess_input\n",
    "\n",
    "features_extractor_model = keras.models.Sequential()\n",
    "features_extractor_model.add(keras.layers.Lambda(pp_func,name='preprocessing',input_shape=(IMG_SIZE,IMG_SIZE,3)))\n",
    "features_extractor_model.add(learned_model)\n"
   ]
  },
  {
   "cell_type": "markdown",
   "metadata": {},
   "source": [
    "## We store the feature vectors for each image"
   ]
  },
  {
   "cell_type": "code",
   "execution_count": 6,
   "metadata": {},
   "outputs": [
    {
     "data": {
      "text/plain": [
       "['aeroplane',\n",
       " 'bicycle',\n",
       " 'boat',\n",
       " 'cat',\n",
       " 'cow',\n",
       " 'diningtable',\n",
       " 'dog',\n",
       " 'horse',\n",
       " 'motorbike',\n",
       " 'sofa']"
      ]
     },
     "execution_count": 6,
     "metadata": {},
     "output_type": "execute_result"
    }
   ],
   "source": [
    "classes"
   ]
  },
  {
   "cell_type": "markdown",
   "metadata": {},
   "source": [
    "### We ignore the items with too few fixations"
   ]
  },
  {
   "cell_type": "code",
   "execution_count": 7,
   "metadata": {},
   "outputs": [],
   "source": [
    "dropped_list = np.load('dropped_list.npy')"
   ]
  },
  {
   "cell_type": "code",
   "execution_count": 8,
   "metadata": {},
   "outputs": [],
   "source": [
    "dropped_list = [os.path.abspath(p) for p in dropped_list]"
   ]
  },
  {
   "cell_type": "code",
   "execution_count": 9,
   "metadata": {},
   "outputs": [
    {
     "name": "stderr",
     "output_type": "stream",
     "text": [
      "  0%|                                                                                                                                                          | 0/10 [00:00<?, ?it/s]"
     ]
    },
    {
     "name": "stdout",
     "output_type": "stream",
     "text": [
      "aeroplane\n",
      "666/666 [==============================] - 9s 14ms/step\n"
     ]
    },
    {
     "name": "stderr",
     "output_type": "stream",
     "text": [
      " 10%|██████████████▌                                                                                                                                   | 1/10 [00:11<01:45, 11.78s/it]"
     ]
    },
    {
     "name": "stdout",
     "output_type": "stream",
     "text": [
      "bicycle\n",
      "535/535 [==============================] - 5s 9ms/step\n"
     ]
    },
    {
     "name": "stderr",
     "output_type": "stream",
     "text": [
      " 20%|█████████████████████████████▏                                                                                                                    | 2/10 [00:19<01:24, 10.55s/it]"
     ]
    },
    {
     "name": "stdout",
     "output_type": "stream",
     "text": [
      "boat\n",
      "503/503 [==============================] - 4s 9ms/step\n"
     ]
    },
    {
     "name": "stderr",
     "output_type": "stream",
     "text": [
      " 30%|███████████████████████████████████████████▊                                                                                                      | 3/10 [00:26<01:05,  9.36s/it]"
     ]
    },
    {
     "name": "stdout",
     "output_type": "stream",
     "text": [
      "cat\n",
      "1050/1050 [==============================] - 9s 9ms/step\n"
     ]
    },
    {
     "name": "stderr",
     "output_type": "stream",
     "text": [
      " 40%|██████████████████████████████████████████████████████████▍                                                                                       | 4/10 [00:39<01:04, 10.67s/it]"
     ]
    },
    {
     "name": "stdout",
     "output_type": "stream",
     "text": [
      "cow\n",
      "301/301 [==============================] - 3s 10ms/step\n"
     ]
    },
    {
     "name": "stderr",
     "output_type": "stream",
     "text": [
      " 50%|█████████████████████████████████████████████████████████████████████████                                                                         | 5/10 [00:44<00:44,  8.81s/it]"
     ]
    },
    {
     "name": "stdout",
     "output_type": "stream",
     "text": [
      "diningtable\n",
      "498/498 [==============================] - 5s 9ms/step\n"
     ]
    },
    {
     "name": "stderr",
     "output_type": "stream",
     "text": [
      " 60%|███████████████████████████████████████████████████████████████████████████████████████▌                                                          | 6/10 [00:51<00:33,  8.28s/it]"
     ]
    },
    {
     "name": "stdout",
     "output_type": "stream",
     "text": [
      "dog\n",
      "1255/1255 [==============================] - 11s 9ms/step\n"
     ]
    },
    {
     "name": "stderr",
     "output_type": "stream",
     "text": [
      " 70%|██████████████████████████████████████████████████████████████████████████████████████████████████████▏                                           | 7/10 [01:08<00:32, 10.88s/it]"
     ]
    },
    {
     "name": "stdout",
     "output_type": "stream",
     "text": [
      "horse\n",
      "480/480 [==============================] - 4s 9ms/step\n"
     ]
    },
    {
     "name": "stderr",
     "output_type": "stream",
     "text": [
      " 80%|████████████████████████████████████████████████████████████████████████████████████████████████████████████████████▊                             | 8/10 [01:14<00:19,  9.56s/it]"
     ]
    },
    {
     "name": "stdout",
     "output_type": "stream",
     "text": [
      "motorbike\n",
      "509/509 [==============================] - 5s 10ms/step\n"
     ]
    },
    {
     "name": "stderr",
     "output_type": "stream",
     "text": [
      " 90%|███████████████████████████████████████████████████████████████████████████████████████████████████████████████████████████████████▍              | 9/10 [01:22<00:08,  8.89s/it]"
     ]
    },
    {
     "name": "stdout",
     "output_type": "stream",
     "text": [
      "sofa\n",
      "466/466 [==============================] - 4s 9ms/step\n"
     ]
    },
    {
     "name": "stderr",
     "output_type": "stream",
     "text": [
      "100%|█████████████████████████████████████████████████████████████████████████████████████████████████████████████████████████████████████████████████| 10/10 [01:28<00:00,  8.08s/it]\n"
     ]
    }
   ],
   "source": [
    "x = []\n",
    "y = []\n",
    "for i, cname in enumerate(tqdm.tqdm(classes)):\n",
    "    print(cname)\n",
    "    class_files = glob(\"PascalImages/%s*\" %cname)\n",
    "    class_files = [os.path.abspath(f) for f in class_files]\n",
    "    class_files = [f for f in class_files if f not in dropped_list]\n",
    "    files_loaded = [keras.preprocessing.image.img_to_array(\n",
    "        keras.preprocessing.image.load_img(file_, target_size=(IMG_SIZE, IMG_SIZE, 3))\n",
    "    ) \n",
    "                    for file_ in class_files\n",
    "                   ]\n",
    "    feature_vec = features_extractor_model.predict(np.array(files_loaded),verbose=1)\n",
    "    x.append(feature_vec)\n",
    "    y.append([class2idx[cname]]*len(class_files))\n",
    "x = np.concatenate(x)\n",
    "y = np.concatenate(y)\n",
    "                                                           "
   ]
  },
  {
   "cell_type": "code",
   "execution_count": 10,
   "metadata": {},
   "outputs": [
    {
     "data": {
      "text/plain": [
       "(6263, 2048)"
      ]
     },
     "execution_count": 10,
     "metadata": {},
     "output_type": "execute_result"
    }
   ],
   "source": [
    "x.shape"
   ]
  },
  {
   "cell_type": "code",
   "execution_count": 11,
   "metadata": {},
   "outputs": [
    {
     "data": {
      "text/plain": [
       "0"
      ]
     },
     "execution_count": 11,
     "metadata": {},
     "output_type": "execute_result"
    }
   ],
   "source": [
    "y[0]"
   ]
  },
  {
   "cell_type": "code",
   "execution_count": 12,
   "metadata": {},
   "outputs": [],
   "source": [
    "np.save('baselinemodel-images-features.npy',x)"
   ]
  },
  {
   "cell_type": "code",
   "execution_count": 13,
   "metadata": {},
   "outputs": [],
   "source": [
    "np.save('baselinemodel-labels.npy',y)"
   ]
  },
  {
   "cell_type": "code",
   "execution_count": 14,
   "metadata": {},
   "outputs": [
    {
     "data": {
      "text/plain": [
       "(array([ 666.,  535.,  503., 1050.,  301.,  498., 1255.,  480.,  509.,\n",
       "         466.]),\n",
       " array([0. , 0.9, 1.8, 2.7, 3.6, 4.5, 5.4, 6.3, 7.2, 8.1, 9. ]),\n",
       " <a list of 10 Patch objects>)"
      ]
     },
     "execution_count": 14,
     "metadata": {},
     "output_type": "execute_result"
    },
    {
     "data": {
      "image/png": "[encoded data removed]",
      "text/plain": [
       "<Figure size 432x288 with 1 Axes>"
      ]
     },
     "metadata": {},
     "output_type": "display_data"
    }
   ],
   "source": [
    "plt.hist(y)"
   ]
  },
  {
   "cell_type": "code",
   "execution_count": 15,
   "metadata": {},
   "outputs": [],
   "source": [
    "X_img = np.zeros((len(x), IMG_SIZE, IMG_SIZE, 3))"
   ]
  },
  {
   "cell_type": "code",
   "execution_count": 16,
   "metadata": {},
   "outputs": [],
   "source": [
    "from sklearn.preprocessing import OneHotEncoder"
   ]
  },
  {
   "cell_type": "code",
   "execution_count": 17,
   "metadata": {},
   "outputs": [
    {
     "name": "stderr",
     "output_type": "stream",
     "text": [
      "C:\\Anaconda3\\lib\\site-packages\\sklearn\\preprocessing\\_encoders.py:363: FutureWarning: The handling of integer data will change in version 0.22. Currently, the categories are determined based on the range [0, max(values)], while in the future they will be determined based on the unique values.\n",
      "If you want the future behaviour and silence this warning, you can specify \"categories='auto'\".\n",
      "In case you used a LabelEncoder before this OneHotEncoder to convert the categories to integers, then you can now use the OneHotEncoder directly.\n",
      "  warnings.warn(msg, FutureWarning)\n"
     ]
    }
   ],
   "source": [
    "enc = OneHotEncoder()\n",
    "y = y.reshape(-1,1)\n",
    "enc.fit(y)\n",
    "y_onehot = enc.transform(y)"
   ]
  },
  {
   "cell_type": "code",
   "execution_count": 18,
   "metadata": {},
   "outputs": [],
   "source": [
    "np.save('y.npy', y_onehot)"
   ]
  },
  {
   "cell_type": "code",
   "execution_count": 19,
   "metadata": {},
   "outputs": [
    {
     "data": {
      "text/plain": [
       "(6263, 2048)"
      ]
     },
     "execution_count": 19,
     "metadata": {},
     "output_type": "execute_result"
    }
   ],
   "source": [
    "x.shape"
   ]
  },
  {
   "cell_type": "code",
   "execution_count": 20,
   "metadata": {},
   "outputs": [],
   "source": [
    "from sklearn.model_selection import train_test_split"
   ]
  },
  {
   "cell_type": "code",
   "execution_count": 21,
   "metadata": {},
   "outputs": [],
   "source": [
    "X_train, X_test, y_train, y_test = train_test_split(x, y_onehot.todense(), test_size=0.1, stratify=y_onehot.todense())"
   ]
  },
  {
   "cell_type": "markdown",
   "metadata": {},
   "source": [
    "# MODEL"
   ]
  },
  {
   "cell_type": "code",
   "execution_count": 22,
   "metadata": {},
   "outputs": [],
   "source": [
    "model = keras.Sequential()\n",
    "model.add(keras.layers.Dense(units=128, activation='relu', input_shape=(2048,)))\n",
    "model.add(keras.layers.Dropout(0.4))\n",
    "model.add(keras.layers.Dense(units=10, activation='softmax'))\n",
    "optm = keras.optimizers.Adam()\n",
    "model.compile(loss='categorical_crossentropy',\n",
    "                optimizer=optm,\n",
    "                metrics=['accuracy'],)"
   ]
  },
  {
   "cell_type": "code",
   "execution_count": 23,
   "metadata": {},
   "outputs": [
    {
     "name": "stdout",
     "output_type": "stream",
     "text": [
      "Train on 5636 samples, validate on 627 samples\n",
      "Epoch 1/200\n",
      "5636/5636 [==============================] - 2s 333us/step - loss: 9.4495 - acc: 0.3817 - val_loss: 6.9487 - val_acc: 0.5040\n",
      "Epoch 2/200\n",
      "5636/5636 [==============================] - 1s 122us/step - loss: 2.0461 - acc: 0.5296 - val_loss: 0.8530 - val_acc: 0.7081\n",
      "Epoch 3/200\n",
      "5636/5636 [==============================] - 1s 127us/step - loss: 1.0495 - acc: 0.6334 - val_loss: 0.7930 - val_acc: 0.7129\n",
      "Epoch 4/200\n",
      "5636/5636 [==============================] - 1s 124us/step - loss: 0.8915 - acc: 0.6987 - val_loss: 0.7272 - val_acc: 0.7671\n",
      "Epoch 5/200\n",
      "5636/5636 [==============================] - 1s 127us/step - loss: 0.8150 - acc: 0.7163 - val_loss: 0.7063 - val_acc: 0.7831\n",
      "Epoch 6/200\n",
      "5636/5636 [==============================] - 1s 127us/step - loss: 0.7974 - acc: 0.7344 - val_loss: 0.7058 - val_acc: 0.7815\n",
      "Epoch 7/200\n",
      "5636/5636 [==============================] - 1s 127us/step - loss: 0.7531 - acc: 0.7319 - val_loss: 0.6743 - val_acc: 0.7863\n",
      "Epoch 8/200\n",
      "5636/5636 [==============================] - 1s 123us/step - loss: 0.6967 - acc: 0.7486 - val_loss: 0.8173 - val_acc: 0.7895\n",
      "Epoch 9/200\n",
      "5636/5636 [==============================] - 1s 123us/step - loss: 0.6673 - acc: 0.7661 - val_loss: 0.6706 - val_acc: 0.8038\n",
      "Epoch 10/200\n",
      "5636/5636 [==============================] - 1s 127us/step - loss: 0.6250 - acc: 0.7873 - val_loss: 0.6036 - val_acc: 0.8214\n",
      "Epoch 11/200\n",
      "5636/5636 [==============================] - 1s 123us/step - loss: 0.6105 - acc: 0.7864 - val_loss: 0.7455 - val_acc: 0.8134\n",
      "Epoch 12/200\n",
      "5636/5636 [==============================] - 1s 126us/step - loss: 0.5961 - acc: 0.7929 - val_loss: 0.6225 - val_acc: 0.8262\n",
      "Epoch 13/200\n",
      "5636/5636 [==============================] - 1s 125us/step - loss: 0.5866 - acc: 0.7931 - val_loss: 0.6236 - val_acc: 0.8357\n",
      "Epoch 14/200\n",
      "5636/5636 [==============================] - 1s 126us/step - loss: 0.5380 - acc: 0.8121 - val_loss: 0.6852 - val_acc: 0.8278\n",
      "Epoch 15/200\n",
      "5636/5636 [==============================] - 1s 124us/step - loss: 0.5442 - acc: 0.8064 - val_loss: 0.6771 - val_acc: 0.8118\n",
      "Epoch 16/200\n",
      "5636/5636 [==============================] - 1s 124us/step - loss: 0.5033 - acc: 0.8144 - val_loss: 0.6896 - val_acc: 0.8293\n",
      "Epoch 17/200\n",
      "5636/5636 [==============================] - 1s 124us/step - loss: 0.5086 - acc: 0.8190 - val_loss: 0.7590 - val_acc: 0.8182\n",
      "Epoch 18/200\n",
      "5636/5636 [==============================] - 1s 127us/step - loss: 0.4869 - acc: 0.8231 - val_loss: 0.6233 - val_acc: 0.8405\n",
      "Epoch 19/200\n",
      "5636/5636 [==============================] - 1s 127us/step - loss: 0.4521 - acc: 0.8343 - val_loss: 0.6830 - val_acc: 0.8453\n",
      "Epoch 20/200\n",
      "5636/5636 [==============================] - 1s 129us/step - loss: 0.4480 - acc: 0.8357 - val_loss: 0.6387 - val_acc: 0.8278\n",
      "Epoch 21/200\n",
      "5636/5636 [==============================] - 1s 124us/step - loss: 0.4229 - acc: 0.8426 - val_loss: 0.7270 - val_acc: 0.8469\n",
      "Epoch 22/200\n",
      "5636/5636 [==============================] - 1s 126us/step - loss: 0.4195 - acc: 0.8483 - val_loss: 0.7168 - val_acc: 0.8325\n",
      "Epoch 23/200\n",
      "5636/5636 [==============================] - 1s 128us/step - loss: 0.4044 - acc: 0.8508 - val_loss: 0.8473 - val_acc: 0.8278\n",
      "Epoch 24/200\n",
      "5636/5636 [==============================] - 1s 122us/step - loss: 0.4131 - acc: 0.8430 - val_loss: 0.7951 - val_acc: 0.8166\n",
      "Epoch 25/200\n",
      "5636/5636 [==============================] - 1s 123us/step - loss: 0.4159 - acc: 0.8494 - val_loss: 0.7157 - val_acc: 0.8421\n",
      "Epoch 26/200\n",
      "5636/5636 [==============================] - 1s 124us/step - loss: 0.3838 - acc: 0.8588 - val_loss: 0.7372 - val_acc: 0.8389\n",
      "Epoch 27/200\n",
      "5636/5636 [==============================] - 1s 124us/step - loss: 0.4288 - acc: 0.8462 - val_loss: 0.7940 - val_acc: 0.8421\n",
      "Epoch 28/200\n",
      "5636/5636 [==============================] - 1s 127us/step - loss: 0.4557 - acc: 0.8304 - val_loss: 0.7368 - val_acc: 0.8437\n",
      "Epoch 29/200\n",
      "5636/5636 [==============================] - 1s 127us/step - loss: 0.4116 - acc: 0.8442 - val_loss: 0.7050 - val_acc: 0.8246\n",
      "Epoch 30/200\n",
      "5636/5636 [==============================] - 1s 123us/step - loss: 0.3791 - acc: 0.8595 - val_loss: 0.6817 - val_acc: 0.8485\n",
      "Epoch 31/200\n",
      "5636/5636 [==============================] - 1s 125us/step - loss: 0.3829 - acc: 0.8557 - val_loss: 0.8001 - val_acc: 0.8405\n",
      "Epoch 32/200\n",
      "5636/5636 [==============================] - 1s 128us/step - loss: 0.3750 - acc: 0.8589 - val_loss: 0.7185 - val_acc: 0.8437\n",
      "Epoch 33/200\n",
      "5636/5636 [==============================] - 1s 127us/step - loss: 0.3750 - acc: 0.8589 - val_loss: 0.7268 - val_acc: 0.8278\n",
      "Epoch 34/200\n",
      "5636/5636 [==============================] - 1s 126us/step - loss: 0.3931 - acc: 0.8520 - val_loss: 0.8330 - val_acc: 0.8421\n",
      "Epoch 35/200\n",
      "5636/5636 [==============================] - 1s 124us/step - loss: 0.3572 - acc: 0.8620 - val_loss: 0.7403 - val_acc: 0.8485\n",
      "Epoch 36/200\n",
      "5636/5636 [==============================] - 1s 128us/step - loss: 0.3471 - acc: 0.8698 - val_loss: 0.7324 - val_acc: 0.8357\n",
      "Epoch 37/200\n",
      "5636/5636 [==============================] - 1s 130us/step - loss: 0.3661 - acc: 0.8588 - val_loss: 0.7466 - val_acc: 0.8581\n",
      "Epoch 38/200\n",
      "5636/5636 [==============================] - 1s 124us/step - loss: 0.3484 - acc: 0.8721 - val_loss: 0.7298 - val_acc: 0.8325\n",
      "Epoch 39/200\n",
      "5636/5636 [==============================] - 1s 125us/step - loss: 0.3542 - acc: 0.8644 - val_loss: 0.7696 - val_acc: 0.8405\n",
      "Epoch 40/200\n",
      "5636/5636 [==============================] - 1s 128us/step - loss: 0.3277 - acc: 0.8774 - val_loss: 0.8194 - val_acc: 0.8501\n",
      "Epoch 41/200\n",
      "5636/5636 [==============================] - 1s 129us/step - loss: 0.3292 - acc: 0.8772 - val_loss: 0.8560 - val_acc: 0.8309\n",
      "Epoch 42/200\n",
      "5636/5636 [==============================] - 1s 127us/step - loss: 0.3348 - acc: 0.8717 - val_loss: 0.8861 - val_acc: 0.8421\n",
      "Epoch 43/200\n",
      "5636/5636 [==============================] - 1s 124us/step - loss: 0.3091 - acc: 0.8864 - val_loss: 0.8124 - val_acc: 0.8405\n",
      "Epoch 44/200\n",
      "5636/5636 [==============================] - 1s 124us/step - loss: 0.3290 - acc: 0.8724 - val_loss: 0.7873 - val_acc: 0.8309\n",
      "Epoch 45/200\n",
      "5636/5636 [==============================] - 1s 124us/step - loss: 0.3228 - acc: 0.8822 - val_loss: 0.8474 - val_acc: 0.8325\n",
      "Epoch 46/200\n",
      "5636/5636 [==============================] - 1s 127us/step - loss: 0.3068 - acc: 0.8852 - val_loss: 0.9745 - val_acc: 0.8373\n",
      "Epoch 47/200\n",
      "5636/5636 [==============================] - 1s 124us/step - loss: 0.3213 - acc: 0.8809 - val_loss: 0.8963 - val_acc: 0.8246\n",
      "Epoch 48/200\n",
      "5636/5636 [==============================] - 1s 124us/step - loss: 0.3255 - acc: 0.8769 - val_loss: 0.8897 - val_acc: 0.8309\n",
      "Epoch 49/200\n",
      "5636/5636 [==============================] - 1s 124us/step - loss: 0.3358 - acc: 0.8740 - val_loss: 0.7821 - val_acc: 0.8437\n",
      "Epoch 50/200\n",
      "5636/5636 [==============================] - 1s 124us/step - loss: 0.3137 - acc: 0.8817 - val_loss: 0.8459 - val_acc: 0.8517\n",
      "Epoch 51/200\n",
      "5636/5636 [==============================] - 1s 126us/step - loss: 0.3291 - acc: 0.8806 - val_loss: 0.8951 - val_acc: 0.8198\n",
      "Epoch 52/200\n",
      "5636/5636 [==============================] - 1s 123us/step - loss: 0.3186 - acc: 0.8778 - val_loss: 0.8811 - val_acc: 0.8341\n",
      "Epoch 53/200\n",
      "5636/5636 [==============================] - 1s 122us/step - loss: 0.3012 - acc: 0.8891 - val_loss: 0.7990 - val_acc: 0.8325\n",
      "Epoch 54/200\n",
      "5636/5636 [==============================] - 1s 127us/step - loss: 0.2978 - acc: 0.8882 - val_loss: 0.9290 - val_acc: 0.8325\n",
      "Epoch 55/200\n",
      "5636/5636 [==============================] - 1s 124us/step - loss: 0.2850 - acc: 0.8884 - val_loss: 0.9486 - val_acc: 0.8405\n",
      "Epoch 56/200\n",
      "5636/5636 [==============================] - 1s 127us/step - loss: 0.2834 - acc: 0.8932 - val_loss: 0.9353 - val_acc: 0.8341\n",
      "Epoch 57/200\n",
      "5636/5636 [==============================] - 1s 127us/step - loss: 0.2556 - acc: 0.8998 - val_loss: 0.8798 - val_acc: 0.8389\n",
      "Epoch 58/200\n",
      "5636/5636 [==============================] - 1s 124us/step - loss: 0.3068 - acc: 0.8850 - val_loss: 1.0445 - val_acc: 0.8357\n",
      "Epoch 59/200\n",
      "5636/5636 [==============================] - 1s 125us/step - loss: 0.2922 - acc: 0.8884 - val_loss: 1.0074 - val_acc: 0.8341\n",
      "Epoch 60/200\n",
      "5636/5636 [==============================] - 1s 125us/step - loss: 0.3007 - acc: 0.8914 - val_loss: 0.9291 - val_acc: 0.8309\n",
      "Epoch 61/200\n",
      "5636/5636 [==============================] - 1s 125us/step - loss: 0.2677 - acc: 0.9006 - val_loss: 0.8528 - val_acc: 0.8501\n",
      "Epoch 62/200\n",
      "5636/5636 [==============================] - 1s 128us/step - loss: 0.2988 - acc: 0.8834 - val_loss: 0.9789 - val_acc: 0.8293\n",
      "Epoch 63/200\n",
      "5636/5636 [==============================] - 1s 124us/step - loss: 0.2682 - acc: 0.9024 - val_loss: 0.8470 - val_acc: 0.8453\n",
      "Epoch 64/200\n",
      "5636/5636 [==============================] - 1s 127us/step - loss: 0.2648 - acc: 0.9001 - val_loss: 0.9394 - val_acc: 0.8405\n",
      "Epoch 65/200\n",
      "5636/5636 [==============================] - 1s 124us/step - loss: 0.2643 - acc: 0.9040 - val_loss: 0.9716 - val_acc: 0.8421\n",
      "Epoch 66/200\n",
      "5636/5636 [==============================] - 1s 124us/step - loss: 0.2824 - acc: 0.8888 - val_loss: 0.9828 - val_acc: 0.8309\n",
      "Epoch 67/200\n",
      "5636/5636 [==============================] - 1s 124us/step - loss: 0.2549 - acc: 0.9045 - val_loss: 0.9748 - val_acc: 0.8293\n",
      "Epoch 68/200\n",
      "5636/5636 [==============================] - 1s 124us/step - loss: 0.2608 - acc: 0.8974 - val_loss: 1.0169 - val_acc: 0.8293\n",
      "Epoch 69/200\n",
      "5636/5636 [==============================] - 1s 124us/step - loss: 0.2937 - acc: 0.8919 - val_loss: 0.8917 - val_acc: 0.8341\n",
      "Epoch 70/200\n",
      "5636/5636 [==============================] - 1s 128us/step - loss: 0.2432 - acc: 0.9084 - val_loss: 1.0472 - val_acc: 0.8469\n",
      "Epoch 71/200\n",
      "5636/5636 [==============================] - 1s 125us/step - loss: 0.2623 - acc: 0.8951 - val_loss: 1.0172 - val_acc: 0.8325\n",
      "Epoch 72/200\n",
      "5636/5636 [==============================] - 1s 126us/step - loss: 0.2903 - acc: 0.8893 - val_loss: 0.9178 - val_acc: 0.8325\n",
      "Epoch 73/200\n",
      "5636/5636 [==============================] - 1s 127us/step - loss: 0.3011 - acc: 0.8902 - val_loss: 1.0552 - val_acc: 0.8150\n",
      "Epoch 74/200\n",
      "5636/5636 [==============================] - 1s 125us/step - loss: 0.2866 - acc: 0.8958 - val_loss: 1.0850 - val_acc: 0.8278\n",
      "Epoch 75/200\n",
      "5636/5636 [==============================] - 1s 124us/step - loss: 0.2426 - acc: 0.9072 - val_loss: 1.0074 - val_acc: 0.8373\n",
      "Epoch 76/200\n",
      "5636/5636 [==============================] - 1s 121us/step - loss: 0.2562 - acc: 0.9005 - val_loss: 1.0385 - val_acc: 0.8309\n",
      "Epoch 77/200\n",
      "5636/5636 [==============================] - 1s 124us/step - loss: 0.2579 - acc: 0.9029 - val_loss: 0.9917 - val_acc: 0.8389\n",
      "Epoch 78/200\n",
      "5636/5636 [==============================] - 1s 124us/step - loss: 0.2447 - acc: 0.9065 - val_loss: 1.0504 - val_acc: 0.8357\n",
      "Epoch 79/200\n",
      "5636/5636 [==============================] - 1s 124us/step - loss: 0.2441 - acc: 0.9054 - val_loss: 1.0363 - val_acc: 0.8325\n",
      "Epoch 80/200\n",
      "5636/5636 [==============================] - 1s 125us/step - loss: 0.2682 - acc: 0.8989 - val_loss: 1.0178 - val_acc: 0.8278\n",
      "Epoch 81/200\n",
      "5636/5636 [==============================] - 1s 125us/step - loss: 0.3026 - acc: 0.8769 - val_loss: 1.0173 - val_acc: 0.8437\n",
      "Epoch 82/200\n",
      "5636/5636 [==============================] - 1s 124us/step - loss: 0.2622 - acc: 0.9053 - val_loss: 1.2145 - val_acc: 0.8309\n",
      "Epoch 83/200\n",
      "5636/5636 [==============================] - 1s 123us/step - loss: 0.2553 - acc: 0.9042 - val_loss: 1.1506 - val_acc: 0.8341\n",
      "Epoch 84/200\n",
      "5636/5636 [==============================] - 1s 125us/step - loss: 0.2576 - acc: 0.9054 - val_loss: 1.1062 - val_acc: 0.8325\n",
      "Epoch 85/200\n",
      "5636/5636 [==============================] - 1s 124us/step - loss: 0.2595 - acc: 0.9005 - val_loss: 1.0129 - val_acc: 0.8389\n",
      "Epoch 86/200\n",
      "5636/5636 [==============================] - 1s 127us/step - loss: 0.2750 - acc: 0.8969 - val_loss: 1.0381 - val_acc: 0.8325\n",
      "Epoch 87/200\n",
      "5636/5636 [==============================] - 1s 127us/step - loss: 0.3007 - acc: 0.8838 - val_loss: 1.1567 - val_acc: 0.8373\n",
      "Epoch 88/200\n",
      "5636/5636 [==============================] - 1s 124us/step - loss: 0.2875 - acc: 0.8944 - val_loss: 1.0668 - val_acc: 0.8293\n",
      "Epoch 89/200\n",
      "5636/5636 [==============================] - 1s 124us/step - loss: 0.2509 - acc: 0.9065 - val_loss: 1.1765 - val_acc: 0.8309\n",
      "Epoch 90/200\n",
      "5636/5636 [==============================] - 1s 125us/step - loss: 0.2514 - acc: 0.9044 - val_loss: 1.0338 - val_acc: 0.8389\n",
      "Epoch 91/200\n",
      "5636/5636 [==============================] - 1s 123us/step - loss: 0.2455 - acc: 0.9047 - val_loss: 1.0352 - val_acc: 0.8278\n",
      "Epoch 92/200\n",
      "5636/5636 [==============================] - 1s 124us/step - loss: 0.2363 - acc: 0.9074 - val_loss: 1.1012 - val_acc: 0.8262\n",
      "Epoch 93/200\n",
      "5636/5636 [==============================] - 1s 127us/step - loss: 0.2539 - acc: 0.8998 - val_loss: 1.2567 - val_acc: 0.8230\n",
      "Epoch 94/200\n",
      "5636/5636 [==============================] - 1s 125us/step - loss: 0.2621 - acc: 0.8985 - val_loss: 1.1221 - val_acc: 0.8341\n",
      "Epoch 95/200\n",
      "5636/5636 [==============================] - 1s 123us/step - loss: 0.2511 - acc: 0.9053 - val_loss: 1.1752 - val_acc: 0.8293\n",
      "Epoch 96/200\n",
      "5636/5636 [==============================] - 1s 124us/step - loss: 0.2432 - acc: 0.9084 - val_loss: 1.0373 - val_acc: 0.8341\n",
      "Epoch 97/200\n",
      "5636/5636 [==============================] - 1s 124us/step - loss: 0.2471 - acc: 0.9038 - val_loss: 1.0964 - val_acc: 0.8373\n",
      "Epoch 98/200\n",
      "5636/5636 [==============================] - 1s 124us/step - loss: 0.2286 - acc: 0.9100 - val_loss: 1.3332 - val_acc: 0.8325\n",
      "Epoch 99/200\n",
      "5636/5636 [==============================] - 1s 124us/step - loss: 0.2507 - acc: 0.9054 - val_loss: 1.2072 - val_acc: 0.8341\n",
      "Epoch 100/200\n",
      "5636/5636 [==============================] - 1s 123us/step - loss: 0.2359 - acc: 0.9102 - val_loss: 1.1336 - val_acc: 0.8309\n",
      "Epoch 101/200\n",
      "5636/5636 [==============================] - 1s 126us/step - loss: 0.2282 - acc: 0.9150 - val_loss: 1.1755 - val_acc: 0.8293\n",
      "Epoch 102/200\n",
      "5636/5636 [==============================] - 1s 127us/step - loss: 0.2298 - acc: 0.9163 - val_loss: 1.2187 - val_acc: 0.8373\n",
      "Epoch 103/200\n",
      "5636/5636 [==============================] - 1s 127us/step - loss: 0.2367 - acc: 0.9113 - val_loss: 1.4214 - val_acc: 0.8118\n",
      "Epoch 104/200\n",
      "5636/5636 [==============================] - 1s 124us/step - loss: 0.2313 - acc: 0.9102 - val_loss: 1.2462 - val_acc: 0.8293\n",
      "Epoch 105/200\n",
      "5636/5636 [==============================] - 1s 127us/step - loss: 0.2414 - acc: 0.9099 - val_loss: 1.0277 - val_acc: 0.8453\n",
      "Epoch 106/200\n",
      "5636/5636 [==============================] - 1s 124us/step - loss: 0.2166 - acc: 0.9163 - val_loss: 1.1529 - val_acc: 0.8357\n",
      "Epoch 107/200\n",
      "5636/5636 [==============================] - 1s 127us/step - loss: 0.2441 - acc: 0.9099 - val_loss: 1.2043 - val_acc: 0.8357\n",
      "Epoch 108/200\n",
      "5636/5636 [==============================] - 1s 124us/step - loss: 0.3098 - acc: 0.8854 - val_loss: 1.0872 - val_acc: 0.8373\n",
      "Epoch 109/200\n",
      "5636/5636 [==============================] - 1s 124us/step - loss: 0.2398 - acc: 0.9081 - val_loss: 1.1797 - val_acc: 0.8293\n",
      "Epoch 110/200\n",
      "5636/5636 [==============================] - 1s 125us/step - loss: 0.2366 - acc: 0.9099 - val_loss: 1.2669 - val_acc: 0.8293\n",
      "Epoch 111/200\n",
      "5636/5636 [==============================] - 1s 123us/step - loss: 0.2238 - acc: 0.9111 - val_loss: 1.1225 - val_acc: 0.8293\n",
      "Epoch 112/200\n",
      "5636/5636 [==============================] - 1s 125us/step - loss: 0.2519 - acc: 0.9012 - val_loss: 1.3424 - val_acc: 0.8309\n",
      "Epoch 113/200\n",
      "5636/5636 [==============================] - 1s 123us/step - loss: 0.2325 - acc: 0.9115 - val_loss: 1.1790 - val_acc: 0.8293\n",
      "Epoch 114/200\n",
      "5636/5636 [==============================] - 1s 124us/step - loss: 0.2247 - acc: 0.9122 - val_loss: 1.1807 - val_acc: 0.8309\n",
      "Epoch 115/200\n",
      "5636/5636 [==============================] - 1s 126us/step - loss: 0.2131 - acc: 0.9175 - val_loss: 1.2470 - val_acc: 0.8357\n",
      "Epoch 116/200\n",
      "5636/5636 [==============================] - 1s 125us/step - loss: 0.2239 - acc: 0.9132 - val_loss: 1.1619 - val_acc: 0.8309\n",
      "Epoch 117/200\n",
      "5636/5636 [==============================] - 1s 124us/step - loss: 0.2295 - acc: 0.9076 - val_loss: 1.2107 - val_acc: 0.8341\n",
      "Epoch 118/200\n",
      "5636/5636 [==============================] - 1s 121us/step - loss: 0.2215 - acc: 0.9168 - val_loss: 1.3016 - val_acc: 0.8357\n",
      "Epoch 119/200\n",
      "5636/5636 [==============================] - 1s 125us/step - loss: 0.2048 - acc: 0.9216 - val_loss: 1.2420 - val_acc: 0.8389\n",
      "Epoch 120/200\n",
      "5636/5636 [==============================] - 1s 121us/step - loss: 0.2202 - acc: 0.9129 - val_loss: 1.1163 - val_acc: 0.8437\n",
      "Epoch 121/200\n",
      "5636/5636 [==============================] - 1s 123us/step - loss: 0.2235 - acc: 0.9115 - val_loss: 1.4134 - val_acc: 0.8246\n",
      "Epoch 122/200\n",
      "5636/5636 [==============================] - 1s 125us/step - loss: 0.2001 - acc: 0.9202 - val_loss: 1.2353 - val_acc: 0.8341\n",
      "Epoch 123/200\n",
      "5636/5636 [==============================] - 1s 123us/step - loss: 0.2170 - acc: 0.9136 - val_loss: 0.9794 - val_acc: 0.8309\n",
      "Epoch 124/200\n",
      "5636/5636 [==============================] - 1s 124us/step - loss: 0.2410 - acc: 0.9072 - val_loss: 1.1751 - val_acc: 0.8309\n",
      "Epoch 125/200\n",
      "5636/5636 [==============================] - 1s 124us/step - loss: 0.2254 - acc: 0.9116 - val_loss: 1.1919 - val_acc: 0.8341\n",
      "Epoch 126/200\n",
      "5636/5636 [==============================] - 1s 127us/step - loss: 0.2293 - acc: 0.9132 - val_loss: 1.1797 - val_acc: 0.8182\n",
      "Epoch 127/200\n",
      "5636/5636 [==============================] - 1s 124us/step - loss: 0.2027 - acc: 0.9194 - val_loss: 1.2729 - val_acc: 0.8357\n",
      "Epoch 128/200\n",
      "5636/5636 [==============================] - 1s 127us/step - loss: 0.2170 - acc: 0.9168 - val_loss: 1.1871 - val_acc: 0.8357\n",
      "Epoch 129/200\n",
      "5636/5636 [==============================] - 1s 124us/step - loss: 0.2191 - acc: 0.9163 - val_loss: 1.4156 - val_acc: 0.8293\n",
      "Epoch 130/200\n",
      "5636/5636 [==============================] - 1s 126us/step - loss: 0.2176 - acc: 0.9147 - val_loss: 1.2958 - val_acc: 0.8325\n",
      "Epoch 131/200\n",
      "5636/5636 [==============================] - 1s 126us/step - loss: 0.2385 - acc: 0.9104 - val_loss: 1.3783 - val_acc: 0.8214\n",
      "Epoch 132/200\n",
      "5636/5636 [==============================] - 1s 124us/step - loss: 0.2687 - acc: 0.9029 - val_loss: 1.2830 - val_acc: 0.8405\n",
      "Epoch 133/200\n",
      "5636/5636 [==============================] - 1s 126us/step - loss: 0.1922 - acc: 0.9242 - val_loss: 1.3736 - val_acc: 0.8341\n",
      "Epoch 134/200\n",
      "5636/5636 [==============================] - 1s 124us/step - loss: 0.2075 - acc: 0.9171 - val_loss: 1.1260 - val_acc: 0.8437\n",
      "Epoch 135/200\n",
      "5636/5636 [==============================] - 1s 124us/step - loss: 0.2113 - acc: 0.9134 - val_loss: 1.2757 - val_acc: 0.8453\n",
      "Epoch 136/200\n",
      "5636/5636 [==============================] - 1s 124us/step - loss: 0.1904 - acc: 0.9237 - val_loss: 1.3065 - val_acc: 0.8341\n",
      "Epoch 137/200\n",
      "5636/5636 [==============================] - 1s 126us/step - loss: 0.2106 - acc: 0.9178 - val_loss: 1.2556 - val_acc: 0.8389\n",
      "Epoch 138/200\n",
      "5636/5636 [==============================] - 1s 125us/step - loss: 0.2126 - acc: 0.9164 - val_loss: 1.3911 - val_acc: 0.8262\n",
      "Epoch 139/200\n",
      "5636/5636 [==============================] - 1s 129us/step - loss: 0.2236 - acc: 0.9159 - val_loss: 1.1728 - val_acc: 0.8405\n",
      "Epoch 140/200\n",
      "5636/5636 [==============================] - 1s 122us/step - loss: 0.2055 - acc: 0.9145 - val_loss: 1.2750 - val_acc: 0.8389\n",
      "Epoch 141/200\n",
      "5636/5636 [==============================] - 1s 127us/step - loss: 0.2066 - acc: 0.9200 - val_loss: 1.2857 - val_acc: 0.8405\n",
      "Epoch 142/200\n",
      "5636/5636 [==============================] - 1s 122us/step - loss: 0.2311 - acc: 0.9139 - val_loss: 1.2418 - val_acc: 0.8325\n",
      "Epoch 143/200\n",
      "5636/5636 [==============================] - 1s 123us/step - loss: 0.2023 - acc: 0.9184 - val_loss: 1.1351 - val_acc: 0.8437\n",
      "Epoch 144/200\n",
      "5636/5636 [==============================] - 1s 125us/step - loss: 0.2314 - acc: 0.9074 - val_loss: 1.2946 - val_acc: 0.8357\n",
      "Epoch 145/200\n",
      "5636/5636 [==============================] - 1s 124us/step - loss: 0.1987 - acc: 0.9225 - val_loss: 1.2797 - val_acc: 0.8485\n",
      "Epoch 146/200\n",
      "5636/5636 [==============================] - 1s 124us/step - loss: 0.2416 - acc: 0.9022 - val_loss: 1.2403 - val_acc: 0.8341\n",
      "Epoch 147/200\n",
      "5636/5636 [==============================] - 1s 127us/step - loss: 0.2254 - acc: 0.9108 - val_loss: 1.1716 - val_acc: 0.8309\n",
      "Epoch 148/200\n",
      "5636/5636 [==============================] - 1s 124us/step - loss: 0.2112 - acc: 0.9145 - val_loss: 1.2679 - val_acc: 0.8262\n",
      "Epoch 149/200\n",
      "5636/5636 [==============================] - 1s 122us/step - loss: 0.2097 - acc: 0.9131 - val_loss: 1.4648 - val_acc: 0.8309\n",
      "Epoch 150/200\n",
      "5636/5636 [==============================] - 1s 126us/step - loss: 0.2153 - acc: 0.9150 - val_loss: 1.4196 - val_acc: 0.8373\n",
      "Epoch 151/200\n",
      "5636/5636 [==============================] - 1s 127us/step - loss: 0.2023 - acc: 0.9219 - val_loss: 1.4287 - val_acc: 0.8357\n",
      "Epoch 152/200\n",
      "5636/5636 [==============================] - 1s 124us/step - loss: 0.2115 - acc: 0.9150 - val_loss: 1.4054 - val_acc: 0.8293\n",
      "Epoch 153/200\n",
      "5636/5636 [==============================] - 1s 124us/step - loss: 0.2283 - acc: 0.9131 - val_loss: 1.2180 - val_acc: 0.8501\n",
      "Epoch 154/200\n",
      "5636/5636 [==============================] - 1s 124us/step - loss: 0.2162 - acc: 0.9154 - val_loss: 1.3744 - val_acc: 0.8357\n",
      "Epoch 155/200\n",
      "5636/5636 [==============================] - 1s 122us/step - loss: 0.2122 - acc: 0.9178 - val_loss: 1.3364 - val_acc: 0.8214\n",
      "Epoch 156/200\n",
      "5636/5636 [==============================] - 1s 127us/step - loss: 0.2361 - acc: 0.9079 - val_loss: 1.3254 - val_acc: 0.8309\n",
      "Epoch 157/200\n",
      "5636/5636 [==============================] - 1s 127us/step - loss: 0.2083 - acc: 0.9173 - val_loss: 1.3473 - val_acc: 0.8325\n",
      "Epoch 158/200\n",
      "5636/5636 [==============================] - 1s 127us/step - loss: 0.2222 - acc: 0.9163 - val_loss: 1.2786 - val_acc: 0.8325\n",
      "Epoch 159/200\n",
      "5636/5636 [==============================] - 1s 125us/step - loss: 0.1931 - acc: 0.9265 - val_loss: 1.2743 - val_acc: 0.8325\n",
      "Epoch 160/200\n",
      "5636/5636 [==============================] - 1s 128us/step - loss: 0.1914 - acc: 0.9233 - val_loss: 1.4062 - val_acc: 0.8278\n",
      "Epoch 161/200\n",
      "5636/5636 [==============================] - 1s 128us/step - loss: 0.2271 - acc: 0.9139 - val_loss: 1.4431 - val_acc: 0.8246\n",
      "Epoch 162/200\n",
      "5636/5636 [==============================] - 1s 127us/step - loss: 0.1904 - acc: 0.9239 - val_loss: 1.2814 - val_acc: 0.8389\n",
      "Epoch 163/200\n",
      "5636/5636 [==============================] - 1s 127us/step - loss: 0.2160 - acc: 0.9168 - val_loss: 1.3195 - val_acc: 0.8373\n",
      "Epoch 164/200\n",
      "5636/5636 [==============================] - 1s 127us/step - loss: 0.2033 - acc: 0.9194 - val_loss: 1.4560 - val_acc: 0.8309\n",
      "Epoch 165/200\n",
      "5636/5636 [==============================] - 1s 127us/step - loss: 0.1983 - acc: 0.9209 - val_loss: 1.4180 - val_acc: 0.8437\n",
      "Epoch 166/200\n",
      "5636/5636 [==============================] - 1s 127us/step - loss: 0.1834 - acc: 0.9290 - val_loss: 1.3209 - val_acc: 0.8214\n",
      "Epoch 167/200\n",
      "5636/5636 [==============================] - 1s 124us/step - loss: 0.1839 - acc: 0.9265 - val_loss: 1.5139 - val_acc: 0.8293\n",
      "Epoch 168/200\n",
      "5636/5636 [==============================] - 1s 128us/step - loss: 0.2213 - acc: 0.9161 - val_loss: 1.3677 - val_acc: 0.8437\n",
      "Epoch 169/200\n",
      "5636/5636 [==============================] - 1s 128us/step - loss: 0.2151 - acc: 0.9198 - val_loss: 1.4040 - val_acc: 0.8325\n",
      "Epoch 170/200\n",
      "5636/5636 [==============================] - 1s 125us/step - loss: 0.2235 - acc: 0.9127 - val_loss: 1.3738 - val_acc: 0.8325\n",
      "Epoch 171/200\n",
      "5636/5636 [==============================] - 1s 125us/step - loss: 0.1647 - acc: 0.9349 - val_loss: 1.3966 - val_acc: 0.8341\n",
      "Epoch 172/200\n",
      "5636/5636 [==============================] - 1s 130us/step - loss: 0.1905 - acc: 0.9219 - val_loss: 1.6253 - val_acc: 0.8262\n",
      "Epoch 173/200\n",
      "5636/5636 [==============================] - 1s 128us/step - loss: 0.1895 - acc: 0.9265 - val_loss: 1.2017 - val_acc: 0.8373\n",
      "Epoch 174/200\n",
      "5636/5636 [==============================] - 1s 124us/step - loss: 0.1861 - acc: 0.9274 - val_loss: 1.4446 - val_acc: 0.8293\n",
      "Epoch 175/200\n",
      "5636/5636 [==============================] - 1s 127us/step - loss: 0.2091 - acc: 0.9141 - val_loss: 1.3379 - val_acc: 0.8262\n",
      "Epoch 176/200\n",
      "5636/5636 [==============================] - 1s 124us/step - loss: 0.1890 - acc: 0.9281 - val_loss: 1.4367 - val_acc: 0.8373\n",
      "Epoch 177/200\n",
      "5636/5636 [==============================] - 1s 124us/step - loss: 0.2000 - acc: 0.9219 - val_loss: 1.4811 - val_acc: 0.8469\n",
      "Epoch 178/200\n",
      "5636/5636 [==============================] - 1s 124us/step - loss: 0.1899 - acc: 0.9246 - val_loss: 1.3364 - val_acc: 0.8389\n",
      "Epoch 179/200\n",
      "5636/5636 [==============================] - 1s 123us/step - loss: 0.1866 - acc: 0.9248 - val_loss: 1.4352 - val_acc: 0.8357\n",
      "Epoch 180/200\n",
      "5636/5636 [==============================] - 1s 126us/step - loss: 0.2024 - acc: 0.9219 - val_loss: 1.4240 - val_acc: 0.8389\n",
      "Epoch 181/200\n",
      "5636/5636 [==============================] - 1s 128us/step - loss: 0.2052 - acc: 0.9207 - val_loss: 1.4326 - val_acc: 0.8501\n",
      "Epoch 182/200\n",
      "5636/5636 [==============================] - 1s 125us/step - loss: 0.1967 - acc: 0.9184 - val_loss: 1.4500 - val_acc: 0.8341\n",
      "Epoch 183/200\n",
      "5636/5636 [==============================] - 1s 127us/step - loss: 0.2114 - acc: 0.9141 - val_loss: 1.4333 - val_acc: 0.8421\n",
      "Epoch 184/200\n",
      "5636/5636 [==============================] - 1s 124us/step - loss: 0.1907 - acc: 0.9212 - val_loss: 1.4577 - val_acc: 0.8325\n",
      "Epoch 185/200\n",
      "5636/5636 [==============================] - 1s 125us/step - loss: 0.1938 - acc: 0.9230 - val_loss: 1.4596 - val_acc: 0.8421\n",
      "Epoch 186/200\n",
      "5636/5636 [==============================] - 1s 127us/step - loss: 0.1881 - acc: 0.9237 - val_loss: 1.5212 - val_acc: 0.8405\n",
      "Epoch 187/200\n",
      "5636/5636 [==============================] - 1s 124us/step - loss: 0.2149 - acc: 0.9182 - val_loss: 1.4565 - val_acc: 0.8214\n",
      "Epoch 188/200\n",
      "5636/5636 [==============================] - 1s 124us/step - loss: 0.1966 - acc: 0.9273 - val_loss: 1.3976 - val_acc: 0.8373\n",
      "Epoch 189/200\n",
      "5636/5636 [==============================] - 1s 128us/step - loss: 0.2100 - acc: 0.9177 - val_loss: 1.4826 - val_acc: 0.8309\n",
      "Epoch 190/200\n",
      "5636/5636 [==============================] - 1s 126us/step - loss: 0.1770 - acc: 0.9274 - val_loss: 1.4173 - val_acc: 0.8262\n",
      "Epoch 191/200\n",
      "5636/5636 [==============================] - 1s 125us/step - loss: 0.2014 - acc: 0.9212 - val_loss: 1.5909 - val_acc: 0.8230\n",
      "Epoch 192/200\n",
      "5636/5636 [==============================] - 1s 126us/step - loss: 0.2034 - acc: 0.9251 - val_loss: 1.3366 - val_acc: 0.8341\n",
      "Epoch 193/200\n",
      "5636/5636 [==============================] - 1s 124us/step - loss: 0.2134 - acc: 0.9155 - val_loss: 1.4903 - val_acc: 0.8198\n",
      "Epoch 194/200\n",
      "5636/5636 [==============================] - 1s 124us/step - loss: 0.1808 - acc: 0.9278 - val_loss: 1.3082 - val_acc: 0.8389\n",
      "Epoch 195/200\n",
      "5636/5636 [==============================] - 1s 127us/step - loss: 0.1805 - acc: 0.9280 - val_loss: 1.3927 - val_acc: 0.8405\n",
      "Epoch 196/200\n",
      "5636/5636 [==============================] - 1s 124us/step - loss: 0.1889 - acc: 0.9241 - val_loss: 1.5225 - val_acc: 0.8278\n",
      "Epoch 197/200\n",
      "5636/5636 [==============================] - 1s 124us/step - loss: 0.2098 - acc: 0.9205 - val_loss: 1.4984 - val_acc: 0.8293\n",
      "Epoch 198/200\n",
      "5636/5636 [==============================] - 1s 126us/step - loss: 0.1985 - acc: 0.9246 - val_loss: 1.4371 - val_acc: 0.8405\n",
      "Epoch 199/200\n",
      "5636/5636 [==============================] - 1s 124us/step - loss: 0.1835 - acc: 0.9276 - val_loss: 1.3444 - val_acc: 0.8341\n",
      "Epoch 200/200\n",
      "5636/5636 [==============================] - 1s 126us/step - loss: 0.2015 - acc: 0.9226 - val_loss: 1.5150 - val_acc: 0.8278\n"
     ]
    }
   ],
   "source": [
    "history = model.fit(\n",
    "    X_train,\n",
    "    y_train,\n",
    "    batch_size=32,\n",
    "    validation_data=(X_test, y_test),    \n",
    "    epochs=200\n",
    ")"
   ]
  },
  {
   "cell_type": "markdown",
   "metadata": {},
   "source": [
    "# Plot history"
   ]
  },
  {
   "cell_type": "code",
   "execution_count": 24,
   "metadata": {},
   "outputs": [],
   "source": [
    "def plot_history(history):\n",
    "    # Plot training & validation accuracy values\n",
    "    plt.plot(history.history['acc'])\n",
    "    plt.plot(history.history['val_acc'])\n",
    "    plt.title('Model accuracy')\n",
    "    plt.ylabel('Accuracy')\n",
    "    plt.xlabel('Epoch')\n",
    "    plt.legend(['Train', 'Test'], loc='upper left')\n",
    "    plt.show()\n",
    "\n",
    "    # Plot training & validation loss values\n",
    "    plt.plot(history.history['loss'])\n",
    "    plt.plot(history.history['val_loss'])\n",
    "    plt.title('Model loss')\n",
    "    plt.ylabel('Loss')\n",
    "    plt.xlabel('Epoch')\n",
    "    plt.legend(['Train', 'Test'], loc='upper left')\n",
    "    plt.show()"
   ]
  },
  {
   "cell_type": "code",
   "execution_count": 25,
   "metadata": {},
   "outputs": [
    {
     "data": {
      "image/png": "[encoded data removed]",
      "text/plain": [
       "<Figure size 432x288 with 1 Axes>"
      ]
     },
     "metadata": {},
     "output_type": "display_data"
    },
    {
     "data": {
      "image/png": "[encoded data removed]",
      "text/plain": [
       "<Figure size 432x288 with 1 Axes>"
      ]
     },
     "metadata": {},
     "output_type": "display_data"
    }
   ],
   "source": [
    "plot_history(history)"
   ]
  },
  {
   "cell_type": "code",
   "execution_count": 29,
   "metadata": {},
   "outputs": [
    {
     "name": "stdout",
     "output_type": "stream",
     "text": [
      "Normalized confusion matrix\n"
     ]
    },
    {
     "data": {
      "image/png": "[encoded data removed]",
      "text/plain": [
       "<Figure size 864x864 with 2 Axes>"
      ]
     },
     "metadata": {},
     "output_type": "display_data"
    }
   ],
   "source": [
    "def plot_confusion_matrix(cm, classes,\n",
    "                          normalize=False,\n",
    "                          title='Confusion matrix',\n",
    "                          cmap=plt.cm.Blues):\n",
    "    \"\"\"\n",
    "    This function prints and plots the confusion matrix.\n",
    "    Normalization can be applied by setting `normalize=True`.\n",
    "    \"\"\"\n",
    "    if normalize:\n",
    "        cm = cm.astype('float') / cm.sum(axis=1)[:, np.newaxis]\n",
    "        print(\"Normalized confusion matrix\")\n",
    "    else:\n",
    "        print('Confusion matrix, without normalization')\n",
    "\n",
    "#     print(cm)\n",
    "\n",
    "    plt.imshow(cm, interpolation='nearest', cmap=cmap)\n",
    "    plt.title(title)\n",
    "    plt.colorbar()\n",
    "    tick_marks = np.arange(len(classes))\n",
    "    plt.xticks(tick_marks, classes, rotation=45)\n",
    "    plt.yticks(tick_marks, classes)\n",
    "\n",
    "    fmt = '.2f' if normalize else 'd'\n",
    "    thresh = cm.max() / 2.\n",
    "    for i, j in itertools.product(range(cm.shape[0]), range(cm.shape[1])):\n",
    "        plt.text(j, i, format(cm[i, j], fmt),\n",
    "                 horizontalalignment=\"center\",\n",
    "                 color=\"white\" if cm[i, j] > thresh else \"black\")\n",
    "\n",
    "    plt.ylabel('True label')\n",
    "    plt.xlabel('Predicted label')\n",
    "    plt.tight_layout()\n",
    "\n",
    "from sklearn.metrics import confusion_matrix\n",
    "\n",
    "y_pred_proba = model.predict(X_test)\n",
    "\n",
    "y_pred = np.argmax(y_pred_proba, axis=1)\n",
    "\n",
    "y_test_argmax = np.argmax(y_test, axis=1)\n",
    "\n",
    "y_test_argmax.shape\n",
    "\n",
    "cnf_matrix = confusion_matrix(y_test_argmax, y_pred)\n",
    "\n",
    "import itertools\n",
    "\n",
    "plot_confusion_matrix(cnf_matrix, class2idx.keys(), normalize=True)"
   ]
  },
  {
   "cell_type": "code",
   "execution_count": 30,
   "metadata": {},
   "outputs": [],
   "source": [
    "np.save('baseline-cnf_matrix', cnf_matrix)"
   ]
  },
  {
   "cell_type": "markdown",
   "metadata": {},
   "source": [
    "# Comparison"
   ]
  },
  {
   "cell_type": "code",
   "execution_count": 31,
   "metadata": {},
   "outputs": [],
   "source": [
    "cnf_matrix_model = np.load('model-cnf_matrix.npy')"
   ]
  },
  {
   "cell_type": "code",
   "execution_count": 36,
   "metadata": {},
   "outputs": [
    {
     "data": {
      "text/plain": [
       "array([[ 67,   0,   0,   0,   0,   0,   0,   0,   0,   0],\n",
       "       [  1,  45,   0,   0,   0,   2,   1,   0,   4,   0],\n",
       "       [  1,   0,  45,   0,   0,   0,   1,   0,   2,   1],\n",
       "       [  0,   2,   0,  93,   0,   0,   6,   0,   0,   4],\n",
       "       [  0,   0,   0,   1,  18,   0,   2,   9,   0,   0],\n",
       "       [  0,   1,   0,   5,   0,  38,   3,   0,   0,   3],\n",
       "       [  0,   1,   1,   4,   2,   1, 105,   3,   2,   7],\n",
       "       [  1,   0,   1,   0,   3,   0,   3,  40,   0,   0],\n",
       "       [  1,   8,   2,   0,   0,   0,   2,   0,  38,   0],\n",
       "       [  0,   0,   2,   4,   0,   4,   6,   1,   0,  30]], dtype=int64)"
      ]
     },
     "execution_count": 36,
     "metadata": {},
     "output_type": "execute_result"
    }
   ],
   "source": [
    "cnf_matrix"
   ]
  },
  {
   "cell_type": "code",
   "execution_count": 37,
   "metadata": {},
   "outputs": [
    {
     "data": {
      "text/plain": [
       "array([[ 63,   1,   1,   0,   0,   0,   0,   0,   1,   1],\n",
       "       [  2,  45,   2,   1,   0,   0,   0,   0,   3,   0],\n",
       "       [  2,   0,  46,   0,   0,   1,   1,   0,   0,   0],\n",
       "       [  0,   1,   0,  92,   1,   0,   9,   0,   0,   2],\n",
       "       [  0,   0,   0,   0,  25,   0,   2,   3,   0,   0],\n",
       "       [  0,   0,   1,   0,   0,  46,   1,   0,   0,   2],\n",
       "       [  0,   0,   0,   2,   0,   2, 120,   1,   0,   1],\n",
       "       [  1,   0,   1,   0,   9,   0,   3,  34,   0,   0],\n",
       "       [  1,   4,   1,   0,   1,   1,   2,   0,  41,   0],\n",
       "       [  0,   0,   0,   2,   0,  16,   5,   0,   0,  24]], dtype=int64)"
      ]
     },
     "execution_count": 37,
     "metadata": {},
     "output_type": "execute_result"
    }
   ],
   "source": [
    "cnf_matrix_model"
   ]
  },
  {
   "cell_type": "code",
   "execution_count": 39,
   "metadata": {},
   "outputs": [],
   "source": [
    "diff_cnf_matrix = cnf_matrix - cnf_matrix_model"
   ]
  },
  {
   "cell_type": "code",
   "execution_count": 40,
   "metadata": {},
   "outputs": [
    {
     "name": "stdout",
     "output_type": "stream",
     "text": [
      "Confusion matrix, without normalization\n"
     ]
    },
    {
     "data": {
      "image/png": "[encoded data removed]",
      "text/plain": [
       "<Figure size 864x864 with 2 Axes>"
      ]
     },
     "metadata": {},
     "output_type": "display_data"
    }
   ],
   "source": [
    "plot_confusion_matrix(diff_cnf_matrix, class2idx.keys())"
   ]
  },
  {
   "cell_type": "code",
   "execution_count": null,
   "metadata": {},
   "outputs": [],
   "source": []
  }
 ],
 "metadata": {
  "kernelspec": {
   "display_name": "Python 3",
   "language": "python",
   "name": "python3"
  },
  "language_info": {
   "codemirror_mode": {
    "name": "ipython",
    "version": 3
   },
   "file_extension": ".py",
   "mimetype": "text/x-python",
   "name": "python",
   "nbconvert_exporter": "python",
   "pygments_lexer": "ipython3",
   "version": "3.6.5"
  }
 },
 "nbformat": 4,
 "nbformat_minor": 2
}
