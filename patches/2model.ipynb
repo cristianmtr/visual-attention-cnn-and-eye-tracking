{
 "cells": [
  {
   "cell_type": "code",
   "execution_count": 1,
   "metadata": {},
   "outputs": [
    {
     "name": "stderr",
     "output_type": "stream",
     "text": [
      "C:\\Anaconda3\\lib\\site-packages\\h5py\\__init__.py:36: FutureWarning: Conversion of the second argument of issubdtype from `float` to `np.floating` is deprecated. In future, it will be treated as `np.float64 == np.dtype(float).type`.\n",
      "  from ._conv import register_converters as _register_converters\n",
      "Using TensorFlow backend.\n"
     ]
    }
   ],
   "source": [
    "%matplotlib inline\n",
    "from matplotlib import pyplot as plt\n",
    "import os\n",
    "import numpy as np\n",
    "import scipy\n",
    "import glob\n",
    "import sys\n",
    "from scipy import io\n",
    "import cv2\n",
    "import math\n",
    "import random\n",
    "import keras\n",
    "from sklearn import preprocessing"
   ]
  },
  {
   "cell_type": "code",
   "execution_count": 2,
   "metadata": {},
   "outputs": [],
   "source": [
    "POET_DIR = \"D:/data/POETdataset/\"\n",
    "PATCHES_FILE = os.path.join(POET_DIR, \"all_patches_list.npy\")\n",
    "LABELS_FILE = os.path.join(POET_DIR, \"all_labels_list.npy\")\n",
    "pascal_images = os.path.join(POET_DIR, 'PascalImages')\n",
    "CLASS2IDX_FILE = os.path.join(POET_DIR, 'class2idx.npy')\n",
    "IDX2CLASS_FILE = os.path.join(POET_DIR, 'idx2class.npy')\n",
    "PATCH_SIZE = 32\n",
    "HALF_PATCH = PATCH_SIZE//2\n",
    "DATASET_SIZE = 6270\n",
    "VALIDATION_PERC = 0.2\n",
    "MAX_GAZE_POINTS = 3 # TEMPORARY\n",
    "MIN_GAZE_POINTS = 3\n",
    "VGG_NR_FEATURES = 512\n",
    "user_index = 0 # TEMPORARY\n",
    "BATCH_SIZE = 50\n",
    "os.chdir(POET_DIR)"
   ]
  },
  {
   "cell_type": "code",
   "execution_count": 3,
   "metadata": {},
   "outputs": [
    {
     "data": {
      "text/plain": [
       "'D:\\\\data\\\\POETdataset'"
      ]
     },
     "execution_count": 3,
     "metadata": {},
     "output_type": "execute_result"
    }
   ],
   "source": [
    "%pwd"
   ]
  },
  {
   "cell_type": "markdown",
   "metadata": {},
   "source": [
    "# LOAD DATA"
   ]
  },
  {
   "cell_type": "code",
   "execution_count": 18,
   "metadata": {},
   "outputs": [],
   "source": [
    "x = np.load(PATCHES_FILE)"
   ]
  },
  {
   "cell_type": "code",
   "execution_count": 19,
   "metadata": {},
   "outputs": [],
   "source": [
    "y = np.load(LABELS_FILE)"
   ]
  },
  {
   "cell_type": "code",
   "execution_count": 20,
   "metadata": {},
   "outputs": [],
   "source": [
    "class2idx = np.load(CLASS2IDX_FILE).tolist()"
   ]
  },
  {
   "cell_type": "code",
   "execution_count": 21,
   "metadata": {},
   "outputs": [],
   "source": [
    "idx2class = np.load(IDX2CLASS_FILE).tolist()"
   ]
  },
  {
   "cell_type": "markdown",
   "metadata": {},
   "source": [
    "## CHECKING DATA"
   ]
  },
  {
   "cell_type": "code",
   "execution_count": 22,
   "metadata": {},
   "outputs": [
    {
     "data": {
      "text/plain": [
       "4173"
      ]
     },
     "execution_count": 22,
     "metadata": {},
     "output_type": "execute_result"
    }
   ],
   "source": [
    "len(x)"
   ]
  },
  {
   "cell_type": "code",
   "execution_count": 23,
   "metadata": {},
   "outputs": [
    {
     "data": {
      "text/plain": [
       "4173"
      ]
     },
     "execution_count": 23,
     "metadata": {},
     "output_type": "execute_result"
    }
   ],
   "source": [
    "len(y)"
   ]
  },
  {
   "cell_type": "code",
   "execution_count": 24,
   "metadata": {},
   "outputs": [
    {
     "data": {
      "text/plain": [
       "(3, 32, 32, 3)"
      ]
     },
     "execution_count": 24,
     "metadata": {},
     "output_type": "execute_result"
    }
   ],
   "source": [
    "x[0].shape"
   ]
  },
  {
   "cell_type": "code",
   "execution_count": 25,
   "metadata": {},
   "outputs": [
    {
     "data": {
      "text/plain": [
       "(0, 255)"
      ]
     },
     "execution_count": 25,
     "metadata": {},
     "output_type": "execute_result"
    }
   ],
   "source": [
    "x[:,:].min(), x[:,:].max()"
   ]
  },
  {
   "cell_type": "code",
   "execution_count": 26,
   "metadata": {},
   "outputs": [
    {
     "data": {
      "text/plain": [
       "'cat'"
      ]
     },
     "execution_count": 26,
     "metadata": {},
     "output_type": "execute_result"
    }
   ],
   "source": [
    "idx2class[3]"
   ]
  },
  {
   "cell_type": "code",
   "execution_count": 27,
   "metadata": {},
   "outputs": [
    {
     "data": {
      "text/plain": [
       "3"
      ]
     },
     "execution_count": 27,
     "metadata": {},
     "output_type": "execute_result"
    }
   ],
   "source": [
    "class2idx['cat']"
   ]
  },
  {
   "cell_type": "markdown",
   "metadata": {},
   "source": [
    "# DATA EXPLORATION"
   ]
  },
  {
   "cell_type": "markdown",
   "metadata": {},
   "source": [
    "## IMBALANCED DATASET"
   ]
  },
  {
   "cell_type": "code",
   "execution_count": 28,
   "metadata": {},
   "outputs": [
    {
     "data": {
      "text/plain": [
       "(array([368., 302., 325., 693., 215., 404., 879., 333., 279., 375.]),\n",
       " array([0. , 0.9, 1.8, 2.7, 3.6, 4.5, 5.4, 6.3, 7.2, 8.1, 9. ]),\n",
       " <a list of 10 Patch objects>)"
      ]
     },
     "execution_count": 28,
     "metadata": {},
     "output_type": "execute_result"
    },
    {
     "data": {
      "image/png": "[encoded data removed]",
      "text/plain": [
       "<Figure size 432x288 with 1 Axes>"
      ]
     },
     "metadata": {},
     "output_type": "display_data"
    }
   ],
   "source": [
    "plt.hist(y,bins=len(idx2class))"
   ]
  },
  {
   "cell_type": "markdown",
   "metadata": {},
   "source": [
    "# Extract features for patches\n",
    "\n",
    "Now using the preprocessing function!!!!!!!!!"
   ]
  },
  {
   "cell_type": "code",
   "execution_count": 29,
   "metadata": {},
   "outputs": [],
   "source": [
    "learned_model = keras.applications.ResNet50(weights='imagenet', include_top=False, pooling='max')\n",
    "pp_func = keras.applications.resnet50.preprocess_input\n",
    "\n",
    "features_extractor_model = keras.models.Sequential()\n",
    "features_extractor_model.add(keras.layers.Lambda(pp_func,name='preprocessing',input_shape=(PATCH_SIZE,PATCH_SIZE,3)))\n",
    "features_extractor_model.add(learned_model)"
   ]
  },
  {
   "cell_type": "code",
   "execution_count": 16,
   "metadata": {},
   "outputs": [],
   "source": [
    "x = x.reshape((4173*3,32,32,3))\n",
    "xtrain = features_extractor_model.predict(x)"
   ]
  },
  {
   "cell_type": "code",
   "execution_count": 30,
   "metadata": {},
   "outputs": [
    {
     "data": {
      "text/plain": [
       "(12519, 2048)"
      ]
     },
     "execution_count": 30,
     "metadata": {},
     "output_type": "execute_result"
    }
   ],
   "source": [
    "xtrain.shape"
   ]
  },
  {
   "cell_type": "code",
   "execution_count": 31,
   "metadata": {},
   "outputs": [],
   "source": [
    "xtrain = xtrain.reshape((4173,3,xtrain.shape[1]))"
   ]
  },
  {
   "cell_type": "code",
   "execution_count": 32,
   "metadata": {},
   "outputs": [
    {
     "data": {
      "text/plain": [
       "(4173, 3, 2048)"
      ]
     },
     "execution_count": 32,
     "metadata": {},
     "output_type": "execute_result"
    }
   ],
   "source": [
    "xtrain.shape"
   ]
  },
  {
   "cell_type": "markdown",
   "metadata": {},
   "source": [
    "## ONE HOT ENCODER"
   ]
  },
  {
   "cell_type": "code",
   "execution_count": 33,
   "metadata": {},
   "outputs": [],
   "source": [
    "ytrain = y"
   ]
  },
  {
   "cell_type": "code",
   "execution_count": 34,
   "metadata": {},
   "outputs": [],
   "source": [
    "from sklearn.preprocessing import OneHotEncoder\n"
   ]
  },
  {
   "cell_type": "code",
   "execution_count": 35,
   "metadata": {},
   "outputs": [],
   "source": [
    "enc = OneHotEncoder(handle_unknown='ignore')"
   ]
  },
  {
   "cell_type": "code",
   "execution_count": 36,
   "metadata": {},
   "outputs": [],
   "source": [
    "ytrain = ytrain.reshape((-1,1))"
   ]
  },
  {
   "cell_type": "code",
   "execution_count": 37,
   "metadata": {},
   "outputs": [
    {
     "data": {
      "text/plain": [
       "OneHotEncoder(categorical_features=None, categories=None,\n",
       "       dtype=<class 'numpy.float64'>, handle_unknown='ignore',\n",
       "       n_values=None, sparse=True)"
      ]
     },
     "execution_count": 37,
     "metadata": {},
     "output_type": "execute_result"
    }
   ],
   "source": [
    "enc.fit(ytrain)"
   ]
  },
  {
   "cell_type": "code",
   "execution_count": 38,
   "metadata": {},
   "outputs": [],
   "source": [
    "ytrain = enc.transform(ytrain)"
   ]
  },
  {
   "cell_type": "code",
   "execution_count": 39,
   "metadata": {},
   "outputs": [
    {
     "data": {
      "text/plain": [
       "0"
      ]
     },
     "execution_count": 39,
     "metadata": {},
     "output_type": "execute_result"
    }
   ],
   "source": [
    "ytrain[22].argmax()"
   ]
  },
  {
   "cell_type": "code",
   "execution_count": 40,
   "metadata": {},
   "outputs": [
    {
     "data": {
      "text/plain": [
       "((4173, 10), (4173, 3, 2048))"
      ]
     },
     "execution_count": 40,
     "metadata": {},
     "output_type": "execute_result"
    }
   ],
   "source": [
    "ytrain.shape, xtrain.shape"
   ]
  },
  {
   "cell_type": "markdown",
   "metadata": {},
   "source": [
    "# MODEL TRAINING"
   ]
  },
  {
   "cell_type": "code",
   "execution_count": 56,
   "metadata": {},
   "outputs": [],
   "source": [
    "from sklearn.model_selection import train_test_split"
   ]
  },
  {
   "cell_type": "code",
   "execution_count": 58,
   "metadata": {},
   "outputs": [],
   "source": [
    "X_train, X_test, y_train, y_test = train_test_split(xtrain, ytrain.todense(), test_size=0.1, stratify=ytrain.todense())"
   ]
  },
  {
   "cell_type": "markdown",
   "metadata": {},
   "source": [
    "## MODEL DEFINITION"
   ]
  },
  {
   "cell_type": "code",
   "execution_count": 54,
   "metadata": {},
   "outputs": [],
   "source": [
    "def get_model():\n",
    "    model = keras.Sequential()\n",
    "    model.add(keras.layers.LSTM(128, dropout=0.2, input_shape=(MAX_GAZE_POINTS, xtrain.shape[2],)))\n",
    "    model.add(keras.layers.Dense(len(idx2class), activation='sigmoid'))\n",
    "\n",
    "\n",
    "    model.compile(loss='categorical_crossentropy',\n",
    "                optimizer=keras.optimizers.rmsprop(lr=0.00005),\n",
    "                metrics=['accuracy'])\n",
    "    print(model.summary())\n",
    "    return model"
   ]
  },
  {
   "cell_type": "code",
   "execution_count": 55,
   "metadata": {},
   "outputs": [],
   "source": [
    "filepath=\"weights-imbalanced-{epoch:02d}-{val_acc:.2f}.hdf5\"\n",
    "checkpoint = keras.callbacks.ModelCheckpoint(filepath, monitor='val_acc', verbose=1, save_best_only=True, mode='max')"
   ]
  },
  {
   "cell_type": "code",
   "execution_count": 59,
   "metadata": {},
   "outputs": [
    {
     "name": "stdout",
     "output_type": "stream",
     "text": [
      "_________________________________________________________________\n",
      "Layer (type)                 Output Shape              Param #   \n",
      "=================================================================\n",
      "lstm_6 (LSTM)                (None, 128)               1114624   \n",
      "_________________________________________________________________\n",
      "dense_6 (Dense)              (None, 10)                1290      \n",
      "=================================================================\n",
      "Total params: 1,115,914\n",
      "Trainable params: 1,115,914\n",
      "Non-trainable params: 0\n",
      "_________________________________________________________________\n",
      "None\n",
      "Train on 3755 samples, validate on 418 samples\n",
      "Epoch 1/50\n",
      "3755/3755 [==============================] - 4s 1ms/step - loss: 2.2066 - acc: 0.1973 - val_loss: 2.0761 - val_acc: 0.2608\n",
      "\n",
      "Epoch 00001: val_acc improved from -inf to 0.26077, saving model to weights-imbalanced-01-0.26.hdf5\n",
      "Epoch 2/50\n",
      "3755/3755 [==============================] - 2s 434us/step - loss: 2.0548 - acc: 0.2591 - val_loss: 1.9417 - val_acc: 0.2895\n",
      "\n",
      "Epoch 00002: val_acc improved from 0.26077 to 0.28947, saving model to weights-imbalanced-02-0.29.hdf5\n",
      "Epoch 3/50\n",
      "3755/3755 [==============================] - 2s 449us/step - loss: 1.9428 - acc: 0.2935 - val_loss: 1.8508 - val_acc: 0.3397\n",
      "\n",
      "Epoch 00003: val_acc improved from 0.28947 to 0.33971, saving model to weights-imbalanced-03-0.34.hdf5\n",
      "Epoch 4/50\n",
      "3755/3755 [==============================] - 2s 442us/step - loss: 1.8495 - acc: 0.3486 - val_loss: 1.7680 - val_acc: 0.3828\n",
      "\n",
      "Epoch 00004: val_acc improved from 0.33971 to 0.38278, saving model to weights-imbalanced-04-0.38.hdf5\n",
      "Epoch 5/50\n",
      "3755/3755 [==============================] - 2s 437us/step - loss: 1.7797 - acc: 0.3816 - val_loss: 1.7155 - val_acc: 0.3995\n",
      "\n",
      "Epoch 00005: val_acc improved from 0.38278 to 0.39952, saving model to weights-imbalanced-05-0.40.hdf5\n",
      "Epoch 6/50\n",
      "3755/3755 [==============================] - 2s 438us/step - loss: 1.7174 - acc: 0.4141 - val_loss: 1.6782 - val_acc: 0.4258\n",
      "\n",
      "Epoch 00006: val_acc improved from 0.39952 to 0.42584, saving model to weights-imbalanced-06-0.43.hdf5\n",
      "Epoch 7/50\n",
      "3755/3755 [==============================] - 2s 439us/step - loss: 1.6682 - acc: 0.4330 - val_loss: 1.6468 - val_acc: 0.4234\n",
      "\n",
      "Epoch 00007: val_acc did not improve from 0.42584\n",
      "Epoch 8/50\n",
      "3755/3755 [==============================] - 2s 441us/step - loss: 1.6157 - acc: 0.4487 - val_loss: 1.6216 - val_acc: 0.4187\n",
      "\n",
      "Epoch 00008: val_acc did not improve from 0.42584\n",
      "Epoch 9/50\n",
      "3755/3755 [==============================] - 2s 440us/step - loss: 1.5832 - acc: 0.4634 - val_loss: 1.5947 - val_acc: 0.4474\n",
      "\n",
      "Epoch 00009: val_acc improved from 0.42584 to 0.44737, saving model to weights-imbalanced-09-0.45.hdf5\n",
      "Epoch 10/50\n",
      "3755/3755 [==============================] - 2s 438us/step - loss: 1.5410 - acc: 0.4751 - val_loss: 1.5669 - val_acc: 0.4426\n",
      "\n",
      "Epoch 00010: val_acc did not improve from 0.44737\n",
      "Epoch 11/50\n",
      "3755/3755 [==============================] - 2s 440us/step - loss: 1.4990 - acc: 0.5047 - val_loss: 1.5549 - val_acc: 0.4474\n",
      "\n",
      "Epoch 00011: val_acc did not improve from 0.44737\n",
      "Epoch 12/50\n",
      "3755/3755 [==============================] - 2s 439us/step - loss: 1.4572 - acc: 0.5188 - val_loss: 1.5427 - val_acc: 0.4498\n",
      "\n",
      "Epoch 00012: val_acc improved from 0.44737 to 0.44976, saving model to weights-imbalanced-12-0.45.hdf5\n",
      "Epoch 13/50\n",
      "3755/3755 [==============================] - 2s 439us/step - loss: 1.4336 - acc: 0.5217 - val_loss: 1.5299 - val_acc: 0.4569\n",
      "\n",
      "Epoch 00013: val_acc improved from 0.44976 to 0.45694, saving model to weights-imbalanced-13-0.46.hdf5\n",
      "Epoch 14/50\n",
      "3755/3755 [==============================] - 2s 444us/step - loss: 1.4027 - acc: 0.5289 - val_loss: 1.5210 - val_acc: 0.4474\n",
      "\n",
      "Epoch 00014: val_acc did not improve from 0.45694\n",
      "Epoch 15/50\n",
      "3755/3755 [==============================] - 2s 439us/step - loss: 1.3813 - acc: 0.5430 - val_loss: 1.5243 - val_acc: 0.4450\n",
      "\n",
      "Epoch 00015: val_acc did not improve from 0.45694\n",
      "Epoch 16/50\n",
      "3755/3755 [==============================] - 2s 435us/step - loss: 1.3556 - acc: 0.5558 - val_loss: 1.5094 - val_acc: 0.4713\n",
      "\n",
      "Epoch 00016: val_acc improved from 0.45694 to 0.47129, saving model to weights-imbalanced-16-0.47.hdf5\n",
      "Epoch 17/50\n",
      "3755/3755 [==============================] - 2s 447us/step - loss: 1.3225 - acc: 0.5758 - val_loss: 1.5066 - val_acc: 0.4641\n",
      "\n",
      "Epoch 00017: val_acc did not improve from 0.47129\n",
      "Epoch 18/50\n",
      "3755/3755 [==============================] - 2s 438us/step - loss: 1.3005 - acc: 0.5766 - val_loss: 1.4877 - val_acc: 0.4785\n",
      "\n",
      "Epoch 00018: val_acc improved from 0.47129 to 0.47847, saving model to weights-imbalanced-18-0.48.hdf5\n",
      "Epoch 19/50\n",
      "3755/3755 [==============================] - 2s 443us/step - loss: 1.2694 - acc: 0.5960 - val_loss: 1.4995 - val_acc: 0.4713\n",
      "\n",
      "Epoch 00019: val_acc did not improve from 0.47847\n",
      "Epoch 20/50\n",
      "3755/3755 [==============================] - 2s 438us/step - loss: 1.2419 - acc: 0.6032 - val_loss: 1.4847 - val_acc: 0.4785\n",
      "\n",
      "Epoch 00020: val_acc did not improve from 0.47847\n",
      "Epoch 21/50\n",
      "3755/3755 [==============================] - 2s 450us/step - loss: 1.2144 - acc: 0.6112 - val_loss: 1.4825 - val_acc: 0.4880\n",
      "\n",
      "Epoch 00021: val_acc improved from 0.47847 to 0.48804, saving model to weights-imbalanced-21-0.49.hdf5\n",
      "Epoch 22/50\n",
      "3755/3755 [==============================] - 2s 447us/step - loss: 1.1958 - acc: 0.6269 - val_loss: 1.4783 - val_acc: 0.4833\n",
      "\n",
      "Epoch 00022: val_acc did not improve from 0.48804\n",
      "Epoch 23/50\n",
      "3755/3755 [==============================] - 2s 452us/step - loss: 1.1692 - acc: 0.6344 - val_loss: 1.4807 - val_acc: 0.4761\n",
      "\n",
      "Epoch 00023: val_acc did not improve from 0.48804\n",
      "Epoch 24/50\n",
      "3755/3755 [==============================] - 2s 451us/step - loss: 1.1545 - acc: 0.6474 - val_loss: 1.4735 - val_acc: 0.4880\n",
      "\n",
      "Epoch 00024: val_acc did not improve from 0.48804\n",
      "Epoch 25/50\n",
      "3755/3755 [==============================] - 2s 436us/step - loss: 1.1261 - acc: 0.6666 - val_loss: 1.4740 - val_acc: 0.4737\n",
      "\n",
      "Epoch 00025: val_acc did not improve from 0.48804\n",
      "Epoch 26/50\n",
      "3755/3755 [==============================] - 2s 431us/step - loss: 1.1098 - acc: 0.6658 - val_loss: 1.4728 - val_acc: 0.4689\n",
      "\n",
      "Epoch 00026: val_acc did not improve from 0.48804\n",
      "Epoch 27/50\n",
      "3755/3755 [==============================] - 2s 432us/step - loss: 1.0783 - acc: 0.6786 - val_loss: 1.4780 - val_acc: 0.4809\n",
      "\n",
      "Epoch 00027: val_acc did not improve from 0.48804\n",
      "Epoch 28/50\n",
      "3755/3755 [==============================] - 2s 427us/step - loss: 1.0602 - acc: 0.6820 - val_loss: 1.4751 - val_acc: 0.4665\n",
      "\n",
      "Epoch 00028: val_acc did not improve from 0.48804\n",
      "Epoch 29/50\n",
      "3755/3755 [==============================] - 2s 427us/step - loss: 1.0385 - acc: 0.6985 - val_loss: 1.4708 - val_acc: 0.4665\n",
      "\n",
      "Epoch 00029: val_acc did not improve from 0.48804\n",
      "Epoch 30/50\n",
      "3755/3755 [==============================] - 2s 428us/step - loss: 1.0198 - acc: 0.7065 - val_loss: 1.4719 - val_acc: 0.4833\n",
      "\n",
      "Epoch 00030: val_acc did not improve from 0.48804\n",
      "Epoch 31/50\n",
      "3755/3755 [==============================] - 2s 426us/step - loss: 1.0041 - acc: 0.7055 - val_loss: 1.4665 - val_acc: 0.4737\n",
      "\n",
      "Epoch 00031: val_acc did not improve from 0.48804\n",
      "Epoch 32/50\n",
      "3755/3755 [==============================] - 2s 430us/step - loss: 0.9806 - acc: 0.7265 - val_loss: 1.4753 - val_acc: 0.4737\n",
      "\n",
      "Epoch 00032: val_acc did not improve from 0.48804\n",
      "Epoch 33/50\n",
      "3755/3755 [==============================] - 2s 433us/step - loss: 0.9522 - acc: 0.7342 - val_loss: 1.4562 - val_acc: 0.4928\n",
      "\n",
      "Epoch 00033: val_acc improved from 0.48804 to 0.49282, saving model to weights-imbalanced-33-0.49.hdf5\n",
      "Epoch 34/50\n",
      "3755/3755 [==============================] - 2s 430us/step - loss: 0.9415 - acc: 0.7390 - val_loss: 1.4615 - val_acc: 0.4737\n",
      "\n",
      "Epoch 00034: val_acc did not improve from 0.49282\n",
      "Epoch 35/50\n",
      "3755/3755 [==============================] - 2s 426us/step - loss: 0.9238 - acc: 0.7409 - val_loss: 1.4597 - val_acc: 0.4809\n",
      "\n",
      "Epoch 00035: val_acc did not improve from 0.49282\n",
      "Epoch 36/50\n",
      "3755/3755 [==============================] - 2s 427us/step - loss: 0.8973 - acc: 0.7627 - val_loss: 1.4618 - val_acc: 0.4713\n",
      "\n",
      "Epoch 00036: val_acc did not improve from 0.49282\n",
      "Epoch 37/50\n",
      "3755/3755 [==============================] - 2s 430us/step - loss: 0.8925 - acc: 0.7561 - val_loss: 1.4654 - val_acc: 0.4737\n",
      "\n",
      "Epoch 00037: val_acc did not improve from 0.49282\n",
      "Epoch 38/50\n",
      "3755/3755 [==============================] - 2s 428us/step - loss: 0.8721 - acc: 0.7696 - val_loss: 1.4702 - val_acc: 0.4641\n",
      "\n",
      "Epoch 00038: val_acc did not improve from 0.49282\n",
      "Epoch 39/50\n",
      "3755/3755 [==============================] - 2s 428us/step - loss: 0.8502 - acc: 0.7771 - val_loss: 1.4753 - val_acc: 0.4641\n",
      "\n",
      "Epoch 00039: val_acc did not improve from 0.49282\n",
      "Epoch 40/50\n",
      "3755/3755 [==============================] - 2s 429us/step - loss: 0.8363 - acc: 0.7790 - val_loss: 1.4663 - val_acc: 0.4665\n",
      "\n",
      "Epoch 00040: val_acc did not improve from 0.49282\n",
      "Epoch 41/50\n",
      "3755/3755 [==============================] - 2s 429us/step - loss: 0.8123 - acc: 0.7952 - val_loss: 1.4667 - val_acc: 0.4689\n",
      "\n",
      "Epoch 00041: val_acc did not improve from 0.49282\n",
      "Epoch 42/50\n",
      "3755/3755 [==============================] - 2s 434us/step - loss: 0.8023 - acc: 0.8024 - val_loss: 1.4870 - val_acc: 0.4474\n",
      "\n",
      "Epoch 00042: val_acc did not improve from 0.49282\n",
      "Epoch 43/50\n",
      "3755/3755 [==============================] - 2s 428us/step - loss: 0.7885 - acc: 0.7976 - val_loss: 1.4853 - val_acc: 0.4593\n",
      "\n",
      "Epoch 00043: val_acc did not improve from 0.49282\n",
      "Epoch 44/50\n",
      "3755/3755 [==============================] - 2s 432us/step - loss: 0.7680 - acc: 0.8133 - val_loss: 1.4871 - val_acc: 0.4593\n",
      "\n",
      "Epoch 00044: val_acc did not improve from 0.49282\n",
      "Epoch 45/50\n",
      "3755/3755 [==============================] - 2s 439us/step - loss: 0.7568 - acc: 0.8146 - val_loss: 1.4875 - val_acc: 0.4689\n",
      "\n",
      "Epoch 00045: val_acc did not improve from 0.49282\n",
      "Epoch 46/50\n",
      "3755/3755 [==============================] - 2s 441us/step - loss: 0.7414 - acc: 0.8229 - val_loss: 1.4697 - val_acc: 0.4785\n",
      "\n",
      "Epoch 00046: val_acc did not improve from 0.49282\n",
      "Epoch 47/50\n",
      "3755/3755 [==============================] - 2s 468us/step - loss: 0.7159 - acc: 0.8368 - val_loss: 1.4791 - val_acc: 0.4617\n",
      "\n",
      "Epoch 00047: val_acc did not improve from 0.49282\n",
      "Epoch 48/50\n",
      "3755/3755 [==============================] - 2s 456us/step - loss: 0.7027 - acc: 0.8333 - val_loss: 1.4832 - val_acc: 0.4713\n",
      "\n",
      "Epoch 00048: val_acc did not improve from 0.49282\n",
      "Epoch 49/50\n",
      "3755/3755 [==============================] - 2s 480us/step - loss: 0.6901 - acc: 0.8434 - val_loss: 1.4852 - val_acc: 0.4641\n",
      "\n",
      "Epoch 00049: val_acc did not improve from 0.49282\n",
      "Epoch 50/50\n",
      "3755/3755 [==============================] - 2s 500us/step - loss: 0.6739 - acc: 0.8485 - val_loss: 1.4877 - val_acc: 0.4641\n",
      "\n",
      "Epoch 00050: val_acc did not improve from 0.49282\n"
     ]
    },
    {
     "data": {
      "text/plain": [
       "<keras.callbacks.History at 0x274319de550>"
      ]
     },
     "execution_count": 59,
     "metadata": {},
     "output_type": "execute_result"
    }
   ],
   "source": [
    "model = get_model()\n",
    "model.fit(\n",
    "    X_train,\n",
    "    y_train,\n",
    "    validation_data=(X_test, y_test),\n",
    "    verbose=1,\n",
    "#     batch_size=64,\n",
    "    epochs=50,\n",
    "    callbacks=[checkpoint]\n",
    ")"
   ]
  },
  {
   "cell_type": "markdown",
   "metadata": {},
   "source": [
    "## BALANCED CLASSES"
   ]
  },
  {
   "cell_type": "code",
   "execution_count": null,
   "metadata": {},
   "outputs": [],
   "source": [
    "from scipy import stats"
   ]
  },
  {
   "cell_type": "code",
   "execution_count": null,
   "metadata": {},
   "outputs": [],
   "source": [
    "freq = stats.itemfreq(y)\n",
    "freq"
   ]
  },
  {
   "cell_type": "code",
   "execution_count": null,
   "metadata": {},
   "outputs": [],
   "source": [
    "MIN_CLASS = np.min(freq, axis=0)[1]\n",
    "\n",
    "MIN_CLASS"
   ]
  },
  {
   "cell_type": "code",
   "execution_count": null,
   "metadata": {},
   "outputs": [],
   "source": [
    "xtrain_bal = np.zeros((MIN_CLASS*10, MAX_GAZE_POINTS, VGG_NR_FEATURES))\n",
    "ytrain_bal = np.zeros((MIN_CLASS*10))\n",
    "counts = {k:0 for k in idx2class.keys()}"
   ]
  },
  {
   "cell_type": "code",
   "execution_count": null,
   "metadata": {},
   "outputs": [],
   "source": [
    "global_counter = 0\n",
    "for i, ins in enumerate(xtrain):\n",
    "    class_of_ins = y[i]\n",
    "    if counts[class_of_ins] < MIN_CLASS:\n",
    "        xtrain_bal[global_counter] = ins\n",
    "        ytrain_bal[global_counter] = class_of_ins\n",
    "        counts[class_of_ins] += 1\n",
    "        global_counter += 1\n"
   ]
  },
  {
   "cell_type": "code",
   "execution_count": null,
   "metadata": {},
   "outputs": [],
   "source": [
    "stats.itemfreq(ytrain_bal)"
   ]
  },
  {
   "cell_type": "markdown",
   "metadata": {},
   "source": [
    "## MODEL"
   ]
  },
  {
   "cell_type": "code",
   "execution_count": null,
   "metadata": {},
   "outputs": [],
   "source": [
    "enc = OneHotEncoder(handle_unknown='ignore')"
   ]
  },
  {
   "cell_type": "code",
   "execution_count": null,
   "metadata": {},
   "outputs": [],
   "source": [
    "ytrain_bal = ytrain_bal.reshape((-1,1))"
   ]
  },
  {
   "cell_type": "code",
   "execution_count": null,
   "metadata": {},
   "outputs": [],
   "source": [
    "enc.fit(ytrain_bal)"
   ]
  },
  {
   "cell_type": "code",
   "execution_count": null,
   "metadata": {},
   "outputs": [],
   "source": [
    "ytrain_bal = enc.transform(ytrain_bal)"
   ]
  },
  {
   "cell_type": "code",
   "execution_count": null,
   "metadata": {},
   "outputs": [],
   "source": [
    "ytrain_bal[22].argmax()"
   ]
  },
  {
   "cell_type": "code",
   "execution_count": null,
   "metadata": {},
   "outputs": [],
   "source": [
    "def get_model():\n",
    "    model = keras.Sequential()\n",
    "    model.add(keras.layers.LSTM(64, dropout=0.2, input_shape=(MAX_GAZE_POINTS, VGG_NR_FEATURES)))\n",
    "    model.add(keras.layers.Dense(len(idx2class), activation='sigmoid'))\n",
    "\n",
    "    optm = keras.optimizers.rmsprop(lr=0.00001, )\n",
    "    model.compile(loss='categorical_crossentropy',\n",
    "                optimizer=optm,\n",
    "                metrics=['accuracy'])\n",
    "    print(model.summary())\n",
    "    return model"
   ]
  },
  {
   "cell_type": "code",
   "execution_count": null,
   "metadata": {},
   "outputs": [],
   "source": [
    "filepath=\"bal_weights_rms-64layers-{epoch:02d}-{val_acc:.2f}.hdf5\"\n",
    "checkpoint = keras.callbacks.ModelCheckpoint(filepath, monitor='val_acc', verbose=1, save_best_only=True, mode='max')"
   ]
  },
  {
   "cell_type": "code",
   "execution_count": null,
   "metadata": {},
   "outputs": [],
   "source": [
    "model = get_model()\n",
    "model.fit(\n",
    "  xtrain_bal,\n",
    "  ytrain_bal,\n",
    "  validation_split=VALIDATION_PERC,\n",
    "  verbose=2,\n",
    "  epochs=50,\n",
    "  callbacks=[checkpoint]\n",
    ")"
   ]
  },
  {
   "cell_type": "code",
   "execution_count": null,
   "metadata": {},
   "outputs": [],
   "source": []
  }
 ],
 "metadata": {
  "kernelspec": {
   "display_name": "Python 3",
   "language": "python",
   "name": "python3"
  },
  "language_info": {
   "codemirror_mode": {
    "name": "ipython",
    "version": 3
   },
   "file_extension": ".py",
   "mimetype": "text/x-python",
   "name": "python",
   "nbconvert_exporter": "python",
   "pygments_lexer": "ipython3",
   "version": "3.6.5"
  }
 },
 "nbformat": 4,
 "nbformat_minor": 2
}
