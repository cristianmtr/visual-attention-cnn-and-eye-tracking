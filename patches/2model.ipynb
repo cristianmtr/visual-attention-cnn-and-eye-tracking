{
 "cells": [
  {
   "cell_type": "code",
   "execution_count": 1,
   "metadata": {},
   "outputs": [
    {
     "name": "stderr",
     "output_type": "stream",
     "text": [
      "C:\\Anaconda3\\lib\\site-packages\\h5py\\__init__.py:36: FutureWarning: Conversion of the second argument of issubdtype from `float` to `np.floating` is deprecated. In future, it will be treated as `np.float64 == np.dtype(float).type`.\n",
      "  from ._conv import register_converters as _register_converters\n",
      "Using TensorFlow backend.\n"
     ]
    }
   ],
   "source": [
    "%matplotlib inline\n",
    "from matplotlib import pyplot as plt\n",
    "import matplotlib\n",
    "import os\n",
    "import numpy as np\n",
    "import scipy\n",
    "import glob\n",
    "import sys\n",
    "from scipy import io\n",
    "import cv2\n",
    "import math\n",
    "import random\n",
    "import keras\n",
    "from sklearn import preprocessing\n",
    "\n",
    "matplotlib.rcParams['figure.figsize'] = [12, 12]"
   ]
  },
  {
   "cell_type": "code",
   "execution_count": 2,
   "metadata": {},
   "outputs": [],
   "source": [
    "POET_DIR = \"D:/data/POETdataset/\"\n",
    "PATCHES_FILE = os.path.join(POET_DIR, \"all_patches_list_fastest.npy\")\n",
    "LABELS_FILE = os.path.join(POET_DIR, \"all_labels_list_fastest.npy\")\n",
    "pascal_images = os.path.join(POET_DIR, 'PascalImages')\n",
    "CLASS2IDX_FILE = os.path.join(POET_DIR, 'class2idx.npy')\n",
    "IDX2CLASS_FILE = os.path.join(POET_DIR, 'idx2class.npy')\n",
    "PATCH_SIZE = 32\n",
    "HALF_PATCH = PATCH_SIZE//2\n",
    "DATASET_SIZE = 6270\n",
    "VALIDATION_PERC = 0.2\n",
    "GAZE_POINTS = 5\n",
    "BATCH_SIZE = 50\n",
    "os.chdir(POET_DIR)"
   ]
  },
  {
   "cell_type": "code",
   "execution_count": 3,
   "metadata": {},
   "outputs": [
    {
     "data": {
      "text/plain": [
       "'D:\\\\data\\\\POETdataset'"
      ]
     },
     "execution_count": 3,
     "metadata": {},
     "output_type": "execute_result"
    }
   ],
   "source": [
    "%pwd"
   ]
  },
  {
   "cell_type": "markdown",
   "metadata": {},
   "source": [
    "# LOAD DATA"
   ]
  },
  {
   "cell_type": "code",
   "execution_count": 4,
   "metadata": {},
   "outputs": [],
   "source": [
    "x = np.load(PATCHES_FILE)"
   ]
  },
  {
   "cell_type": "code",
   "execution_count": 5,
   "metadata": {},
   "outputs": [],
   "source": [
    "y = np.load(LABELS_FILE)"
   ]
  },
  {
   "cell_type": "code",
   "execution_count": 6,
   "metadata": {},
   "outputs": [],
   "source": [
    "class2idx = np.load(CLASS2IDX_FILE).tolist()"
   ]
  },
  {
   "cell_type": "code",
   "execution_count": 7,
   "metadata": {},
   "outputs": [],
   "source": [
    "idx2class = np.load(IDX2CLASS_FILE).tolist()"
   ]
  },
  {
   "cell_type": "markdown",
   "metadata": {},
   "source": [
    "## CHECKING DATA"
   ]
  },
  {
   "cell_type": "code",
   "execution_count": 8,
   "metadata": {},
   "outputs": [
    {
     "data": {
      "text/plain": [
       "6173"
      ]
     },
     "execution_count": 8,
     "metadata": {},
     "output_type": "execute_result"
    }
   ],
   "source": [
    "len(x)"
   ]
  },
  {
   "cell_type": "code",
   "execution_count": 9,
   "metadata": {},
   "outputs": [
    {
     "data": {
      "text/plain": [
       "6173"
      ]
     },
     "execution_count": 9,
     "metadata": {},
     "output_type": "execute_result"
    }
   ],
   "source": [
    "len(y)"
   ]
  },
  {
   "cell_type": "code",
   "execution_count": 10,
   "metadata": {},
   "outputs": [
    {
     "data": {
      "text/plain": [
       "(5, 32, 32, 3)"
      ]
     },
     "execution_count": 10,
     "metadata": {},
     "output_type": "execute_result"
    }
   ],
   "source": [
    "x[0].shape"
   ]
  },
  {
   "cell_type": "code",
   "execution_count": 11,
   "metadata": {},
   "outputs": [
    {
     "data": {
      "text/plain": [
       "(0.0, 255.0)"
      ]
     },
     "execution_count": 11,
     "metadata": {},
     "output_type": "execute_result"
    }
   ],
   "source": [
    "x[:,:].min(), x[:,:].max()"
   ]
  },
  {
   "cell_type": "code",
   "execution_count": 12,
   "metadata": {},
   "outputs": [
    {
     "data": {
      "text/plain": [
       "'cat'"
      ]
     },
     "execution_count": 12,
     "metadata": {},
     "output_type": "execute_result"
    }
   ],
   "source": [
    "idx2class[3]"
   ]
  },
  {
   "cell_type": "code",
   "execution_count": 13,
   "metadata": {},
   "outputs": [
    {
     "data": {
      "text/plain": [
       "3"
      ]
     },
     "execution_count": 13,
     "metadata": {},
     "output_type": "execute_result"
    }
   ],
   "source": [
    "class2idx['cat']"
   ]
  },
  {
   "cell_type": "markdown",
   "metadata": {},
   "source": [
    "# DATA EXPLORATION"
   ]
  },
  {
   "cell_type": "markdown",
   "metadata": {},
   "source": [
    "## IMBALANCED DATASET"
   ]
  },
  {
   "cell_type": "code",
   "execution_count": 14,
   "metadata": {},
   "outputs": [
    {
     "data": {
      "text/plain": [
       "(array([ 663.,  535.,  501., 1049.,  301.,  458., 1255.,  480.,  509.,\n",
       "         422.]),\n",
       " array([0. , 0.9, 1.8, 2.7, 3.6, 4.5, 5.4, 6.3, 7.2, 8.1, 9. ]),\n",
       " <a list of 10 Patch objects>)"
      ]
     },
     "execution_count": 14,
     "metadata": {},
     "output_type": "execute_result"
    },
    {
     "data": {
      "image/png": "[encoded data removed]",
      "text/plain": [
       "<Figure size 432x288 with 1 Axes>"
      ]
     },
     "metadata": {},
     "output_type": "display_data"
    }
   ],
   "source": [
    "plt.hist(y,bins=len(idx2class))"
   ]
  },
  {
   "cell_type": "markdown",
   "metadata": {},
   "source": [
    "# Extract features for patches\n",
    "\n",
    "Now using the preprocessing function!!!!!!!!!"
   ]
  },
  {
   "cell_type": "code",
   "execution_count": 15,
   "metadata": {},
   "outputs": [],
   "source": [
    "learned_model = keras.applications.ResNet50(weights='imagenet', include_top=False, pooling='max')\n",
    "pp_func = keras.applications.resnet50.preprocess_input\n",
    "\n",
    "features_extractor_model = keras.models.Sequential()\n",
    "features_extractor_model.add(keras.layers.Lambda(pp_func,name='preprocessing',input_shape=(PATCH_SIZE,PATCH_SIZE,3)))\n",
    "features_extractor_model.add(learned_model)"
   ]
  },
  {
   "cell_type": "code",
   "execution_count": 16,
   "metadata": {},
   "outputs": [],
   "source": [
    "x = x.reshape((x.shape[0]*GAZE_POINTS,PATCH_SIZE,PATCH_SIZE,3))\n",
    "xtrain = features_extractor_model.predict(x)"
   ]
  },
  {
   "cell_type": "code",
   "execution_count": 17,
   "metadata": {},
   "outputs": [],
   "source": [
    "xtrain = xtrain.reshape((x.shape[0]//GAZE_POINTS,GAZE_POINTS,xtrain.shape[1]))"
   ]
  },
  {
   "cell_type": "code",
   "execution_count": 18,
   "metadata": {},
   "outputs": [
    {
     "data": {
      "text/plain": [
       "(6173, 5, 2048)"
      ]
     },
     "execution_count": 18,
     "metadata": {},
     "output_type": "execute_result"
    }
   ],
   "source": [
    "xtrain.shape"
   ]
  },
  {
   "cell_type": "markdown",
   "metadata": {},
   "source": [
    "## ONE HOT ENCODER"
   ]
  },
  {
   "cell_type": "code",
   "execution_count": 19,
   "metadata": {},
   "outputs": [],
   "source": [
    "ytrain = y"
   ]
  },
  {
   "cell_type": "code",
   "execution_count": 20,
   "metadata": {},
   "outputs": [],
   "source": [
    "from sklearn.preprocessing import OneHotEncoder\n"
   ]
  },
  {
   "cell_type": "code",
   "execution_count": 21,
   "metadata": {},
   "outputs": [],
   "source": [
    "enc = OneHotEncoder(handle_unknown='ignore')"
   ]
  },
  {
   "cell_type": "code",
   "execution_count": 22,
   "metadata": {},
   "outputs": [],
   "source": [
    "ytrain = ytrain.reshape((-1,1))"
   ]
  },
  {
   "cell_type": "code",
   "execution_count": 23,
   "metadata": {},
   "outputs": [
    {
     "data": {
      "text/plain": [
       "OneHotEncoder(categorical_features=None, categories=None,\n",
       "       dtype=<class 'numpy.float64'>, handle_unknown='ignore',\n",
       "       n_values=None, sparse=True)"
      ]
     },
     "execution_count": 23,
     "metadata": {},
     "output_type": "execute_result"
    }
   ],
   "source": [
    "enc.fit(ytrain)"
   ]
  },
  {
   "cell_type": "code",
   "execution_count": 24,
   "metadata": {},
   "outputs": [],
   "source": [
    "ytrain = enc.transform(ytrain)"
   ]
  },
  {
   "cell_type": "code",
   "execution_count": 25,
   "metadata": {},
   "outputs": [
    {
     "data": {
      "text/plain": [
       "0"
      ]
     },
     "execution_count": 25,
     "metadata": {},
     "output_type": "execute_result"
    }
   ],
   "source": [
    "ytrain[22].argmax()"
   ]
  },
  {
   "cell_type": "code",
   "execution_count": 26,
   "metadata": {},
   "outputs": [
    {
     "data": {
      "text/plain": [
       "((6173, 10), (6173, 5, 2048))"
      ]
     },
     "execution_count": 26,
     "metadata": {},
     "output_type": "execute_result"
    }
   ],
   "source": [
    "ytrain.shape, xtrain.shape"
   ]
  },
  {
   "cell_type": "markdown",
   "metadata": {},
   "source": [
    "# MODEL TRAINING"
   ]
  },
  {
   "cell_type": "code",
   "execution_count": 27,
   "metadata": {},
   "outputs": [],
   "source": [
    "from sklearn.model_selection import train_test_split"
   ]
  },
  {
   "cell_type": "code",
   "execution_count": 28,
   "metadata": {},
   "outputs": [],
   "source": [
    "X_train, X_test, y_train, y_test = train_test_split(xtrain, ytrain.todense(), test_size=0.1, stratify=ytrain.todense())"
   ]
  },
  {
   "cell_type": "markdown",
   "metadata": {},
   "source": [
    "## MODEL DEFINITION"
   ]
  },
  {
   "cell_type": "code",
   "execution_count": 41,
   "metadata": {},
   "outputs": [],
   "source": [
    "def get_model():\n",
    "    model = keras.Sequential()\n",
    "    model.add(keras.layers.LSTM(32, dropout=0.5, input_shape=(GAZE_POINTS, xtrain.shape[2],)))\n",
    "    model.add(keras.layers.Dense(len(idx2class), activation='softmax'))\n",
    "\n",
    "    model.compile(loss='categorical_crossentropy',\n",
    "                optimizer=keras.optimizers.Adam(),\n",
    "                metrics=['accuracy'])\n",
    "    print(model.summary())\n",
    "    return model"
   ]
  },
  {
   "cell_type": "code",
   "execution_count": 42,
   "metadata": {},
   "outputs": [],
   "source": [
    "import time\n",
    "model_id = str(int(time.time()))\n",
    "os.mkdir(model_id)"
   ]
  },
  {
   "cell_type": "code",
   "execution_count": 43,
   "metadata": {},
   "outputs": [],
   "source": [
    "filepath=os.path.join(model_id,\"weights-imbalanced-{epoch:02d}-{val_acc:.2f}.hdf5\")\n",
    "checkpoint = keras.callbacks.ModelCheckpoint(filepath, monitor='val_acc', verbose=1, save_best_only=True, mode='max')"
   ]
  },
  {
   "cell_type": "code",
   "execution_count": 44,
   "metadata": {},
   "outputs": [
    {
     "name": "stdout",
     "output_type": "stream",
     "text": [
      "_________________________________________________________________\n",
      "Layer (type)                 Output Shape              Param #   \n",
      "=================================================================\n",
      "lstm_2 (LSTM)                (None, 32)                266368    \n",
      "_________________________________________________________________\n",
      "dense_2 (Dense)              (None, 10)                330       \n",
      "=================================================================\n",
      "Total params: 266,698\n",
      "Trainable params: 266,698\n",
      "Non-trainable params: 0\n",
      "_________________________________________________________________\n",
      "None\n",
      "Train on 5555 samples, validate on 618 samples\n",
      "Epoch 1/50\n",
      "5555/5555 [==============================] - 4s 755us/step - loss: 1.8701 - acc: 0.3275 - val_loss: 1.5921 - val_acc: 0.4563\n",
      "\n",
      "Epoch 00001: val_acc improved from -inf to 0.45631, saving model to 1542639680\\weights-imbalanced-01-0.46.hdf5\n",
      "Epoch 2/50\n",
      "5555/5555 [==============================] - 3s 473us/step - loss: 1.5587 - acc: 0.4450 - val_loss: 1.4810 - val_acc: 0.4887\n",
      "\n",
      "Epoch 00002: val_acc improved from 0.45631 to 0.48867, saving model to 1542639680\\weights-imbalanced-02-0.49.hdf5\n",
      "Epoch 3/50\n",
      "5555/5555 [==============================] - 3s 474us/step - loss: 1.4471 - acc: 0.4914 - val_loss: 1.4033 - val_acc: 0.5113\n",
      "\n",
      "Epoch 00003: val_acc improved from 0.48867 to 0.51133, saving model to 1542639680\\weights-imbalanced-03-0.51.hdf5\n",
      "Epoch 4/50\n",
      "5555/5555 [==============================] - 3s 475us/step - loss: 1.3722 - acc: 0.5188 - val_loss: 1.3762 - val_acc: 0.5307\n",
      "\n",
      "Epoch 00004: val_acc improved from 0.51133 to 0.53074, saving model to 1542639680\\weights-imbalanced-04-0.53.hdf5\n",
      "Epoch 5/50\n",
      "5555/5555 [==============================] - 3s 473us/step - loss: 1.3184 - acc: 0.5347 - val_loss: 1.3631 - val_acc: 0.5340\n",
      "\n",
      "Epoch 00005: val_acc improved from 0.53074 to 0.53398, saving model to 1542639680\\weights-imbalanced-05-0.53.hdf5\n",
      "Epoch 6/50\n",
      "5555/5555 [==============================] - 3s 473us/step - loss: 1.2862 - acc: 0.5435 - val_loss: 1.3178 - val_acc: 0.5210\n",
      "\n",
      "Epoch 00006: val_acc did not improve from 0.53398\n",
      "Epoch 7/50\n",
      "5555/5555 [==============================] - 3s 475us/step - loss: 1.2449 - acc: 0.5606 - val_loss: 1.3263 - val_acc: 0.5227\n",
      "\n",
      "Epoch 00007: val_acc did not improve from 0.53398\n",
      "Epoch 8/50\n",
      "5555/5555 [==============================] - 3s 473us/step - loss: 1.2257 - acc: 0.5676 - val_loss: 1.3237 - val_acc: 0.5291\n",
      "\n",
      "Epoch 00008: val_acc did not improve from 0.53398\n",
      "Epoch 9/50\n",
      "5555/5555 [==============================] - 3s 475us/step - loss: 1.2134 - acc: 0.5770 - val_loss: 1.3060 - val_acc: 0.5405\n",
      "\n",
      "Epoch 00009: val_acc improved from 0.53398 to 0.54045, saving model to 1542639680\\weights-imbalanced-09-0.54.hdf5\n",
      "Epoch 10/50\n",
      "5555/5555 [==============================] - 3s 473us/step - loss: 1.1921 - acc: 0.5761 - val_loss: 1.3262 - val_acc: 0.5275\n",
      "\n",
      "Epoch 00010: val_acc did not improve from 0.54045\n",
      "Epoch 11/50\n",
      "5555/5555 [==============================] - 3s 472us/step - loss: 1.1603 - acc: 0.5914 - val_loss: 1.3165 - val_acc: 0.5081\n",
      "\n",
      "Epoch 00011: val_acc did not improve from 0.54045\n",
      "Epoch 12/50\n",
      "5555/5555 [==============================] - 3s 474us/step - loss: 1.1612 - acc: 0.5912 - val_loss: 1.3291 - val_acc: 0.5372\n",
      "\n",
      "Epoch 00012: val_acc did not improve from 0.54045\n",
      "Epoch 13/50\n",
      "5555/5555 [==============================] - 3s 478us/step - loss: 1.1431 - acc: 0.5924 - val_loss: 1.2925 - val_acc: 0.5243\n",
      "\n",
      "Epoch 00013: val_acc did not improve from 0.54045\n",
      "Epoch 14/50\n",
      "5555/5555 [==============================] - 3s 476us/step - loss: 1.1212 - acc: 0.6077 - val_loss: 1.3107 - val_acc: 0.5178\n",
      "\n",
      "Epoch 00014: val_acc did not improve from 0.54045\n",
      "Epoch 15/50\n",
      "5555/5555 [==============================] - 3s 473us/step - loss: 1.1123 - acc: 0.6081 - val_loss: 1.3002 - val_acc: 0.5275\n",
      "\n",
      "Epoch 00015: val_acc did not improve from 0.54045\n",
      "Epoch 16/50\n",
      "5555/5555 [==============================] - 3s 474us/step - loss: 1.1315 - acc: 0.5969 - val_loss: 1.3424 - val_acc: 0.5162\n",
      "\n",
      "Epoch 00016: val_acc did not improve from 0.54045\n",
      "Epoch 17/50\n",
      "5555/5555 [==============================] - 3s 478us/step - loss: 1.1037 - acc: 0.6112 - val_loss: 1.3184 - val_acc: 0.5081\n",
      "\n",
      "Epoch 00017: val_acc did not improve from 0.54045\n",
      "Epoch 18/50\n",
      "5555/5555 [==============================] - 3s 501us/step - loss: 1.0743 - acc: 0.6218 - val_loss: 1.3430 - val_acc: 0.4951\n",
      "\n",
      "Epoch 00018: val_acc did not improve from 0.54045\n",
      "Epoch 19/50\n",
      "5555/5555 [==============================] - 3s 475us/step - loss: 1.0740 - acc: 0.6191 - val_loss: 1.2932 - val_acc: 0.5210\n",
      "\n",
      "Epoch 00019: val_acc did not improve from 0.54045\n",
      "Epoch 20/50\n",
      "5555/5555 [==============================] - 3s 473us/step - loss: 1.0469 - acc: 0.6297 - val_loss: 1.2727 - val_acc: 0.5324\n",
      "\n",
      "Epoch 00020: val_acc did not improve from 0.54045\n",
      "Epoch 21/50\n",
      "5555/5555 [==============================] - 3s 473us/step - loss: 1.0305 - acc: 0.6353 - val_loss: 1.2746 - val_acc: 0.5307\n",
      "\n",
      "Epoch 00021: val_acc did not improve from 0.54045\n",
      "Epoch 22/50\n",
      "5555/5555 [==============================] - 3s 475us/step - loss: 1.0426 - acc: 0.6290 - val_loss: 1.2966 - val_acc: 0.5194\n",
      "\n",
      "Epoch 00022: val_acc did not improve from 0.54045\n",
      "Epoch 23/50\n",
      "5555/5555 [==============================] - 3s 478us/step - loss: 1.0263 - acc: 0.6340 - val_loss: 1.2857 - val_acc: 0.5275\n",
      "\n",
      "Epoch 00023: val_acc did not improve from 0.54045\n",
      "Epoch 24/50\n",
      "5555/5555 [==============================] - 3s 473us/step - loss: 1.0247 - acc: 0.6400 - val_loss: 1.3231 - val_acc: 0.5162\n",
      "\n",
      "Epoch 00024: val_acc did not improve from 0.54045\n",
      "Epoch 25/50\n",
      "5555/5555 [==============================] - 3s 474us/step - loss: 1.0200 - acc: 0.6383 - val_loss: 1.2912 - val_acc: 0.5210\n",
      "\n",
      "Epoch 00025: val_acc did not improve from 0.54045\n",
      "Epoch 26/50\n",
      "5555/5555 [==============================] - 3s 475us/step - loss: 1.0102 - acc: 0.6432 - val_loss: 1.2865 - val_acc: 0.5243\n",
      "\n",
      "Epoch 00026: val_acc did not improve from 0.54045\n",
      "Epoch 27/50\n",
      "5555/5555 [==============================] - 3s 473us/step - loss: 0.9916 - acc: 0.6495 - val_loss: 1.2709 - val_acc: 0.5421\n",
      "\n",
      "Epoch 00027: val_acc improved from 0.54045 to 0.54207, saving model to 1542639680\\weights-imbalanced-27-0.54.hdf5\n",
      "Epoch 28/50\n",
      "5555/5555 [==============================] - 3s 470us/step - loss: 0.9916 - acc: 0.6491 - val_loss: 1.2966 - val_acc: 0.5324\n",
      "\n",
      "Epoch 00028: val_acc did not improve from 0.54207\n",
      "Epoch 29/50\n",
      "5555/5555 [==============================] - 3s 472us/step - loss: 0.9720 - acc: 0.6540 - val_loss: 1.3138 - val_acc: 0.5243\n",
      "\n",
      "Epoch 00029: val_acc did not improve from 0.54207\n",
      "Epoch 30/50\n",
      "5555/5555 [==============================] - 3s 474us/step - loss: 0.9607 - acc: 0.6648 - val_loss: 1.3357 - val_acc: 0.5162\n",
      "\n",
      "Epoch 00030: val_acc did not improve from 0.54207\n",
      "Epoch 31/50\n",
      "5555/5555 [==============================] - 3s 470us/step - loss: 0.9654 - acc: 0.6576 - val_loss: 1.3239 - val_acc: 0.5388\n",
      "\n",
      "Epoch 00031: val_acc did not improve from 0.54207\n",
      "Epoch 32/50\n",
      "5555/5555 [==============================] - 3s 470us/step - loss: 0.9582 - acc: 0.6605 - val_loss: 1.2957 - val_acc: 0.5259\n",
      "\n",
      "Epoch 00032: val_acc did not improve from 0.54207\n",
      "Epoch 33/50\n",
      "5555/5555 [==============================] - 3s 472us/step - loss: 0.9588 - acc: 0.6547 - val_loss: 1.3297 - val_acc: 0.5485\n",
      "\n",
      "Epoch 00033: val_acc improved from 0.54207 to 0.54854, saving model to 1542639680\\weights-imbalanced-33-0.55.hdf5\n",
      "Epoch 34/50\n",
      "5555/5555 [==============================] - 3s 473us/step - loss: 0.9563 - acc: 0.6608 - val_loss: 1.3232 - val_acc: 0.5307\n",
      "\n",
      "Epoch 00034: val_acc did not improve from 0.54854\n",
      "Epoch 35/50\n",
      "5555/5555 [==============================] - 3s 472us/step - loss: 0.9563 - acc: 0.6668 - val_loss: 1.3380 - val_acc: 0.5307\n",
      "\n",
      "Epoch 00035: val_acc did not improve from 0.54854\n",
      "Epoch 36/50\n",
      "5555/5555 [==============================] - 3s 473us/step - loss: 0.9368 - acc: 0.6742 - val_loss: 1.3605 - val_acc: 0.5340\n",
      "\n",
      "Epoch 00036: val_acc did not improve from 0.54854\n",
      "Epoch 37/50\n",
      "5555/5555 [==============================] - 3s 473us/step - loss: 0.9439 - acc: 0.6648 - val_loss: 1.3554 - val_acc: 0.5340\n",
      "\n",
      "Epoch 00037: val_acc did not improve from 0.54854\n",
      "Epoch 38/50\n",
      "5555/5555 [==============================] - 3s 474us/step - loss: 0.9370 - acc: 0.6758 - val_loss: 1.3532 - val_acc: 0.5307\n",
      "\n",
      "Epoch 00038: val_acc did not improve from 0.54854\n",
      "Epoch 39/50\n",
      "5555/5555 [==============================] - 3s 473us/step - loss: 0.9309 - acc: 0.6709 - val_loss: 1.3565 - val_acc: 0.5340\n",
      "\n",
      "Epoch 00039: val_acc did not improve from 0.54854\n",
      "Epoch 40/50\n",
      "5555/5555 [==============================] - 3s 475us/step - loss: 0.9099 - acc: 0.6749 - val_loss: 1.3441 - val_acc: 0.5405\n",
      "\n",
      "Epoch 00040: val_acc did not improve from 0.54854\n",
      "Epoch 41/50\n",
      "5555/5555 [==============================] - 3s 473us/step - loss: 0.9025 - acc: 0.6779 - val_loss: 1.3098 - val_acc: 0.5583\n",
      "\n",
      "Epoch 00041: val_acc improved from 0.54854 to 0.55825, saving model to 1542639680\\weights-imbalanced-41-0.56.hdf5\n",
      "Epoch 42/50\n",
      "5555/5555 [==============================] - 3s 477us/step - loss: 0.9139 - acc: 0.6725 - val_loss: 1.3506 - val_acc: 0.5210\n",
      "\n",
      "Epoch 00042: val_acc did not improve from 0.55825\n",
      "Epoch 43/50\n",
      "5555/5555 [==============================] - 3s 471us/step - loss: 0.9199 - acc: 0.6779 - val_loss: 1.3209 - val_acc: 0.5259\n",
      "\n",
      "Epoch 00043: val_acc did not improve from 0.55825\n",
      "Epoch 44/50\n",
      "5555/5555 [==============================] - 3s 473us/step - loss: 0.9033 - acc: 0.6788 - val_loss: 1.3294 - val_acc: 0.5372\n",
      "\n",
      "Epoch 00044: val_acc did not improve from 0.55825\n",
      "Epoch 45/50\n",
      "5555/5555 [==============================] - 3s 472us/step - loss: 0.8805 - acc: 0.6896 - val_loss: 1.3157 - val_acc: 0.5405\n",
      "\n",
      "Epoch 00045: val_acc did not improve from 0.55825\n",
      "Epoch 46/50\n",
      "5555/5555 [==============================] - 3s 472us/step - loss: 0.8933 - acc: 0.6817 - val_loss: 1.2876 - val_acc: 0.5469\n",
      "\n",
      "Epoch 00046: val_acc did not improve from 0.55825\n",
      "Epoch 47/50\n",
      "5555/5555 [==============================] - 3s 473us/step - loss: 0.8675 - acc: 0.6916 - val_loss: 1.3092 - val_acc: 0.5405\n",
      "\n",
      "Epoch 00047: val_acc did not improve from 0.55825\n",
      "Epoch 48/50\n",
      "5555/5555 [==============================] - 3s 473us/step - loss: 0.8870 - acc: 0.6862 - val_loss: 1.3666 - val_acc: 0.5340\n",
      "\n",
      "Epoch 00048: val_acc did not improve from 0.55825\n",
      "Epoch 49/50\n",
      "5555/5555 [==============================] - 3s 470us/step - loss: 0.8803 - acc: 0.6853 - val_loss: 1.3446 - val_acc: 0.5356\n",
      "\n",
      "Epoch 00049: val_acc did not improve from 0.55825\n",
      "Epoch 50/50\n",
      "5555/5555 [==============================] - 3s 477us/step - loss: 0.8754 - acc: 0.6941 - val_loss: 1.3460 - val_acc: 0.5307\n",
      "\n",
      "Epoch 00050: val_acc did not improve from 0.55825\n"
     ]
    }
   ],
   "source": [
    "model = get_model()\n",
    "history = model.fit(\n",
    "    X_train,\n",
    "    y_train,\n",
    "    validation_data=(X_test, y_test),\n",
    "    verbose=1,\n",
    "#     batch_size=64,\n",
    "    epochs=50,\n",
    "    callbacks=[checkpoint]\n",
    ")"
   ]
  },
  {
   "cell_type": "code",
   "execution_count": 45,
   "metadata": {},
   "outputs": [],
   "source": [
    "from keras.utils import plot_model"
   ]
  },
  {
   "cell_type": "code",
   "execution_count": 46,
   "metadata": {},
   "outputs": [],
   "source": [
    "plot_model(model, to_file=os.path.join(model_id, 'model.png'), show_shapes=True)"
   ]
  },
  {
   "cell_type": "code",
   "execution_count": 47,
   "metadata": {},
   "outputs": [],
   "source": [
    "total_summary=\"\"\n",
    "from shutil import copyfile\n",
    "\n",
    "def add_to_summary(line):\n",
    "    global total_summary\n",
    "    total_summary += \"%s\\n\" %line\n",
    "\n",
    "def savesummary():\n",
    "    global total_summary\n",
    "    path = os.path.join(model_id, \"summary.txt\")\n",
    "    with open(path,'w') as f:\n",
    "        f.writelines(total_summary)\n",
    "        f.writelines(\"\\nUsed %s\" %PATCHES_FILE)\n",
    "    print('saving summary to ', path)\n",
    "    copyfile(\"data_note.txt\", os.path.join(model_id, \"data_note.txt\"))"
   ]
  },
  {
   "cell_type": "code",
   "execution_count": 48,
   "metadata": {},
   "outputs": [
    {
     "name": "stdout",
     "output_type": "stream",
     "text": [
      "saving summary to  1542639680\\summary.txt\n"
     ]
    }
   ],
   "source": [
    "model.summary(print_fn=add_to_summary)\n",
    "savesummary()"
   ]
  },
  {
   "cell_type": "code",
   "execution_count": null,
   "metadata": {},
   "outputs": [],
   "source": []
  },
  {
   "cell_type": "markdown",
   "metadata": {},
   "source": [
    "# Plot model history"
   ]
  },
  {
   "cell_type": "code",
   "execution_count": 49,
   "metadata": {},
   "outputs": [
    {
     "data": {
      "image/png": "[encoded data removed]",
      "text/plain": [
       "<Figure size 432x288 with 1 Axes>"
      ]
     },
     "metadata": {},
     "output_type": "display_data"
    },
    {
     "data": {
      "text/plain": [
       "<Figure size 432x288 with 0 Axes>"
      ]
     },
     "metadata": {},
     "output_type": "display_data"
    }
   ],
   "source": [
    "# Plot training & validation accuracy values\n",
    "plt.plot(history.history['acc'])\n",
    "plt.plot(history.history['val_acc'])\n",
    "plt.title('Model accuracy')\n",
    "plt.ylabel('Accuracy')\n",
    "plt.xlabel('Epoch')\n",
    "plt.legend(['Train', 'Test'], loc='upper left')\n",
    "plt.gcf().savefig(os.path.join(model_id, \"accuracy.png\"))\n",
    "plt.show()\n",
    "plt.clf()"
   ]
  },
  {
   "cell_type": "code",
   "execution_count": 50,
   "metadata": {},
   "outputs": [
    {
     "data": {
      "image/png": "[encoded data removed]",
      "text/plain": [
       "<Figure size 432x288 with 1 Axes>"
      ]
     },
     "metadata": {},
     "output_type": "display_data"
    }
   ],
   "source": [
    "# Plot training & validation loss values\n",
    "plt.plot(history.history['loss'])\n",
    "plt.plot(history.history['val_loss'])\n",
    "plt.title('Model loss')\n",
    "plt.ylabel('Loss')\n",
    "plt.xlabel('Epoch')\n",
    "plt.legend(['Train', 'Test'], loc='upper left')\n",
    "plt.savefig(os.path.join(model_id, \"loss.png\"))\n",
    "plt.show()"
   ]
  },
  {
   "cell_type": "markdown",
   "metadata": {},
   "source": [
    "# Confusion matrix"
   ]
  },
  {
   "cell_type": "code",
   "execution_count": 51,
   "metadata": {},
   "outputs": [
    {
     "name": "stdout",
     "output_type": "stream",
     "text": [
      "Normalized confusion matrix\n"
     ]
    },
    {
     "data": {
      "image/png": "[encoded data removed]",
      "text/plain": [
       "<Figure size 432x288 with 2 Axes>"
      ]
     },
     "metadata": {},
     "output_type": "display_data"
    }
   ],
   "source": [
    "def plot_confusion_matrix(cm, classes,\n",
    "                          normalize=False,\n",
    "                          title='Confusion matrix',\n",
    "                          cmap=plt.cm.Blues):\n",
    "    \"\"\"\n",
    "    This function prints and plots the confusion matrix.\n",
    "    Normalization can be applied by setting `normalize=True`.\n",
    "    \"\"\"\n",
    "    if normalize:\n",
    "        cm = cm.astype('float') / cm.sum(axis=1)[:, np.newaxis]\n",
    "        print(\"Normalized confusion matrix\")\n",
    "    else:\n",
    "        print('Confusion matrix, without normalization')\n",
    "\n",
    "#     print(cm)\n",
    "\n",
    "    plt.imshow(cm, interpolation='nearest', cmap=cmap)\n",
    "    plt.title(title)\n",
    "    plt.colorbar()\n",
    "    tick_marks = np.arange(len(classes))\n",
    "    plt.xticks(tick_marks, classes, rotation=45)\n",
    "    plt.yticks(tick_marks, classes)\n",
    "\n",
    "    fmt = '.2f' if normalize else 'd'\n",
    "    thresh = cm.max() / 2.\n",
    "    for i, j in itertools.product(range(cm.shape[0]), range(cm.shape[1])):\n",
    "        plt.text(j, i, format(cm[i, j], fmt),\n",
    "                 horizontalalignment=\"center\",\n",
    "                 color=\"white\" if cm[i, j] > thresh else \"black\")\n",
    "\n",
    "    plt.ylabel('True label')\n",
    "    plt.xlabel('Predicted label')\n",
    "    plt.tight_layout()\n",
    "    return plt.gcf()\n",
    "\n",
    "from sklearn.metrics import confusion_matrix\n",
    "\n",
    "y_pred_proba = model.predict(X_test)\n",
    "\n",
    "y_pred = np.argmax(y_pred_proba, axis=1)\n",
    "\n",
    "y_test_argmax = np.argmax(y_test, axis=1)\n",
    "\n",
    "y_test_argmax.shape\n",
    "\n",
    "cnf_matrix = confusion_matrix(y_test_argmax, y_pred)\n",
    "\n",
    "import itertools\n",
    "\n",
    "fig = plot_confusion_matrix(cnf_matrix, class2idx.keys(), normalize=True)\n"
   ]
  },
  {
   "cell_type": "code",
   "execution_count": 52,
   "metadata": {},
   "outputs": [],
   "source": [
    "np.save(os.path.join(model_id, 'model-cnf_matrix'), cnf_matrix)\n",
    "fig.savefig(os.path.join(model_id, 'model-cnf_matrix.png'))"
   ]
  },
  {
   "cell_type": "markdown",
   "metadata": {},
   "source": [
    "## BALANCED CLASSES"
   ]
  },
  {
   "cell_type": "code",
   "execution_count": null,
   "metadata": {},
   "outputs": [],
   "source": [
    "from scipy import stats"
   ]
  },
  {
   "cell_type": "code",
   "execution_count": null,
   "metadata": {},
   "outputs": [],
   "source": [
    "freq = stats.itemfreq(y)\n",
    "freq"
   ]
  },
  {
   "cell_type": "code",
   "execution_count": null,
   "metadata": {},
   "outputs": [],
   "source": [
    "MIN_CLASS = np.min(freq, axis=0)[1]\n",
    "\n",
    "MIN_CLASS"
   ]
  },
  {
   "cell_type": "code",
   "execution_count": null,
   "metadata": {},
   "outputs": [],
   "source": [
    "xtrain_bal = np.zeros((MIN_CLASS*10, MAX_GAZE_POINTS, VGG_NR_FEATURES))\n",
    "ytrain_bal = np.zeros((MIN_CLASS*10))\n",
    "counts = {k:0 for k in idx2class.keys()}"
   ]
  },
  {
   "cell_type": "code",
   "execution_count": null,
   "metadata": {},
   "outputs": [],
   "source": [
    "global_counter = 0\n",
    "for i, ins in enumerate(xtrain):\n",
    "    class_of_ins = y[i]\n",
    "    if counts[class_of_ins] < MIN_CLASS:\n",
    "        xtrain_bal[global_counter] = ins\n",
    "        ytrain_bal[global_counter] = class_of_ins\n",
    "        counts[class_of_ins] += 1\n",
    "        global_counter += 1\n"
   ]
  },
  {
   "cell_type": "code",
   "execution_count": null,
   "metadata": {},
   "outputs": [],
   "source": [
    "stats.itemfreq(ytrain_bal)"
   ]
  },
  {
   "cell_type": "markdown",
   "metadata": {},
   "source": [
    "## MODEL"
   ]
  },
  {
   "cell_type": "code",
   "execution_count": null,
   "metadata": {},
   "outputs": [],
   "source": [
    "enc = OneHotEncoder(handle_unknown='ignore')"
   ]
  },
  {
   "cell_type": "code",
   "execution_count": null,
   "metadata": {},
   "outputs": [],
   "source": [
    "ytrain_bal = ytrain_bal.reshape((-1,1))"
   ]
  },
  {
   "cell_type": "code",
   "execution_count": null,
   "metadata": {},
   "outputs": [],
   "source": [
    "enc.fit(ytrain_bal)"
   ]
  },
  {
   "cell_type": "code",
   "execution_count": null,
   "metadata": {},
   "outputs": [],
   "source": [
    "ytrain_bal = enc.transform(ytrain_bal)"
   ]
  },
  {
   "cell_type": "code",
   "execution_count": null,
   "metadata": {},
   "outputs": [],
   "source": [
    "ytrain_bal[22].argmax()"
   ]
  },
  {
   "cell_type": "code",
   "execution_count": null,
   "metadata": {},
   "outputs": [],
   "source": [
    "def get_model():\n",
    "    model = keras.Sequential()\n",
    "    model.add(keras.layers.LSTM(64, dropout=0.2, input_shape=(MAX_GAZE_POINTS, VGG_NR_FEATURES)))\n",
    "    model.add(keras.layers.Dense(len(idx2class), activation='sigmoid'))\n",
    "\n",
    "    optm = keras.optimizers.rmsprop(lr=0.00001, )\n",
    "    model.compile(loss='categorical_crossentropy',\n",
    "                optimizer=optm,\n",
    "                metrics=['accuracy'])\n",
    "    print(model.summary())\n",
    "    return model"
   ]
  },
  {
   "cell_type": "code",
   "execution_count": null,
   "metadata": {},
   "outputs": [],
   "source": [
    "filepath=\"bal_weights_rms-64layers-{epoch:02d}-{val_acc:.2f}.hdf5\"\n",
    "checkpoint = keras.callbacks.ModelCheckpoint(filepath, monitor='val_acc', verbose=1, save_best_only=True, mode='max')"
   ]
  },
  {
   "cell_type": "code",
   "execution_count": null,
   "metadata": {},
   "outputs": [],
   "source": [
    "model = get_model()\n",
    "model.fit(\n",
    "  xtrain_bal,\n",
    "  ytrain_bal,\n",
    "  validation_split=VALIDATION_PERC,\n",
    "  verbose=2,\n",
    "  epochs=50,\n",
    "  callbacks=[checkpoint]\n",
    ")"
   ]
  },
  {
   "cell_type": "code",
   "execution_count": null,
   "metadata": {},
   "outputs": [],
   "source": []
  }
 ],
 "metadata": {
  "kernelspec": {
   "display_name": "Python 3",
   "language": "python",
   "name": "python3"
  },
  "language_info": {
   "codemirror_mode": {
    "name": "ipython",
    "version": 3
   },
   "file_extension": ".py",
   "mimetype": "text/x-python",
   "name": "python",
   "nbconvert_exporter": "python",
   "pygments_lexer": "ipython3",
   "version": "3.6.5"
  }
 },
 "nbformat": 4,
 "nbformat_minor": 2
}
