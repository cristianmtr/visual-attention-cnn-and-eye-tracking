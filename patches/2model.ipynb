{
 "cells": [
  {
   "cell_type": "code",
   "execution_count": 1,
   "metadata": {},
   "outputs": [
    {
     "name": "stderr",
     "output_type": "stream",
     "text": [
      "C:\\Anaconda3\\lib\\site-packages\\h5py\\__init__.py:36: FutureWarning: Conversion of the second argument of issubdtype from `float` to `np.floating` is deprecated. In future, it will be treated as `np.float64 == np.dtype(float).type`.\n",
      "  from ._conv import register_converters as _register_converters\n",
      "Using TensorFlow backend.\n"
     ]
    }
   ],
   "source": [
    "%matplotlib inline\n",
    "from matplotlib import pyplot as plt\n",
    "import os\n",
    "import numpy as np\n",
    "import scipy\n",
    "import glob\n",
    "import sys\n",
    "from scipy import io\n",
    "import cv2\n",
    "import math\n",
    "import random\n",
    "import keras\n",
    "from sklearn import preprocessing"
   ]
  },
  {
   "cell_type": "code",
   "execution_count": null,
   "metadata": {},
   "outputs": [],
   "source": [
    "POET_DIR = \"D:/data/POETdataset/\"\n",
    "PATCHES_FILE = os.path.join(POET_DIR, \"x.npy\")\n",
    "LABELS_FILE = os.path.join(POET_DIR, \"y.npy\")\n",
    "pascal_images = os.path.join(POET_DIR, 'PascalImages')\n",
    "CLASS2IDX_FILE = os.path.join(POET_DIR, 'class2idx.npy')\n",
    "IDX2CLASS_FILE = os.path.join(POET_DIR, 'idx2class.npy')\n",
    "PATCH_SIZE = 32\n",
    "HALF_PATCH = PATCH_SIZE//2\n",
    "DATASET_SIZE = 6270\n",
    "VALIDATION_PERC = 0.2\n",
    "MAX_GAZE_POINTS = 3 # TEMPORARY\n",
    "MIN_GAZE_POINTS = 3\n",
    "VGG_NR_FEATURES = 512\n",
    "user_index = 0 # TEMPORARY\n",
    "BATCH_SIZE = 50\n",
    "os.chdir(POET_DIR)"
   ]
  },
  {
   "cell_type": "code",
   "execution_count": 3,
   "metadata": {},
   "outputs": [
    {
     "data": {
      "text/plain": [
       "'D:\\\\data\\\\POETdataset'"
      ]
     },
     "execution_count": 3,
     "metadata": {},
     "output_type": "execute_result"
    }
   ],
   "source": [
    "%pwd"
   ]
  },
  {
   "cell_type": "markdown",
   "metadata": {},
   "source": [
    "# LOAD DATA"
   ]
  },
  {
   "cell_type": "markdown",
   "metadata": {},
   "source": [
    "How to access dictionaries in numpy data : use `tolist()`"
   ]
  },
  {
   "cell_type": "code",
   "execution_count": 4,
   "metadata": {},
   "outputs": [],
   "source": [
    "x = np.load(PATCHES_FILE).tolist()"
   ]
  },
  {
   "cell_type": "code",
   "execution_count": 5,
   "metadata": {},
   "outputs": [],
   "source": [
    "y = np.load(LABELS_FILE).tolist()"
   ]
  },
  {
   "cell_type": "code",
   "execution_count": 6,
   "metadata": {},
   "outputs": [],
   "source": [
    "class2idx = np.load(CLASS2IDX_FILE).tolist()"
   ]
  },
  {
   "cell_type": "code",
   "execution_count": 7,
   "metadata": {},
   "outputs": [],
   "source": [
    "idx2class = np.load(IDX2CLASS_FILE).tolist()"
   ]
  },
  {
   "cell_type": "markdown",
   "metadata": {},
   "source": [
    "## CHECKING DATA"
   ]
  },
  {
   "cell_type": "code",
   "execution_count": 8,
   "metadata": {},
   "outputs": [
    {
     "data": {
      "text/plain": [
       "4491"
      ]
     },
     "execution_count": 8,
     "metadata": {},
     "output_type": "execute_result"
    }
   ],
   "source": [
    "len(x)"
   ]
  },
  {
   "cell_type": "code",
   "execution_count": 9,
   "metadata": {},
   "outputs": [
    {
     "data": {
      "text/plain": [
       "6270"
      ]
     },
     "execution_count": 9,
     "metadata": {},
     "output_type": "execute_result"
    }
   ],
   "source": [
    "len(y)"
   ]
  },
  {
   "cell_type": "code",
   "execution_count": 10,
   "metadata": {},
   "outputs": [
    {
     "data": {
      "text/plain": [
       "(3, 1, 512)"
      ]
     },
     "execution_count": 10,
     "metadata": {},
     "output_type": "execute_result"
    }
   ],
   "source": [
    "x['cat_2009_002527'].shape"
   ]
  },
  {
   "cell_type": "code",
   "execution_count": 11,
   "metadata": {},
   "outputs": [
    {
     "data": {
      "text/plain": [
       "3"
      ]
     },
     "execution_count": 11,
     "metadata": {},
     "output_type": "execute_result"
    }
   ],
   "source": [
    "y['cat_2009_002527']"
   ]
  },
  {
   "cell_type": "code",
   "execution_count": 12,
   "metadata": {},
   "outputs": [
    {
     "data": {
      "text/plain": [
       "'cat'"
      ]
     },
     "execution_count": 12,
     "metadata": {},
     "output_type": "execute_result"
    }
   ],
   "source": [
    "idx2class[3]"
   ]
  },
  {
   "cell_type": "code",
   "execution_count": 13,
   "metadata": {},
   "outputs": [
    {
     "data": {
      "text/plain": [
       "3"
      ]
     },
     "execution_count": 13,
     "metadata": {},
     "output_type": "execute_result"
    }
   ],
   "source": [
    "class2idx['cat']"
   ]
  },
  {
   "cell_type": "markdown",
   "metadata": {},
   "source": [
    "# DATA EXPLORATION"
   ]
  },
  {
   "cell_type": "markdown",
   "metadata": {},
   "source": [
    "## IMBALANCED DATASET"
   ]
  },
  {
   "cell_type": "code",
   "execution_count": 14,
   "metadata": {},
   "outputs": [
    {
     "data": {
      "text/plain": [
       "(array([ 666.,  536.,  504., 1051.,  301.,  498., 1257.,  480.,  510.,\n",
       "         467.]),\n",
       " array([0. , 0.9, 1.8, 2.7, 3.6, 4.5, 5.4, 6.3, 7.2, 8.1, 9. ]),\n",
       " <a list of 10 Patch objects>)"
      ]
     },
     "execution_count": 14,
     "metadata": {},
     "output_type": "execute_result"
    },
    {
     "data": {
      "image/png": "[encoded data removed]",
      "text/plain": [
       "<Figure size 432x288 with 1 Axes>"
      ]
     },
     "metadata": {},
     "output_type": "display_data"
    }
   ],
   "source": [
    "plt.hist(y.values(),bins=len(idx2class))"
   ]
  },
  {
   "cell_type": "markdown",
   "metadata": {},
   "source": [
    "## Xtrain, Ytrain"
   ]
  },
  {
   "cell_type": "code",
   "execution_count": 15,
   "metadata": {},
   "outputs": [],
   "source": [
    "xtrain = np.array(list(x.values()))"
   ]
  },
  {
   "cell_type": "code",
   "execution_count": 16,
   "metadata": {},
   "outputs": [],
   "source": [
    "xtrain = xtrain[:,:,0,:]"
   ]
  },
  {
   "cell_type": "code",
   "execution_count": 17,
   "metadata": {},
   "outputs": [],
   "source": [
    "assert xtrain.shape[1:] == (3, 512)"
   ]
  },
  {
   "cell_type": "code",
   "execution_count": 18,
   "metadata": {},
   "outputs": [],
   "source": [
    "ytrain = np.array([y[k] for k in list(x.keys())])\n"
   ]
  },
  {
   "cell_type": "code",
   "execution_count": 19,
   "metadata": {},
   "outputs": [
    {
     "data": {
      "text/plain": [
       "(4491, 4491)"
      ]
     },
     "execution_count": 19,
     "metadata": {},
     "output_type": "execute_result"
    }
   ],
   "source": [
    "len(ytrain), len(xtrain)"
   ]
  },
  {
   "cell_type": "markdown",
   "metadata": {},
   "source": [
    "## ONE HOT ENCODER"
   ]
  },
  {
   "cell_type": "code",
   "execution_count": 20,
   "metadata": {},
   "outputs": [],
   "source": [
    "from sklearn.preprocessing import OneHotEncoder\n"
   ]
  },
  {
   "cell_type": "code",
   "execution_count": 21,
   "metadata": {},
   "outputs": [],
   "source": [
    "enc = OneHotEncoder(handle_unknown='ignore')"
   ]
  },
  {
   "cell_type": "code",
   "execution_count": 22,
   "metadata": {},
   "outputs": [],
   "source": [
    "ytrain = ytrain.reshape((-1,1))"
   ]
  },
  {
   "cell_type": "code",
   "execution_count": 23,
   "metadata": {},
   "outputs": [
    {
     "data": {
      "text/plain": [
       "OneHotEncoder(categorical_features=None, categories=None,\n",
       "       dtype=<class 'numpy.float64'>, handle_unknown='ignore',\n",
       "       n_values=None, sparse=True)"
      ]
     },
     "execution_count": 23,
     "metadata": {},
     "output_type": "execute_result"
    }
   ],
   "source": [
    "enc.fit(ytrain)"
   ]
  },
  {
   "cell_type": "code",
   "execution_count": 24,
   "metadata": {},
   "outputs": [],
   "source": [
    "ytrain = enc.transform(ytrain)"
   ]
  },
  {
   "cell_type": "code",
   "execution_count": 25,
   "metadata": {},
   "outputs": [
    {
     "data": {
      "text/plain": [
       "9"
      ]
     },
     "execution_count": 25,
     "metadata": {},
     "output_type": "execute_result"
    }
   ],
   "source": [
    "ytrain[22].argmax()"
   ]
  },
  {
   "cell_type": "markdown",
   "metadata": {},
   "source": [
    "### CHECKING"
   ]
  },
  {
   "cell_type": "code",
   "execution_count": 26,
   "metadata": {},
   "outputs": [
    {
     "data": {
      "text/plain": [
       "'sofa'"
      ]
     },
     "execution_count": 26,
     "metadata": {},
     "output_type": "execute_result"
    }
   ],
   "source": [
    "idx2class[ytrain[22].argmax()]"
   ]
  },
  {
   "cell_type": "code",
   "execution_count": 27,
   "metadata": {},
   "outputs": [
    {
     "data": {
      "text/plain": [
       "('sofa_2009_000217',\n",
       " array([[[ 0.       ,  0.       ,  0.       , ...,  0.       ,\n",
       "           0.       ,  0.       ]],\n",
       " \n",
       "        [[47.79278  ,  0.       ,  0.       , ...,  0.       ,\n",
       "           0.       ,  0.       ]],\n",
       " \n",
       "        [[ 1.4062679,  0.       ,  0.       , ...,  0.       ,\n",
       "           0.       ,  0.       ]]], dtype=float32))"
      ]
     },
     "execution_count": 27,
     "metadata": {},
     "output_type": "execute_result"
    }
   ],
   "source": [
    "list(x.items())[22]"
   ]
  },
  {
   "cell_type": "code",
   "execution_count": 28,
   "metadata": {},
   "outputs": [
    {
     "data": {
      "text/plain": [
       "'horse'"
      ]
     },
     "execution_count": 28,
     "metadata": {},
     "output_type": "execute_result"
    }
   ],
   "source": [
    "idx2class[ytrain[2122].argmax()]"
   ]
  },
  {
   "cell_type": "code",
   "execution_count": 29,
   "metadata": {},
   "outputs": [
    {
     "data": {
      "text/plain": [
       "('horse_2009_003530', array([[[0., 0., 0., ..., 0., 0., 0.]],\n",
       " \n",
       "        [[0., 0., 0., ..., 0., 0., 0.]],\n",
       " \n",
       "        [[0., 0., 0., ..., 0., 0., 0.]]], dtype=float32))"
      ]
     },
     "execution_count": 29,
     "metadata": {},
     "output_type": "execute_result"
    }
   ],
   "source": [
    "list(x.items())[2122]"
   ]
  },
  {
   "cell_type": "markdown",
   "metadata": {},
   "source": [
    "# MODEL TRAINING"
   ]
  },
  {
   "cell_type": "markdown",
   "metadata": {},
   "source": [
    "## MODEL DEFINITION"
   ]
  },
  {
   "cell_type": "code",
   "execution_count": 30,
   "metadata": {},
   "outputs": [],
   "source": [
    "def get_model():\n",
    "  model = keras.Sequential()\n",
    "  model.add(keras.layers.LSTM(64, dropout=0.2, recurrent_dropout=0.2, input_shape=(MAX_GAZE_POINTS, VGG_NR_FEATURES)))\n",
    "#   model.add(keras.layers.LSTM(32, dropout=0.2, recurrent_dropout=0.2))\n",
    "  model.add(keras.layers.Dense(len(idx2class), activation='sigmoid'))\n",
    "\n",
    "\n",
    "  model.compile(loss='categorical_crossentropy',\n",
    "                optimizer='rmsprop',\n",
    "                metrics=['accuracy'])\n",
    "  print(model.summary())\n",
    "  return model"
   ]
  },
  {
   "cell_type": "code",
   "execution_count": 31,
   "metadata": {},
   "outputs": [],
   "source": [
    "filepath=\"weights-2_64layers_32-{epoch:02d}-{val_acc:.2f}.hdf5\"\n",
    "checkpoint = keras.callbacks.ModelCheckpoint(filepath, monitor='val_acc', verbose=1, save_best_only=True, mode='max')"
   ]
  },
  {
   "cell_type": "code",
   "execution_count": 32,
   "metadata": {},
   "outputs": [
    {
     "name": "stdout",
     "output_type": "stream",
     "text": [
      "_________________________________________________________________\n",
      "Layer (type)                 Output Shape              Param #   \n",
      "=================================================================\n",
      "lstm_1 (LSTM)                (None, 64)                147712    \n",
      "_________________________________________________________________\n",
      "dense_1 (Dense)              (None, 10)                650       \n",
      "=================================================================\n",
      "Total params: 148,362\n",
      "Trainable params: 148,362\n",
      "Non-trainable params: 0\n",
      "_________________________________________________________________\n",
      "None\n",
      "Train on 3592 samples, validate on 899 samples\n",
      "Epoch 1/20\n",
      " - 4s - loss: 2.1667 - acc: 0.2102 - val_loss: 2.0275 - val_acc: 0.2659\n",
      "\n",
      "Epoch 00001: val_acc improved from -inf to 0.26585, saving model to weights-2_64layers_32-01-0.27.hdf5\n",
      "Epoch 2/20\n",
      " - 1s - loss: 1.9388 - acc: 0.2645 - val_loss: 1.8653 - val_acc: 0.3192\n",
      "\n",
      "Epoch 00002: val_acc improved from 0.26585 to 0.31924, saving model to weights-2_64layers_32-02-0.32.hdf5\n",
      "Epoch 3/20\n",
      " - 1s - loss: 1.8066 - acc: 0.3388 - val_loss: 1.7976 - val_acc: 0.3560\n",
      "\n",
      "Epoch 00003: val_acc improved from 0.31924 to 0.35595, saving model to weights-2_64layers_32-03-0.36.hdf5\n",
      "Epoch 4/20\n",
      " - 1s - loss: 1.7161 - acc: 0.3722 - val_loss: 1.7494 - val_acc: 0.3715\n",
      "\n",
      "Epoch 00004: val_acc improved from 0.35595 to 0.37152, saving model to weights-2_64layers_32-04-0.37.hdf5\n",
      "Epoch 5/20\n",
      " - 1s - loss: 1.6490 - acc: 0.3956 - val_loss: 1.6995 - val_acc: 0.3938\n",
      "\n",
      "Epoch 00005: val_acc improved from 0.37152 to 0.39377, saving model to weights-2_64layers_32-05-0.39.hdf5\n",
      "Epoch 6/20\n",
      " - 1s - loss: 1.5905 - acc: 0.4198 - val_loss: 1.6990 - val_acc: 0.3938\n",
      "\n",
      "Epoch 00006: val_acc did not improve from 0.39377\n",
      "Epoch 7/20\n",
      " - 1s - loss: 1.5516 - acc: 0.4357 - val_loss: 1.6791 - val_acc: 0.4071\n",
      "\n",
      "Epoch 00007: val_acc improved from 0.39377 to 0.40712, saving model to weights-2_64layers_32-07-0.41.hdf5\n",
      "Epoch 8/20\n",
      " - 1s - loss: 1.5017 - acc: 0.4543 - val_loss: 1.6557 - val_acc: 0.4160\n",
      "\n",
      "Epoch 00008: val_acc improved from 0.40712 to 0.41602, saving model to weights-2_64layers_32-08-0.42.hdf5\n",
      "Epoch 9/20\n",
      " - 1s - loss: 1.4582 - acc: 0.4685 - val_loss: 1.6554 - val_acc: 0.4305\n",
      "\n",
      "Epoch 00009: val_acc improved from 0.41602 to 0.43048, saving model to weights-2_64layers_32-09-0.43.hdf5\n",
      "Epoch 10/20\n",
      " - 1s - loss: 1.4214 - acc: 0.4928 - val_loss: 1.6578 - val_acc: 0.4260\n",
      "\n",
      "Epoch 00010: val_acc did not improve from 0.43048\n",
      "Epoch 11/20\n",
      " - 1s - loss: 1.3904 - acc: 0.5031 - val_loss: 1.6286 - val_acc: 0.4427\n",
      "\n",
      "Epoch 00011: val_acc improved from 0.43048 to 0.44271, saving model to weights-2_64layers_32-11-0.44.hdf5\n",
      "Epoch 12/20\n",
      " - 1s - loss: 1.3587 - acc: 0.5148 - val_loss: 1.6330 - val_acc: 0.4260\n",
      "\n",
      "Epoch 00012: val_acc did not improve from 0.44271\n",
      "Epoch 13/20\n",
      " - 1s - loss: 1.3269 - acc: 0.5331 - val_loss: 1.6394 - val_acc: 0.4494\n",
      "\n",
      "Epoch 00013: val_acc improved from 0.44271 to 0.44939, saving model to weights-2_64layers_32-13-0.45.hdf5\n",
      "Epoch 14/20\n",
      " - 1s - loss: 1.3013 - acc: 0.5379 - val_loss: 1.6263 - val_acc: 0.4360\n",
      "\n",
      "Epoch 00014: val_acc did not improve from 0.44939\n",
      "Epoch 15/20\n",
      " - 1s - loss: 1.2827 - acc: 0.5476 - val_loss: 1.6312 - val_acc: 0.4372\n",
      "\n",
      "Epoch 00015: val_acc did not improve from 0.44939\n",
      "Epoch 16/20\n",
      " - 1s - loss: 1.2512 - acc: 0.5560 - val_loss: 1.6575 - val_acc: 0.4138\n",
      "\n",
      "Epoch 00016: val_acc did not improve from 0.44939\n",
      "Epoch 17/20\n",
      " - 1s - loss: 1.2316 - acc: 0.5757 - val_loss: 1.6422 - val_acc: 0.4305\n",
      "\n",
      "Epoch 00017: val_acc did not improve from 0.44939\n",
      "Epoch 18/20\n",
      " - 1s - loss: 1.1948 - acc: 0.5824 - val_loss: 1.6457 - val_acc: 0.4294\n",
      "\n",
      "Epoch 00018: val_acc did not improve from 0.44939\n",
      "Epoch 19/20\n",
      " - 1s - loss: 1.1815 - acc: 0.5883 - val_loss: 1.6330 - val_acc: 0.4360\n",
      "\n",
      "Epoch 00019: val_acc did not improve from 0.44939\n",
      "Epoch 20/20\n",
      " - 1s - loss: 1.1554 - acc: 0.5972 - val_loss: 1.6741 - val_acc: 0.4349\n",
      "\n",
      "Epoch 00020: val_acc did not improve from 0.44939\n"
     ]
    },
    {
     "data": {
      "text/plain": [
       "<keras.callbacks.History at 0x1d7e6ccbd68>"
      ]
     },
     "execution_count": 32,
     "metadata": {},
     "output_type": "execute_result"
    }
   ],
   "source": [
    "model = get_model()\n",
    "model.fit(\n",
    "  xtrain,\n",
    "  ytrain,\n",
    "  validation_split=VALIDATION_PERC,\n",
    "  verbose=2,\n",
    "  epochs=20,\n",
    "  callbacks=[checkpoint]\n",
    ")"
   ]
  },
  {
   "cell_type": "markdown",
   "metadata": {},
   "source": [
    "## BALANCED CLASSES"
   ]
  },
  {
   "cell_type": "code",
   "execution_count": 33,
   "metadata": {},
   "outputs": [],
   "source": [
    "y = np.load(LABELS_FILE).tolist()\n",
    "ytrain = np.array([y[k] for k in list(x.keys())])"
   ]
  },
  {
   "cell_type": "code",
   "execution_count": 34,
   "metadata": {},
   "outputs": [],
   "source": [
    "from scipy import stats"
   ]
  },
  {
   "cell_type": "code",
   "execution_count": 35,
   "metadata": {},
   "outputs": [
    {
     "name": "stderr",
     "output_type": "stream",
     "text": [
      "C:\\Anaconda3\\lib\\site-packages\\ipykernel_launcher.py:1: DeprecationWarning: `itemfreq` is deprecated!\n",
      "`itemfreq` is deprecated and will be removed in a future version. Use instead `np.unique(..., return_counts=True)`\n",
      "  \"\"\"Entry point for launching an IPython kernel.\n"
     ]
    },
    {
     "data": {
      "text/plain": [
       "array([[  0, 283],\n",
       "       [  1, 417],\n",
       "       [  2, 346],\n",
       "       [  3, 810],\n",
       "       [  4, 219],\n",
       "       [  5, 422],\n",
       "       [  6, 944],\n",
       "       [  7, 334],\n",
       "       [  8, 349],\n",
       "       [  9, 367]], dtype=int64)"
      ]
     },
     "execution_count": 35,
     "metadata": {},
     "output_type": "execute_result"
    }
   ],
   "source": [
    "stats.itemfreq(ytrain)"
   ]
  },
  {
   "cell_type": "code",
   "execution_count": 36,
   "metadata": {},
   "outputs": [],
   "source": [
    "MIN_CLASS = 219"
   ]
  },
  {
   "cell_type": "code",
   "execution_count": 37,
   "metadata": {},
   "outputs": [],
   "source": [
    "xtrain_bal = np.zeros((MIN_CLASS*10, MAX_GAZE_POINTS, VGG_NR_FEATURES))\n",
    "ytrain_bal = np.zeros((MIN_CLASS*10))\n",
    "counts = {k:0 for k in idx2class.keys()}"
   ]
  },
  {
   "cell_type": "code",
   "execution_count": 38,
   "metadata": {},
   "outputs": [],
   "source": [
    "i = 0\n",
    "for ins_k, ins_v in x.items():\n",
    "  class_of_ins = y[ins_k]\n",
    "  if counts[class_of_ins] < MIN_CLASS:\n",
    "    xtrain_bal[i] = ins_v[:,0,:]\n",
    "    ytrain_bal[i] = class_of_ins\n",
    "    counts[class_of_ins] += 1\n",
    "    i+=1\n"
   ]
  },
  {
   "cell_type": "code",
   "execution_count": 39,
   "metadata": {},
   "outputs": [
    {
     "name": "stderr",
     "output_type": "stream",
     "text": [
      "C:\\Anaconda3\\lib\\site-packages\\ipykernel_launcher.py:1: DeprecationWarning: `itemfreq` is deprecated!\n",
      "`itemfreq` is deprecated and will be removed in a future version. Use instead `np.unique(..., return_counts=True)`\n",
      "  \"\"\"Entry point for launching an IPython kernel.\n"
     ]
    },
    {
     "data": {
      "text/plain": [
       "array([[  0., 219.],\n",
       "       [  1., 219.],\n",
       "       [  2., 219.],\n",
       "       [  3., 219.],\n",
       "       [  4., 219.],\n",
       "       [  5., 219.],\n",
       "       [  6., 219.],\n",
       "       [  7., 219.],\n",
       "       [  8., 219.],\n",
       "       [  9., 219.]])"
      ]
     },
     "execution_count": 39,
     "metadata": {},
     "output_type": "execute_result"
    }
   ],
   "source": [
    "stats.itemfreq(ytrain_bal)"
   ]
  },
  {
   "cell_type": "markdown",
   "metadata": {},
   "source": [
    "## MODEL"
   ]
  },
  {
   "cell_type": "code",
   "execution_count": 40,
   "metadata": {},
   "outputs": [],
   "source": [
    "enc = OneHotEncoder(handle_unknown='ignore')"
   ]
  },
  {
   "cell_type": "code",
   "execution_count": 41,
   "metadata": {},
   "outputs": [],
   "source": [
    "ytrain_bal = ytrain_bal.reshape((-1,1))"
   ]
  },
  {
   "cell_type": "code",
   "execution_count": 42,
   "metadata": {},
   "outputs": [
    {
     "data": {
      "text/plain": [
       "OneHotEncoder(categorical_features=None, categories=None,\n",
       "       dtype=<class 'numpy.float64'>, handle_unknown='ignore',\n",
       "       n_values=None, sparse=True)"
      ]
     },
     "execution_count": 42,
     "metadata": {},
     "output_type": "execute_result"
    }
   ],
   "source": [
    "enc.fit(ytrain_bal)"
   ]
  },
  {
   "cell_type": "code",
   "execution_count": 43,
   "metadata": {},
   "outputs": [],
   "source": [
    "ytrain_bal = enc.transform(ytrain_bal)"
   ]
  },
  {
   "cell_type": "code",
   "execution_count": 44,
   "metadata": {},
   "outputs": [
    {
     "data": {
      "text/plain": [
       "9"
      ]
     },
     "execution_count": 44,
     "metadata": {},
     "output_type": "execute_result"
    }
   ],
   "source": [
    "ytrain_bal[22].argmax()"
   ]
  },
  {
   "cell_type": "code",
   "execution_count": 45,
   "metadata": {},
   "outputs": [],
   "source": [
    "def get_model():\n",
    "  model = keras.Sequential()\n",
    "  model.add(keras.layers.LSTM(64, dropout=0.2, recurrent_dropout=0.2, input_shape=(MAX_GAZE_POINTS, VGG_NR_FEATURES)))\n",
    "#   model.add(keras.layers.LSTM(32, dropout=0.2, recurrent_dropout=0.2))\n",
    "  model.add(keras.layers.Dense(len(idx2class), activation='sigmoid'))\n",
    "\n",
    "\n",
    "  model.compile(loss='categorical_crossentropy',\n",
    "                optimizer='adadelta',\n",
    "                metrics=['accuracy'])\n",
    "  print(model.summary())\n",
    "  return model"
   ]
  },
  {
   "cell_type": "code",
   "execution_count": 46,
   "metadata": {},
   "outputs": [],
   "source": [
    "filepath=\"bal_weights_adadelta-64layers-{epoch:02d}-{val_acc:.2f}.hdf5\"\n",
    "checkpoint = keras.callbacks.ModelCheckpoint(filepath, monitor='val_acc', verbose=1, save_best_only=True, mode='max')"
   ]
  },
  {
   "cell_type": "code",
   "execution_count": 47,
   "metadata": {},
   "outputs": [
    {
     "name": "stdout",
     "output_type": "stream",
     "text": [
      "_________________________________________________________________\n",
      "Layer (type)                 Output Shape              Param #   \n",
      "=================================================================\n",
      "lstm_2 (LSTM)                (None, 64)                147712    \n",
      "_________________________________________________________________\n",
      "dense_2 (Dense)              (None, 10)                650       \n",
      "=================================================================\n",
      "Total params: 148,362\n",
      "Trainable params: 148,362\n",
      "Non-trainable params: 0\n",
      "_________________________________________________________________\n",
      "None\n",
      "Train on 1752 samples, validate on 438 samples\n",
      "Epoch 1/50\n",
      " - 2s - loss: 2.3000 - acc: 0.1250 - val_loss: 2.2965 - val_acc: 0.1438\n",
      "\n",
      "Epoch 00001: val_acc improved from -inf to 0.14384, saving model to bal_weights_adadelta-64layers-01-0.14.hdf5\n",
      "Epoch 2/50\n",
      " - 1s - loss: 2.2067 - acc: 0.2163 - val_loss: 2.2802 - val_acc: 0.1484\n",
      "\n",
      "Epoch 00002: val_acc improved from 0.14384 to 0.14840, saving model to bal_weights_adadelta-64layers-02-0.15.hdf5\n",
      "Epoch 3/50\n",
      " - 1s - loss: 2.1239 - acc: 0.2626 - val_loss: 2.2491 - val_acc: 0.1598\n",
      "\n",
      "Epoch 00003: val_acc improved from 0.14840 to 0.15982, saving model to bal_weights_adadelta-64layers-03-0.16.hdf5\n",
      "Epoch 4/50\n",
      " - 1s - loss: 2.0506 - acc: 0.2985 - val_loss: 2.2268 - val_acc: 0.1849\n",
      "\n",
      "Epoch 00004: val_acc improved from 0.15982 to 0.18493, saving model to bal_weights_adadelta-64layers-04-0.18.hdf5\n",
      "Epoch 5/50\n",
      " - 1s - loss: 1.9657 - acc: 0.3436 - val_loss: 2.1988 - val_acc: 0.2146\n",
      "\n",
      "Epoch 00005: val_acc improved from 0.18493 to 0.21461, saving model to bal_weights_adadelta-64layers-05-0.21.hdf5\n",
      "Epoch 6/50\n",
      " - 1s - loss: 1.8809 - acc: 0.3590 - val_loss: 2.1754 - val_acc: 0.2215\n",
      "\n",
      "Epoch 00006: val_acc improved from 0.21461 to 0.22146, saving model to bal_weights_adadelta-64layers-06-0.22.hdf5\n",
      "Epoch 7/50\n",
      " - 1s - loss: 1.8170 - acc: 0.3853 - val_loss: 2.1376 - val_acc: 0.2123\n",
      "\n",
      "Epoch 00007: val_acc did not improve from 0.22146\n",
      "Epoch 8/50\n",
      " - 1s - loss: 1.7562 - acc: 0.3864 - val_loss: 2.0847 - val_acc: 0.2397\n",
      "\n",
      "Epoch 00008: val_acc improved from 0.22146 to 0.23973, saving model to bal_weights_adadelta-64layers-08-0.24.hdf5\n",
      "Epoch 9/50\n",
      " - 1s - loss: 1.6756 - acc: 0.4258 - val_loss: 2.0636 - val_acc: 0.2717\n",
      "\n",
      "Epoch 00009: val_acc improved from 0.23973 to 0.27169, saving model to bal_weights_adadelta-64layers-09-0.27.hdf5\n",
      "Epoch 10/50\n",
      " - 1s - loss: 1.6128 - acc: 0.4315 - val_loss: 2.0358 - val_acc: 0.2808\n",
      "\n",
      "Epoch 00010: val_acc improved from 0.27169 to 0.28082, saving model to bal_weights_adadelta-64layers-10-0.28.hdf5\n",
      "Epoch 11/50\n",
      " - 1s - loss: 1.5632 - acc: 0.4658 - val_loss: 1.9777 - val_acc: 0.3037\n",
      "\n",
      "Epoch 00011: val_acc improved from 0.28082 to 0.30365, saving model to bal_weights_adadelta-64layers-11-0.30.hdf5\n",
      "Epoch 12/50\n",
      " - 1s - loss: 1.5193 - acc: 0.4823 - val_loss: 2.0408 - val_acc: 0.3196\n",
      "\n",
      "Epoch 00012: val_acc improved from 0.30365 to 0.31963, saving model to bal_weights_adadelta-64layers-12-0.32.hdf5\n",
      "Epoch 13/50\n",
      " - 1s - loss: 1.4907 - acc: 0.4886 - val_loss: 2.0030 - val_acc: 0.3242\n",
      "\n",
      "Epoch 00013: val_acc improved from 0.31963 to 0.32420, saving model to bal_weights_adadelta-64layers-13-0.32.hdf5\n",
      "Epoch 14/50\n",
      " - 1s - loss: 1.4294 - acc: 0.5114 - val_loss: 1.9730 - val_acc: 0.3607\n",
      "\n",
      "Epoch 00014: val_acc improved from 0.32420 to 0.36073, saving model to bal_weights_adadelta-64layers-14-0.36.hdf5\n",
      "Epoch 15/50\n",
      " - 1s - loss: 1.3944 - acc: 0.5211 - val_loss: 2.0050 - val_acc: 0.3425\n",
      "\n",
      "Epoch 00015: val_acc did not improve from 0.36073\n",
      "Epoch 16/50\n",
      " - 1s - loss: 1.3687 - acc: 0.5434 - val_loss: 2.0048 - val_acc: 0.3082\n",
      "\n",
      "Epoch 00016: val_acc did not improve from 0.36073\n",
      "Epoch 17/50\n",
      " - 1s - loss: 1.3309 - acc: 0.5434 - val_loss: 1.9991 - val_acc: 0.3196\n",
      "\n",
      "Epoch 00017: val_acc did not improve from 0.36073\n",
      "Epoch 18/50\n",
      " - 1s - loss: 1.2980 - acc: 0.5439 - val_loss: 1.9986 - val_acc: 0.3219\n",
      "\n",
      "Epoch 00018: val_acc did not improve from 0.36073\n",
      "Epoch 19/50\n",
      " - 1s - loss: 1.2660 - acc: 0.5753 - val_loss: 1.9576 - val_acc: 0.3653\n",
      "\n",
      "Epoch 00019: val_acc improved from 0.36073 to 0.36530, saving model to bal_weights_adadelta-64layers-19-0.37.hdf5\n",
      "Epoch 20/50\n",
      " - 1s - loss: 1.2240 - acc: 0.5953 - val_loss: 1.9690 - val_acc: 0.3333\n",
      "\n",
      "Epoch 00020: val_acc did not improve from 0.36530\n",
      "Epoch 21/50\n",
      " - 1s - loss: 1.2174 - acc: 0.5805 - val_loss: 2.0220 - val_acc: 0.3311\n",
      "\n",
      "Epoch 00021: val_acc did not improve from 0.36530\n",
      "Epoch 22/50\n",
      " - 1s - loss: 1.1777 - acc: 0.6039 - val_loss: 1.9934 - val_acc: 0.3402\n",
      "\n",
      "Epoch 00022: val_acc did not improve from 0.36530\n",
      "Epoch 23/50\n",
      " - 1s - loss: 1.1607 - acc: 0.6233 - val_loss: 1.9756 - val_acc: 0.3447\n",
      "\n",
      "Epoch 00023: val_acc did not improve from 0.36530\n",
      "Epoch 24/50\n",
      " - 1s - loss: 1.1065 - acc: 0.6518 - val_loss: 1.9876 - val_acc: 0.3447\n",
      "\n",
      "Epoch 00024: val_acc did not improve from 0.36530\n",
      "Epoch 25/50\n",
      " - 1s - loss: 1.1097 - acc: 0.6193 - val_loss: 2.0282 - val_acc: 0.3219\n",
      "\n",
      "Epoch 00025: val_acc did not improve from 0.36530\n",
      "Epoch 26/50\n",
      " - 1s - loss: 1.0633 - acc: 0.6438 - val_loss: 1.9911 - val_acc: 0.3356\n",
      "\n",
      "Epoch 00026: val_acc did not improve from 0.36530\n",
      "Epoch 27/50\n",
      " - 1s - loss: 1.0549 - acc: 0.6461 - val_loss: 1.9736 - val_acc: 0.3470\n",
      "\n",
      "Epoch 00027: val_acc did not improve from 0.36530\n",
      "Epoch 28/50\n",
      " - 1s - loss: 1.0353 - acc: 0.6541 - val_loss: 1.9992 - val_acc: 0.3699\n",
      "\n",
      "Epoch 00028: val_acc improved from 0.36530 to 0.36986, saving model to bal_weights_adadelta-64layers-28-0.37.hdf5\n",
      "Epoch 29/50\n",
      " - 1s - loss: 1.0010 - acc: 0.6650 - val_loss: 2.0362 - val_acc: 0.3493\n",
      "\n",
      "Epoch 00029: val_acc did not improve from 0.36986\n",
      "Epoch 30/50\n",
      " - 1s - loss: 0.9693 - acc: 0.6741 - val_loss: 2.0186 - val_acc: 0.3516\n",
      "\n",
      "Epoch 00030: val_acc did not improve from 0.36986\n",
      "Epoch 31/50\n",
      " - 1s - loss: 0.9525 - acc: 0.6941 - val_loss: 2.0148 - val_acc: 0.3562\n",
      "\n",
      "Epoch 00031: val_acc did not improve from 0.36986\n",
      "Epoch 32/50\n",
      " - 1s - loss: 0.9314 - acc: 0.7043 - val_loss: 2.0408 - val_acc: 0.3539\n",
      "\n",
      "Epoch 00032: val_acc did not improve from 0.36986\n",
      "Epoch 33/50\n",
      " - 1s - loss: 0.9146 - acc: 0.7072 - val_loss: 2.0465 - val_acc: 0.3539\n",
      "\n",
      "Epoch 00033: val_acc did not improve from 0.36986\n",
      "Epoch 34/50\n",
      " - 1s - loss: 0.8863 - acc: 0.7163 - val_loss: 2.0835 - val_acc: 0.3630\n",
      "\n",
      "Epoch 00034: val_acc did not improve from 0.36986\n",
      "Epoch 35/50\n",
      " - 1s - loss: 0.8546 - acc: 0.7209 - val_loss: 2.0276 - val_acc: 0.3562\n",
      "\n",
      "Epoch 00035: val_acc did not improve from 0.36986\n",
      "Epoch 36/50\n",
      " - 1s - loss: 0.8267 - acc: 0.7352 - val_loss: 2.0664 - val_acc: 0.3470\n",
      "\n",
      "Epoch 00036: val_acc did not improve from 0.36986\n",
      "Epoch 37/50\n",
      " - 1s - loss: 0.8225 - acc: 0.7340 - val_loss: 1.9889 - val_acc: 0.3539\n",
      "\n",
      "Epoch 00037: val_acc did not improve from 0.36986\n",
      "Epoch 38/50\n",
      " - 1s - loss: 0.8274 - acc: 0.7397 - val_loss: 2.0729 - val_acc: 0.3447\n",
      "\n",
      "Epoch 00038: val_acc did not improve from 0.36986\n",
      "Epoch 39/50\n",
      " - 1s - loss: 0.7963 - acc: 0.7534 - val_loss: 2.0883 - val_acc: 0.3493\n",
      "\n",
      "Epoch 00039: val_acc did not improve from 0.36986\n",
      "Epoch 40/50\n",
      " - 1s - loss: 0.7578 - acc: 0.7540 - val_loss: 2.0887 - val_acc: 0.3516\n",
      "\n",
      "Epoch 00040: val_acc did not improve from 0.36986\n",
      "Epoch 41/50\n",
      " - 1s - loss: 0.7553 - acc: 0.7483 - val_loss: 2.1365 - val_acc: 0.3562\n",
      "\n",
      "Epoch 00041: val_acc did not improve from 0.36986\n",
      "Epoch 42/50\n",
      " - 1s - loss: 0.7239 - acc: 0.7683 - val_loss: 2.0848 - val_acc: 0.3584\n",
      "\n",
      "Epoch 00042: val_acc did not improve from 0.36986\n",
      "Epoch 43/50\n",
      " - 1s - loss: 0.7064 - acc: 0.7831 - val_loss: 2.1472 - val_acc: 0.3470\n",
      "\n",
      "Epoch 00043: val_acc did not improve from 0.36986\n",
      "Epoch 44/50\n",
      " - 1s - loss: 0.6841 - acc: 0.7894 - val_loss: 2.1064 - val_acc: 0.3562\n",
      "\n",
      "Epoch 00044: val_acc did not improve from 0.36986\n",
      "Epoch 45/50\n",
      " - 1s - loss: 0.6830 - acc: 0.7865 - val_loss: 2.1309 - val_acc: 0.3699\n",
      "\n",
      "Epoch 00045: val_acc did not improve from 0.36986\n",
      "Epoch 46/50\n",
      " - 1s - loss: 0.6811 - acc: 0.7928 - val_loss: 2.1698 - val_acc: 0.3676\n",
      "\n",
      "Epoch 00046: val_acc did not improve from 0.36986\n",
      "Epoch 47/50\n",
      " - 1s - loss: 0.6588 - acc: 0.8048 - val_loss: 2.1906 - val_acc: 0.3539\n",
      "\n",
      "Epoch 00047: val_acc did not improve from 0.36986\n",
      "Epoch 48/50\n",
      " - 1s - loss: 0.6347 - acc: 0.7997 - val_loss: 2.2237 - val_acc: 0.3562\n",
      "\n",
      "Epoch 00048: val_acc did not improve from 0.36986\n",
      "Epoch 49/50\n",
      " - 1s - loss: 0.6171 - acc: 0.8065 - val_loss: 2.2190 - val_acc: 0.3584\n",
      "\n",
      "Epoch 00049: val_acc did not improve from 0.36986\n",
      "Epoch 50/50\n",
      " - 1s - loss: 0.5877 - acc: 0.8191 - val_loss: 2.2744 - val_acc: 0.3699\n",
      "\n",
      "Epoch 00050: val_acc improved from 0.36986 to 0.36986, saving model to bal_weights_adadelta-64layers-50-0.37.hdf5\n"
     ]
    },
    {
     "data": {
      "text/plain": [
       "<keras.callbacks.History at 0x1d8503d9c18>"
      ]
     },
     "execution_count": 47,
     "metadata": {},
     "output_type": "execute_result"
    }
   ],
   "source": [
    "model = get_model()\n",
    "model.fit(\n",
    "  xtrain_bal,\n",
    "  ytrain_bal,\n",
    "  validation_split=VALIDATION_PERC,\n",
    "  verbose=2,\n",
    "  epochs=50,\n",
    "  callbacks=[checkpoint]\n",
    ")"
   ]
  },
  {
   "cell_type": "code",
   "execution_count": null,
   "metadata": {},
   "outputs": [],
   "source": []
  }
 ],
 "metadata": {
  "kernelspec": {
   "display_name": "Python 3",
   "language": "python",
   "name": "python3"
  },
  "language_info": {
   "codemirror_mode": {
    "name": "ipython",
    "version": 3
   },
   "file_extension": ".py",
   "mimetype": "text/x-python",
   "name": "python",
   "nbconvert_exporter": "python",
   "pygments_lexer": "ipython3",
   "version": "3.6.5"
  }
 },
 "nbformat": 4,
 "nbformat_minor": 2
}
