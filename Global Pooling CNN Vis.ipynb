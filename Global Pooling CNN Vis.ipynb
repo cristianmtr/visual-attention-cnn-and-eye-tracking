{
 "cells": [
  {
   "cell_type": "markdown",
   "metadata": {},
   "source": [
    "Paper:\n",
    "https://arxiv.org/pdf/1512.04150.pdf\n",
    "\n",
    "GitHub:\n",
    "https://github.com/jacobgil/keras-cam"
   ]
  },
  {
   "cell_type": "code",
   "execution_count": 5,
   "metadata": {},
   "outputs": [],
   "source": [
    "import cv2\n",
    "import glob\n",
    "import os\n",
    "import numpy as np\n",
    "from keras.utils.np_utils import to_categorical\n",
    "from keras.datasets import mnist\n",
    "\n",
    "from keras.models import Sequential\n",
    "from keras.layers import Convolution2D, ZeroPadding2D, MaxPooling2D\n",
    "from keras.layers.core import Flatten, Dense, Dropout, Lambda\n",
    "from keras import backend as K\n",
    "import h5py\n",
    "from keras.optimizers import SGD\n",
    "\n",
    "from keras.models import *\n",
    "from keras.callbacks import *\n",
    "import keras.backend as K\n",
    "import cv2\n",
    "import argparse\n",
    "\n",
    "def load_mnist():\n",
    "    (X_train, y_train), (X_test, y_test) = mnist.load_data()\n",
    "    return np.expand_dims(X_test, axis=1), to_categorical(y_test)"
   ]
  },
  {
   "cell_type": "code",
   "execution_count": 6,
   "metadata": {},
   "outputs": [],
   "source": [
    "def global_average_pooling(x):\n",
    "    return K.mean(x, axis = (2, 3))\n",
    "\n",
    "def global_average_pooling_shape(input_shape):\n",
    "    return input_shape[0:2]\n",
    "\n",
    "def VGG16_convolutions():\n",
    "    model = Sequential()\n",
    "    model.add(ZeroPadding2D((1,1),input_shape=(1,None,None)))\n",
    "    model.add(Convolution2D(64, 3, 3, activation='relu', name='conv1_1'))\n",
    "    model.add(ZeroPadding2D((1, 1)))\n",
    "    model.add(Convolution2D(64, 3, 3, activation='relu', name='conv1_2'))\n",
    "    model.add(MaxPooling2D((2, 2), strides=(2, 2)))\n",
    "\n",
    "    model.add(ZeroPadding2D((1, 1)))\n",
    "    model.add(Convolution2D(128, 3, 3, activation='relu', name='conv2_1'))\n",
    "    model.add(ZeroPadding2D((1, 1)))\n",
    "    model.add(Convolution2D(128, 3, 3, activation='relu', name='conv2_2'))\n",
    "    model.add(MaxPooling2D((2, 2), strides=(2, 2)))\n",
    "\n",
    "#     model.add(ZeroPadding2D((1, 1)))\n",
    "#     model.add(Convolution2D(256, 3, 3, activation='relu', name='conv3_1'))\n",
    "#     model.add(ZeroPadding2D((1, 1)))\n",
    "#     model.add(Convolution2D(256, 3, 3, activation='relu', name='conv3_2'))\n",
    "#     model.add(ZeroPadding2D((1, 1)))\n",
    "#     model.add(Convolution2D(256, 3, 3, activation='relu', name='conv3_3'))\n",
    "#     model.add(MaxPooling2D((2, 2), strides=(2, 2)))\n",
    "\n",
    "#     model.add(ZeroPadding2D((1, 1)))\n",
    "#     model.add(Convolution2D(512, 3, 3, activation='relu', name='conv4_1'))\n",
    "#     model.add(ZeroPadding2D((1, 1)))\n",
    "#     model.add(Convolution2D(512, 3, 3, activation='relu', name='conv4_2'))\n",
    "#     model.add(ZeroPadding2D((1, 1)))\n",
    "#     model.add(Convolution2D(512, 3, 3, activation='relu', name='conv4_3'))\n",
    "#     model.add(MaxPooling2D((2, 2), strides=(2, 2)))\n",
    "\n",
    "#     model.add(ZeroPadding2D((1, 1)))\n",
    "#     model.add(Convolution2D(512, 3, 3, activation='relu', name='conv5_1'))\n",
    "#     model.add(ZeroPadding2D((1, 1)))\n",
    "#     model.add(Convolution2D(512, 3, 3, activation='relu', name='conv5_2'))\n",
    "#     model.add(ZeroPadding2D((1, 1)))\n",
    "#     model.add(Convolution2D(512, 3, 3, activation='relu', name='conv5_3'))\n",
    "    return model\n",
    "\n",
    "def get_model():\n",
    "    model = VGG16_convolutions()\n",
    "\n",
    "#     model = load_model_weights(model, \"vgg16_weights.h5\")\n",
    "    \n",
    "    model.add(Lambda(global_average_pooling, \n",
    "              output_shape=global_average_pooling_shape))\n",
    "    model.add(Dense(10, activation = 'softmax', init='uniform'))\n",
    "    sgd = SGD(lr=0.01, decay=1e-6, momentum=0.5, nesterov=True)\n",
    "    model.compile(loss = 'categorical_crossentropy', optimizer = sgd, metrics=['accuracy'])\n",
    "    return model\n",
    "\n",
    "def load_model_weights(model, weights_path):\n",
    "    print('Loading model.')\n",
    "    f = h5py.File(weights_path)\n",
    "    if 'nb_layers' in f.attrs.keys():\n",
    "        for k in range(f.attrs['nb_layers']):\n",
    "            if k >= len(model.layers):\n",
    "                # we don't look at the last (fully-connected) layers in the savefile\n",
    "                break\n",
    "            g = f['layer_{}'.format(k)]\n",
    "            weights = [g['param_{}'.format(p)] for p in range(g.attrs['nb_params'])]\n",
    "            model.layers[k].set_weights(weights)\n",
    "            model.layers[k].trainable = False\n",
    "    f.close()\n",
    "    print('Model loaded.')\n",
    "    return model\n",
    "\n",
    "def get_output_layer(model, layer_name):\n",
    "    # get the symbolic outputs of each \"key\" layer (we gave them unique names).\n",
    "    layer_dict = dict([(layer.name, layer) for layer in model.layers])\n",
    "    layer = layer_dict[layer_name]\n",
    "    return layer"
   ]
  },
  {
   "cell_type": "code",
   "execution_count": 7,
   "metadata": {
    "collapsed": true
   },
   "outputs": [],
   "source": [
    "def train():\n",
    "        model = get_model()\n",
    "        X, y = load_mnist()\n",
    "        print(\"Training..\")\n",
    "        checkpoint_path=\"weights.{epoch:02d}-{val_loss:.2f}.hdf5\"\n",
    "        checkpoint = ModelCheckpoint(checkpoint_path, monitor='val_loss', verbose=0, save_best_only=False, save_weights_only=False, mode='auto')\n",
    "        model.fit(X, y, nb_epoch=40, batch_size=32, validation_split=0.2, verbose=1, callbacks=[checkpoint])\n",
    "\n",
    "def visualize_class_activation_map(model_path, img, output_path):\n",
    "        model = load_model(model_path)\n",
    "#         original_img = cv2.imread(img_path, 1)\n",
    "        original_img = img.reshape(28,28,1)\n",
    "        width, height, _ = original_img.shape\n",
    "\n",
    "        #Reshape to the network input shape (3, w, h).\n",
    "        img = np.array([np.transpose(np.float32(original_img), (2, 0, 1))])\n",
    "        \n",
    "        #Get the 512 input weights to the softmax.\n",
    "        class_weights = model.layers[-1].get_weights()[0]\n",
    "        final_conv_layer = get_output_layer(model, \"conv2_2\")\n",
    "        get_output = K.function([model.layers[0].input], [final_conv_layer.output, model.layers[-1].output])\n",
    "        [conv_outputs, predictions] = get_output([img])\n",
    "        conv_outputs = conv_outputs[0, :, :, :]\n",
    "\n",
    "        #Create the class activation map.\n",
    "        cam = np.zeros(dtype = np.float32, shape = conv_outputs.shape[1:3])\n",
    "        for i, w in enumerate(class_weights[:, 1]):\n",
    "                cam += w * conv_outputs[i, :, :]\n",
    "        print(\"predictions\", predictions)\n",
    "        cam /= np.max(cam)\n",
    "        cam = cv2.resize(cam, (height, width))\n",
    "        heatmap = cv2.applyColorMap(np.uint8(255*cam), cv2.COLORMAP_JET)\n",
    "        heatmap[np.where(cam < 0.2)] = 0\n",
    "        img = heatmap*0.5 + original_img\n",
    "        cv2.imwrite(output_path, img)"
   ]
  },
  {
   "cell_type": "code",
   "execution_count": null,
   "metadata": {},
   "outputs": [
    {
     "name": "stderr",
     "output_type": "stream",
     "text": [
      "C:\\Users\\Michal\\Anaconda3\\lib\\site-packages\\ipykernel_launcher.py:10: UserWarning: Update your `Conv2D` call to the Keras 2 API: `Conv2D(64, (3, 3), activation=\"relu\", name=\"conv1_1\")`\n",
      "  # Remove the CWD from sys.path while we load stuff.\n",
      "C:\\Users\\Michal\\Anaconda3\\lib\\site-packages\\ipykernel_launcher.py:12: UserWarning: Update your `Conv2D` call to the Keras 2 API: `Conv2D(64, (3, 3), activation=\"relu\", name=\"conv1_2\")`\n",
      "  if sys.path[0] == '':\n",
      "C:\\Users\\Michal\\Anaconda3\\lib\\site-packages\\ipykernel_launcher.py:16: UserWarning: Update your `Conv2D` call to the Keras 2 API: `Conv2D(128, (3, 3), activation=\"relu\", name=\"conv2_1\")`\n",
      "  app.launch_new_instance()\n",
      "C:\\Users\\Michal\\Anaconda3\\lib\\site-packages\\ipykernel_launcher.py:18: UserWarning: Update your `Conv2D` call to the Keras 2 API: `Conv2D(128, (3, 3), activation=\"relu\", name=\"conv2_2\")`\n",
      "C:\\Users\\Michal\\Anaconda3\\lib\\site-packages\\ipykernel_launcher.py:52: UserWarning: Update your `Dense` call to the Keras 2 API: `Dense(10, activation=\"softmax\", kernel_initializer=\"uniform\")`\n"
     ]
    },
    {
     "name": "stdout",
     "output_type": "stream",
     "text": [
      "Training..\n"
     ]
    },
    {
     "name": "stderr",
     "output_type": "stream",
     "text": [
      "C:\\Users\\Michal\\Anaconda3\\lib\\site-packages\\keras\\models.py:942: UserWarning: The `nb_epoch` argument in `fit` has been renamed `epochs`.\n",
      "  warnings.warn('The `nb_epoch` argument in `fit` '\n"
     ]
    },
    {
     "name": "stdout",
     "output_type": "stream",
     "text": [
      "WARNING:tensorflow:Variable *= will be deprecated. Use variable.assign_mul if you want assignment to the variable value or 'x = x * y' if you want a new python Tensor object.\n",
      "Train on 8000 samples, validate on 2000 samples\n",
      "Epoch 1/40\n",
      "2464/8000 [========>.....................] - ETA: 3:47 - loss: 2.3167 - acc: 0.1380"
     ]
    }
   ],
   "source": [
    "train()"
   ]
  },
  {
   "cell_type": "code",
   "execution_count": null,
   "metadata": {
    "collapsed": true
   },
   "outputs": [],
   "source": [
    "visualize_class_activation_map(model_path=\"weights.02-0.17.hdf5\", img=X[0], output_path='test.jpg')"
   ]
  }
 ],
 "metadata": {
  "kernelspec": {
   "display_name": "Python 3",
   "language": "python",
   "name": "python3"
  },
  "language_info": {
   "codemirror_mode": {
    "name": "ipython",
    "version": 3
   },
   "file_extension": ".py",
   "mimetype": "text/x-python",
   "name": "python",
   "nbconvert_exporter": "python",
   "pygments_lexer": "ipython3",
   "version": "3.6.1"
  }
 },
 "nbformat": 4,
 "nbformat_minor": 2
}
