{
 "cells": [
  {
   "cell_type": "code",
   "execution_count": 1,
   "metadata": {},
   "outputs": [],
   "source": [
    "import tensorflow as tf\n",
    "import numpy as np"
   ]
  },
  {
   "cell_type": "code",
   "execution_count": 2,
   "metadata": {},
   "outputs": [],
   "source": [
    "import cv2\n",
    "import matplotlib.pyplot as plt\n",
    "import numpy as np\n",
    "import time\n",
    "import glob, os, sys\n",
    "import pickle\n",
    "\n",
    "def save_object(obj, filename):\n",
    "    with open(filename, 'wb') as output:  # Overwrites any existing file.\n",
    "        pickle.dump(obj, output, pickle.HIGHEST_PROTOCOL)\n",
    "        \n",
    "def load_object(filename):\n",
    "    with open(filename, 'rb') as fp:\n",
    "        return pickle.load(fp)"
   ]
  },
  {
   "cell_type": "code",
   "execution_count": 15,
   "metadata": {},
   "outputs": [],
   "source": [
    "from keras import backend as K\n",
    "from keras.preprocessing import image\n",
    "import skimage\n",
    "import keras\n",
    "\n",
    "from keras.models import Sequential\n",
    "from keras.layers import Dense, Activation, Dropout, Flatten, Conv2D, MaxPooling2D, LSTM\n",
    "from keras import optimizers\n",
    "\n",
    "from sklearn.model_selection import train_test_split\n",
    "\n",
    "from keras.applications.resnet50 import ResNet50 as resnet\n",
    "from keras.applications.resnet50 import preprocess_input as resnet_pp\n",
    "\n",
    "from keras.optimizers import Adam"
   ]
  },
  {
   "cell_type": "code",
   "execution_count": 4,
   "metadata": {},
   "outputs": [],
   "source": [
    "main_path = os.path.abspath(\"/home/mikey/Repos/visual-attention-cnn-and-eye-tracking/POETdataset/PascalImages/\")\n",
    "classes = ['dog', 'sofa']\n",
    "IMG_SIZE = 224"
   ]
  },
  {
   "cell_type": "code",
   "execution_count": 8,
   "metadata": {},
   "outputs": [],
   "source": [
    "# Build a model by adding preprocessing before the pretrained CNN\n",
    "def get_feature_extraction_model(img_size):\n",
    "    cnn_object, pp_function = _get_pretrained_model()\n",
    "    model = keras.models.Sequential()\n",
    "    cnn_model = cnn_object(weights='imagenet', include_top=False, pooling='max')\n",
    "    model.add(keras.layers.Lambda(pp_function, name='preprocessing', input_shape=(img_size, img_size, 3)))\n",
    "    model.add(cnn_model)\n",
    "    return model\n",
    "\n",
    "# Unpacking information from the models dictionary\n",
    "def _get_pretrained_model():\n",
    "    cnn_object = resnet\n",
    "    pp_function = resnet_pp\n",
    "    return cnn_object, pp_function\n",
    "\n",
    "def _get_patches(x, patch_width):\n",
    "    patches = np.squeeze(np.asarray(skimage.util.view_as_windows(x, window_shape=(1,patch_width,patch_width,3), \n",
    "                                                                 step=(1,patch_width,patch_width,3)), dtype=np.int))\n",
    "    print(patches.shape)\n",
    "    patches = patches.reshape(x.shape[0], int(IMG_SIZE/patch_width)**2, patch_width, patch_width, 3)\n",
    "    return patches\n",
    "\n",
    "def get_features(files, model, patch_width):\n",
    "    # Load images based on the size of the Lambda layer \n",
    "    # provided as the first layer before the pretrained CNN\n",
    "    x = np.asarray([image.img_to_array(image.load_img(file, target_size=(IMG_SIZE, IMG_SIZE))) for file in files], dtype=np.int)\n",
    "    patches = _get_patches(x, patch_width = patch_width)\n",
    "    patches_shape = patches.shape\n",
    "    features = model.predict(patches.reshape(-1, patch_width, patch_width, 3), verbose=1)\n",
    "    print(features.shape)\n",
    "    return features.reshape(patches_shape[0], patches_shape[1], 2048)"
   ]
  },
  {
   "cell_type": "code",
   "execution_count": 6,
   "metadata": {},
   "outputs": [],
   "source": [
    "PATCH_WIDTH=56\n",
    "model = get_feature_extraction_model(img_size = PATCH_WIDTH)"
   ]
  },
  {
   "cell_type": "code",
   "execution_count": 10,
   "metadata": {},
   "outputs": [
    {
     "name": "stdout",
     "output_type": "stream",
     "text": [
      "dog\n",
      "(1257, 4, 4, 56, 56, 3)\n",
      "20112/20112 [==============================] - 10s 509us/step\n",
      "(20112, 2048)\n",
      "(1257, 16, 2048)\n",
      "sofa\n",
      "(467, 4, 4, 56, 56, 3)\n",
      "7472/7472 [==============================] - 4s 509us/step\n",
      "(7472, 2048)\n",
      "(467, 16, 2048)\n"
     ]
    }
   ],
   "source": [
    "files_list = [glob.glob(os.path.join(main_path, '%s*' %class_)) for class_ in classes]\n",
    "files_dict = {class_name.replace('*', ''): class_files for class_name, class_files in zip(classes, files_list)}\n",
    "\n",
    "for files in files_list:\n",
    "    assert len(files) > 0\n",
    "    \n",
    "new_dir = 'soft_attention_features'\n",
    "if not os.path.exists(new_dir):\n",
    "    os.makedirs(new_dir)\n",
    "\n",
    "for class_number, (class_name, files) in enumerate(files_dict.items()):\n",
    "    print(class_name)\n",
    "    features = get_features(files, model, PATCH_WIDTH)\n",
    "    print(features.shape)\n",
    "    save_object(features, new_dir + os.path.sep + class_name+'_features.pkl')"
   ]
  },
  {
   "cell_type": "code",
   "execution_count": null,
   "metadata": {},
   "outputs": [],
   "source": []
  },
  {
   "cell_type": "code",
   "execution_count": 33,
   "metadata": {},
   "outputs": [
    {
     "name": "stdout",
     "output_type": "stream",
     "text": [
      "/home/mikey/Repos/visual-attention-cnn-and-eye-tracking/soft_attention_features/dog_features.pkl\n",
      "(1257, 16, 2048)\n",
      "/home/mikey/Repos/visual-attention-cnn-and-eye-tracking/soft_attention_features/sofa_features.pkl\n",
      "(467, 16, 2048)\n"
     ]
    },
    {
     "data": {
      "text/plain": [
       "((1724, 16, 2048), (1724, 2))"
      ]
     },
     "execution_count": 33,
     "metadata": {},
     "output_type": "execute_result"
    }
   ],
   "source": [
    "X = []\n",
    "y = []\n",
    "for class_number, (class_name, files) in enumerate(files_dict.items()):\n",
    "    classfeatures_path = os.path.abspath(os.path.join('.', 'soft_attention_features', class_name + '_features.pkl'))\n",
    "    print(classfeatures_path)\n",
    "    features = load_object(classfeatures_path).reshape(-1,16,2048)\n",
    "    print(features.shape)\n",
    "    X.append(features)\n",
    "    y.append([class_number] * features.shape[0])\n",
    "    \n",
    "X = np.concatenate(X)\n",
    "y = np.concatenate(y)\n",
    "y = keras.utils.to_categorical(y)\n",
    "X.shape, y.shape"
   ]
  },
  {
   "cell_type": "code",
   "execution_count": 34,
   "metadata": {},
   "outputs": [
    {
     "data": {
      "text/plain": [
       "((1551, 16, 2048), (1551, 2), (173, 16, 2048), (173, 2))"
      ]
     },
     "execution_count": 34,
     "metadata": {},
     "output_type": "execute_result"
    }
   ],
   "source": [
    "X_train, X_test, y_train, y_test = train_test_split(X, y, test_size=0.1, stratify=y)\n",
    "X_train.shape, y_train.shape, X_test.shape, y_test.shape"
   ]
  },
  {
   "cell_type": "code",
   "execution_count": 17,
   "metadata": {},
   "outputs": [
    {
     "name": "stdout",
     "output_type": "stream",
     "text": [
      "Train on 1551 samples, validate on 173 samples\n",
      "Epoch 1/100\n",
      "1551/1551 [==============================] - 2s 1ms/step - loss: 0.5033 - acc: 0.7382 - val_loss: 0.4034 - val_acc: 0.7861\n",
      "Epoch 2/100\n",
      "1551/1551 [==============================] - 1s 639us/step - loss: 0.3200 - acc: 0.8749 - val_loss: 0.3366 - val_acc: 0.8439\n",
      "Epoch 3/100\n",
      "1551/1551 [==============================] - 1s 650us/step - loss: 0.2559 - acc: 0.8975 - val_loss: 0.3616 - val_acc: 0.8671\n",
      "Epoch 4/100\n",
      "1551/1551 [==============================] - 1s 643us/step - loss: 0.2293 - acc: 0.9097 - val_loss: 0.3526 - val_acc: 0.8613\n",
      "Epoch 5/100\n",
      "1551/1551 [==============================] - 1s 645us/step - loss: 0.1937 - acc: 0.9213 - val_loss: 0.3480 - val_acc: 0.8671\n",
      "Epoch 6/100\n",
      "1551/1551 [==============================] - 1s 653us/step - loss: 0.1783 - acc: 0.9342 - val_loss: 0.3807 - val_acc: 0.8844\n",
      "Epoch 7/100\n",
      "1551/1551 [==============================] - 1s 672us/step - loss: 0.1624 - acc: 0.9381 - val_loss: 0.3843 - val_acc: 0.8728\n",
      "Epoch 8/100\n",
      "1551/1551 [==============================] - 1s 662us/step - loss: 0.1489 - acc: 0.9458 - val_loss: 0.3899 - val_acc: 0.8613\n",
      "Epoch 9/100\n",
      "1551/1551 [==============================] - 1s 657us/step - loss: 0.1282 - acc: 0.9504 - val_loss: 0.4176 - val_acc: 0.8555\n",
      "Epoch 10/100\n",
      "1551/1551 [==============================] - 1s 658us/step - loss: 0.1283 - acc: 0.9523 - val_loss: 0.4009 - val_acc: 0.8671\n",
      "Epoch 11/100\n",
      "1551/1551 [==============================] - 1s 653us/step - loss: 0.1389 - acc: 0.9446 - val_loss: 0.4086 - val_acc: 0.8382\n",
      "Epoch 12/100\n",
      "1551/1551 [==============================] - 1s 650us/step - loss: 0.1346 - acc: 0.9523 - val_loss: 0.4090 - val_acc: 0.8671\n",
      "Epoch 13/100\n",
      " 512/1551 [========>.....................] - ETA: 0s - loss: 0.1161 - acc: 0.9609"
     ]
    },
    {
     "ename": "KeyboardInterrupt",
     "evalue": "",
     "output_type": "error",
     "traceback": [
      "\u001b[0;31m---------------------------------------------------------------------------\u001b[0m",
      "\u001b[0;31mKeyboardInterrupt\u001b[0m                         Traceback (most recent call last)",
      "\u001b[0;32m<ipython-input-17-37626515bffd>\u001b[0m in \u001b[0;36m<module>\u001b[0;34m\u001b[0m\n\u001b[1;32m     11\u001b[0m                     \u001b[0mbatch_size\u001b[0m \u001b[0;34m=\u001b[0m \u001b[0;36m32\u001b[0m\u001b[0;34m,\u001b[0m\u001b[0;34m\u001b[0m\u001b[0m\n\u001b[1;32m     12\u001b[0m                     \u001b[0mepochs\u001b[0m \u001b[0;34m=\u001b[0m \u001b[0;36m100\u001b[0m\u001b[0;34m,\u001b[0m\u001b[0;34m\u001b[0m\u001b[0m\n\u001b[0;32m---> 13\u001b[0;31m                     validation_data=(X_test, y_test))\n\u001b[0m",
      "\u001b[0;32m~/.local/lib/python3.6/site-packages/keras/engine/training.py\u001b[0m in \u001b[0;36mfit\u001b[0;34m(self, x, y, batch_size, epochs, verbose, callbacks, validation_split, validation_data, shuffle, class_weight, sample_weight, initial_epoch, steps_per_epoch, validation_steps, **kwargs)\u001b[0m\n\u001b[1;32m   1037\u001b[0m                                         \u001b[0minitial_epoch\u001b[0m\u001b[0;34m=\u001b[0m\u001b[0minitial_epoch\u001b[0m\u001b[0;34m,\u001b[0m\u001b[0;34m\u001b[0m\u001b[0m\n\u001b[1;32m   1038\u001b[0m                                         \u001b[0msteps_per_epoch\u001b[0m\u001b[0;34m=\u001b[0m\u001b[0msteps_per_epoch\u001b[0m\u001b[0;34m,\u001b[0m\u001b[0;34m\u001b[0m\u001b[0m\n\u001b[0;32m-> 1039\u001b[0;31m                                         validation_steps=validation_steps)\n\u001b[0m\u001b[1;32m   1040\u001b[0m \u001b[0;34m\u001b[0m\u001b[0m\n\u001b[1;32m   1041\u001b[0m     def evaluate(self, x=None, y=None,\n",
      "\u001b[0;32m~/.local/lib/python3.6/site-packages/keras/engine/training_arrays.py\u001b[0m in \u001b[0;36mfit_loop\u001b[0;34m(model, f, ins, out_labels, batch_size, epochs, verbose, callbacks, val_f, val_ins, shuffle, callback_metrics, initial_epoch, steps_per_epoch, validation_steps)\u001b[0m\n\u001b[1;32m    197\u001b[0m                     \u001b[0mins_batch\u001b[0m\u001b[0;34m[\u001b[0m\u001b[0mi\u001b[0m\u001b[0;34m]\u001b[0m \u001b[0;34m=\u001b[0m \u001b[0mins_batch\u001b[0m\u001b[0;34m[\u001b[0m\u001b[0mi\u001b[0m\u001b[0;34m]\u001b[0m\u001b[0;34m.\u001b[0m\u001b[0mtoarray\u001b[0m\u001b[0;34m(\u001b[0m\u001b[0;34m)\u001b[0m\u001b[0;34m\u001b[0m\u001b[0m\n\u001b[1;32m    198\u001b[0m \u001b[0;34m\u001b[0m\u001b[0m\n\u001b[0;32m--> 199\u001b[0;31m                 \u001b[0mouts\u001b[0m \u001b[0;34m=\u001b[0m \u001b[0mf\u001b[0m\u001b[0;34m(\u001b[0m\u001b[0mins_batch\u001b[0m\u001b[0;34m)\u001b[0m\u001b[0;34m\u001b[0m\u001b[0m\n\u001b[0m\u001b[1;32m    200\u001b[0m                 \u001b[0mouts\u001b[0m \u001b[0;34m=\u001b[0m \u001b[0mto_list\u001b[0m\u001b[0;34m(\u001b[0m\u001b[0mouts\u001b[0m\u001b[0;34m)\u001b[0m\u001b[0;34m\u001b[0m\u001b[0m\n\u001b[1;32m    201\u001b[0m                 \u001b[0;32mfor\u001b[0m \u001b[0ml\u001b[0m\u001b[0;34m,\u001b[0m \u001b[0mo\u001b[0m \u001b[0;32min\u001b[0m \u001b[0mzip\u001b[0m\u001b[0;34m(\u001b[0m\u001b[0mout_labels\u001b[0m\u001b[0;34m,\u001b[0m \u001b[0mouts\u001b[0m\u001b[0;34m)\u001b[0m\u001b[0;34m:\u001b[0m\u001b[0;34m\u001b[0m\u001b[0m\n",
      "\u001b[0;32m~/.local/lib/python3.6/site-packages/keras/backend/tensorflow_backend.py\u001b[0m in \u001b[0;36m__call__\u001b[0;34m(self, inputs)\u001b[0m\n\u001b[1;32m   2713\u001b[0m                 \u001b[0;32mreturn\u001b[0m \u001b[0mself\u001b[0m\u001b[0;34m.\u001b[0m\u001b[0m_legacy_call\u001b[0m\u001b[0;34m(\u001b[0m\u001b[0minputs\u001b[0m\u001b[0;34m)\u001b[0m\u001b[0;34m\u001b[0m\u001b[0m\n\u001b[1;32m   2714\u001b[0m \u001b[0;34m\u001b[0m\u001b[0m\n\u001b[0;32m-> 2715\u001b[0;31m             \u001b[0;32mreturn\u001b[0m \u001b[0mself\u001b[0m\u001b[0;34m.\u001b[0m\u001b[0m_call\u001b[0m\u001b[0;34m(\u001b[0m\u001b[0minputs\u001b[0m\u001b[0;34m)\u001b[0m\u001b[0;34m\u001b[0m\u001b[0m\n\u001b[0m\u001b[1;32m   2716\u001b[0m         \u001b[0;32melse\u001b[0m\u001b[0;34m:\u001b[0m\u001b[0;34m\u001b[0m\u001b[0m\n\u001b[1;32m   2717\u001b[0m             \u001b[0;32mif\u001b[0m \u001b[0mpy_any\u001b[0m\u001b[0;34m(\u001b[0m\u001b[0mis_tensor\u001b[0m\u001b[0;34m(\u001b[0m\u001b[0mx\u001b[0m\u001b[0;34m)\u001b[0m \u001b[0;32mfor\u001b[0m \u001b[0mx\u001b[0m \u001b[0;32min\u001b[0m \u001b[0minputs\u001b[0m\u001b[0;34m)\u001b[0m\u001b[0;34m:\u001b[0m\u001b[0;34m\u001b[0m\u001b[0m\n",
      "\u001b[0;32m~/.local/lib/python3.6/site-packages/keras/backend/tensorflow_backend.py\u001b[0m in \u001b[0;36m_call\u001b[0;34m(self, inputs)\u001b[0m\n\u001b[1;32m   2673\u001b[0m             \u001b[0mfetched\u001b[0m \u001b[0;34m=\u001b[0m \u001b[0mself\u001b[0m\u001b[0;34m.\u001b[0m\u001b[0m_callable_fn\u001b[0m\u001b[0;34m(\u001b[0m\u001b[0;34m*\u001b[0m\u001b[0marray_vals\u001b[0m\u001b[0;34m,\u001b[0m \u001b[0mrun_metadata\u001b[0m\u001b[0;34m=\u001b[0m\u001b[0mself\u001b[0m\u001b[0;34m.\u001b[0m\u001b[0mrun_metadata\u001b[0m\u001b[0;34m)\u001b[0m\u001b[0;34m\u001b[0m\u001b[0m\n\u001b[1;32m   2674\u001b[0m         \u001b[0;32melse\u001b[0m\u001b[0;34m:\u001b[0m\u001b[0;34m\u001b[0m\u001b[0m\n\u001b[0;32m-> 2675\u001b[0;31m             \u001b[0mfetched\u001b[0m \u001b[0;34m=\u001b[0m \u001b[0mself\u001b[0m\u001b[0;34m.\u001b[0m\u001b[0m_callable_fn\u001b[0m\u001b[0;34m(\u001b[0m\u001b[0;34m*\u001b[0m\u001b[0marray_vals\u001b[0m\u001b[0;34m)\u001b[0m\u001b[0;34m\u001b[0m\u001b[0m\n\u001b[0m\u001b[1;32m   2676\u001b[0m         \u001b[0;32mreturn\u001b[0m \u001b[0mfetched\u001b[0m\u001b[0;34m[\u001b[0m\u001b[0;34m:\u001b[0m\u001b[0mlen\u001b[0m\u001b[0;34m(\u001b[0m\u001b[0mself\u001b[0m\u001b[0;34m.\u001b[0m\u001b[0moutputs\u001b[0m\u001b[0;34m)\u001b[0m\u001b[0;34m]\u001b[0m\u001b[0;34m\u001b[0m\u001b[0m\n\u001b[1;32m   2677\u001b[0m \u001b[0;34m\u001b[0m\u001b[0m\n",
      "\u001b[0;32m~/.local/lib/python3.6/site-packages/tensorflow/python/client/session.py\u001b[0m in \u001b[0;36m__call__\u001b[0;34m(self, *args, **kwargs)\u001b[0m\n\u001b[1;32m   1397\u001b[0m           ret = tf_session.TF_SessionRunCallable(\n\u001b[1;32m   1398\u001b[0m               \u001b[0mself\u001b[0m\u001b[0;34m.\u001b[0m\u001b[0m_session\u001b[0m\u001b[0;34m.\u001b[0m\u001b[0m_session\u001b[0m\u001b[0;34m,\u001b[0m \u001b[0mself\u001b[0m\u001b[0;34m.\u001b[0m\u001b[0m_handle\u001b[0m\u001b[0;34m,\u001b[0m \u001b[0margs\u001b[0m\u001b[0;34m,\u001b[0m \u001b[0mstatus\u001b[0m\u001b[0;34m,\u001b[0m\u001b[0;34m\u001b[0m\u001b[0m\n\u001b[0;32m-> 1399\u001b[0;31m               run_metadata_ptr)\n\u001b[0m\u001b[1;32m   1400\u001b[0m         \u001b[0;32mif\u001b[0m \u001b[0mrun_metadata\u001b[0m\u001b[0;34m:\u001b[0m\u001b[0;34m\u001b[0m\u001b[0m\n\u001b[1;32m   1401\u001b[0m           \u001b[0mproto_data\u001b[0m \u001b[0;34m=\u001b[0m \u001b[0mtf_session\u001b[0m\u001b[0;34m.\u001b[0m\u001b[0mTF_GetBuffer\u001b[0m\u001b[0;34m(\u001b[0m\u001b[0mrun_metadata_ptr\u001b[0m\u001b[0;34m)\u001b[0m\u001b[0;34m\u001b[0m\u001b[0m\n",
      "\u001b[0;31mKeyboardInterrupt\u001b[0m: "
     ]
    }
   ],
   "source": [
    "dense_model = Sequential()\n",
    "dense_model.add(LSTM(6))\n",
    "dense_model.add(Dense(units=128, activation='relu', input_shape=(2048,)))\n",
    "dense_model.add(Dropout(0.25))\n",
    "dense_model.add(Dense(units=2, activation='softmax'))\n",
    "\n",
    "dense_model.compile(loss='categorical_crossentropy',\n",
    "             optimizer=Adam(),\n",
    "             metrics=['accuracy'])\n",
    "\n",
    "history = dense_model.fit(X_train,y_train,\n",
    "                    batch_size = 32,\n",
    "                    epochs = 100,\n",
    "                    validation_data=(X_test, y_test))"
   ]
  },
  {
   "cell_type": "code",
   "execution_count": 71,
   "metadata": {},
   "outputs": [],
   "source": [
    "NUM_CHANNELS = 1\n",
    "\n",
    "tf.reset_default_graph()\n",
    "\n",
    "X_input = tf.placeholder(tf.float32, [None, 16, 2048], name='X')\n",
    "labels = tf.placeholder(tf.int32, [None, 2], name='labels')\n",
    "\n",
    "rnn_units = 10\n",
    "basic_cell = tf.nn.rnn_cell.BasicRNNCell(num_units=rnn_units)\n",
    "outputs, states = tf.nn.dynamic_rnn(basic_cell, X_input, dtype=tf.float32)\n",
    "# outputs = tf.reshape(outputs, shape=(tf.shape(outputs)[0] * tf.shape(outputs)[1], rnn_units))\n",
    "\n",
    "\n",
    "\n",
    "outputs = tf.reduce_sum(outputs, axis=1)\n",
    "# weights = tf.ones_like(pool2_flat)\n",
    "# weights = tf.nn.softmax(weights)t\n",
    "\n",
    "# pool2_flat = tf.einsum('ijk, ijk->ik', weights, X)\n",
    "dense = tf.layers.dense(inputs=outputs, units=128, activation=tf.nn.relu)\n",
    "\n",
    "# Logits Layer\n",
    "logits = tf.layers.dense(inputs=dense, units=2)\n",
    "\n",
    "classes = tf.argmax(logits, axis=1)\n",
    "probabilites = tf.nn.softmax(logits, name=\"softmax_tensor\")\n",
    "\n",
    "loss = tf.nn.softmax_cross_entropy_with_logits_v2(labels=labels, logits=logits)\n",
    "\n",
    "optimizer = tf.train.GradientDescentOptimizer(learning_rate=0.0001)\n",
    "train_op = optimizer.minimize(\n",
    "    loss=loss,\n",
    "    global_step=tf.train.get_global_step()\n",
    ")\n",
    "\n",
    "accuracy = tf.reduce_mean(tf.cast(tf.equal(classes, tf.argmax(labels, 1)), tf.float32))\n",
    "\n",
    "init_g = tf.global_variables_initializer()\n",
    "init_l = tf.local_variables_initializer()"
   ]
  },
  {
   "cell_type": "code",
   "execution_count": 72,
   "metadata": {},
   "outputs": [
    {
     "name": "stdout",
     "output_type": "stream",
     "text": [
      "Epoch: 0\n",
      "0.87283236\n",
      "Epoch: 1\n",
      "0.9017341\n",
      "Epoch: 2\n",
      "0.91907513\n",
      "Epoch: 3\n",
      "0.91907513\n",
      "Epoch: 4\n",
      "0.9306358\n",
      "Epoch: 5\n",
      "0.9364162\n",
      "Epoch: 6\n",
      "0.9364162\n",
      "Epoch: 7\n",
      "0.9364162\n",
      "Epoch: 8\n",
      "0.9364162\n",
      "Epoch: 9\n",
      "0.9479769\n"
     ]
    }
   ],
   "source": [
    "X_train, X_test, y_train, y_test = train_test_split(X, y, test_size=0.1, stratify=y)\n",
    "X_train.shape, y_train.shape, X_test.shape, y_test.shape\n",
    "n_epochs = 10\n",
    "batch_size = 32\n",
    "\n",
    "with tf.Session() as sess:\n",
    "    sess.run(init_g)\n",
    "    sess.run(init_l)\n",
    "    \n",
    "        # Training cycle\n",
    "    for epoch in range(n_epochs):\n",
    "        print(\"Epoch:\", epoch)\n",
    "        train_loss = []\n",
    "        for b in range(0, X_train.shape[0], batch_size):\n",
    "            _, acc = sess.run([train_op, accuracy], feed_dict={\n",
    "                                                            X_input: X_train[b:b+batch_size],\n",
    "                                                            labels: y_train[b:b+batch_size]\n",
    "                                                        })\n",
    "#             print(acc)\n",
    "        \n",
    "        _, acc = sess.run([train_op, accuracy], feed_dict={\n",
    "                                                X_input: X_test,\n",
    "                                                labels: y_test\n",
    "                                            })\n",
    "        print(acc)"
   ]
  },
  {
   "cell_type": "markdown",
   "metadata": {},
   "source": [
    "Note to self:\n",
    "\n",
    "I need to use lstm cell (building block) instead of dynamic rnn (unrolled rnn) like here:\n",
    "\n",
    "    for t in range(self.T):\n",
    "            context, alpha = self._attention_layer(features, features_proj, h, reuse=(t!=0))\n",
    "            alpha_list.append(alpha)\n",
    "\n",
    "            if self.selector:\n",
    "                context, beta = self._selector(context, h, reuse=(t!=0))\n",
    "\n",
    "            with tf.variable_scope('lstm', reuse=(t!=0)):\n",
    "                _, (c, h) = lstm_cell(inputs=tf.concat( [x[:,t,:], context],1), state=[c, h])\n",
    "\n",
    "            logits = self._decode_lstm(x[:,t,:], h, context, dropout=self.dropout, reuse=(t!=0))\n",
    "\n",
    "            loss += tf.reduce_sum(tf.nn.sparse_softmax_cross_entropy_with_logits(labels=captions_out[:, t],logits=logits)*mask[:, t] )\n",
    "            \n",
    "So that I can take the output of the lstm at each step and feed it to my attention network"
   ]
  },
  {
   "cell_type": "code",
   "execution_count": null,
   "metadata": {},
   "outputs": [],
   "source": []
  }
 ],
 "metadata": {
  "kernelspec": {
   "display_name": "Python 3",
   "language": "python",
   "name": "python3"
  },
  "language_info": {
   "codemirror_mode": {
    "name": "ipython",
    "version": 3
   },
   "file_extension": ".py",
   "mimetype": "text/x-python",
   "name": "python",
   "nbconvert_exporter": "python",
   "pygments_lexer": "ipython3",
   "version": "3.6.6"
  }
 },
 "nbformat": 4,
 "nbformat_minor": 2
}
